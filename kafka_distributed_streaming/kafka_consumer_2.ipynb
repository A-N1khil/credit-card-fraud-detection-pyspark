{
 "cells": [
  {
   "cell_type": "code",
   "id": "initial_id",
   "metadata": {
    "collapsed": true,
    "ExecuteTime": {
     "end_time": "2024-12-06T23:31:05.795420Z",
     "start_time": "2024-12-06T23:31:05.660028Z"
    }
   },
   "source": [
    "import os\n",
    "\n",
    "from pyspark.sql import SparkSession, DataFrame\n",
    "from pyspark.sql.functions import from_json, col\n",
    "from pyspark.sql.types import StructType, StructField, DoubleType, StringType\n",
    "\n",
    "from logs.CustomLogger import CustomLogger\n",
    "\n",
    "%load_ext autoreload\n",
    "%autoreload 2"
   ],
   "outputs": [],
   "execution_count": 1
  },
  {
   "metadata": {},
   "cell_type": "markdown",
   "source": "We need to set the environment variables before creating the Spark session. We can do this by setting the `PYSPARK_SUBMIT_ARGS` environment variable to include the necessary Kafka package. We can then create a Spark session using the `SparkSession` class.",
   "id": "b0835b41d35e3de2"
  },
  {
   "metadata": {
    "ExecuteTime": {
     "end_time": "2024-12-06T23:31:05.813007Z",
     "start_time": "2024-12-06T23:31:05.801627Z"
    }
   },
   "cell_type": "code",
   "source": [
    "# Set the necessary Spark environment variables\n",
    "os.environ['PYSPARK_SUBMIT_ARGS'] = '--packages org.apache.spark:spark-sql-kafka-0-10_2.12:3.4.1 pyspark-shell'"
   ],
   "id": "8369743b0dd52c21",
   "outputs": [],
   "execution_count": 2
  },
  {
   "metadata": {},
   "cell_type": "markdown",
   "source": "# Setup the Logger",
   "id": "a0a13167bf697ae6"
  },
  {
   "metadata": {
    "ExecuteTime": {
     "end_time": "2024-12-06T23:31:06.087297Z",
     "start_time": "2024-12-06T23:31:05.894625Z"
    }
   },
   "cell_type": "code",
   "source": "logger = CustomLogger(\"KafkaConsumer2\")",
   "id": "678bd9c79d41a25a",
   "outputs": [
    {
     "name": "stdout",
     "output_type": "stream",
     "text": [
      "Logger is set up. Check producer.log for logs.\n"
     ]
    }
   ],
   "execution_count": 3
  },
  {
   "metadata": {
    "ExecuteTime": {
     "end_time": "2024-12-06T23:31:08.913079Z",
     "start_time": "2024-12-06T23:31:06.225020Z"
    }
   },
   "cell_type": "code",
   "source": [
    "spark = SparkSession.builder \\\n",
    "    .appName(\"KafkaConsumer\") \\\n",
    "    .getOrCreate()"
   ],
   "id": "d8968635ac3ac996",
   "outputs": [
    {
     "name": "stderr",
     "output_type": "stream",
     "text": [
      "24/12/06 18:31:07 WARN Utils: Your hostname, Nikhils-MacBook-Pro.local resolves to a loopback address: 127.0.0.1; using 10.0.0.206 instead (on interface en0)\n",
      "24/12/06 18:31:07 WARN Utils: Set SPARK_LOCAL_IP if you need to bind to another address\n",
      "Ivy Default Cache set to: /Users/nikanand/.ivy2/cache\n",
      "The jars for the packages stored in: /Users/nikanand/.ivy2/jars\n",
      "org.apache.spark#spark-sql-kafka-0-10_2.12 added as a dependency\n",
      ":: resolving dependencies :: org.apache.spark#spark-submit-parent-9384c8dc-8bd3-4384-a059-9b8563c43f8b;1.0\n",
      "\tconfs: [default]\n"
     ]
    },
    {
     "name": "stdout",
     "output_type": "stream",
     "text": [
      ":: loading settings :: url = jar:file:/opt/anaconda3/lib/python3.11/site-packages/pyspark/jars/ivy-2.5.1.jar!/org/apache/ivy/core/settings/ivysettings.xml\n"
     ]
    },
    {
     "name": "stderr",
     "output_type": "stream",
     "text": [
      "\tfound org.apache.spark#spark-sql-kafka-0-10_2.12;3.4.1 in central\n",
      "\tfound org.apache.spark#spark-token-provider-kafka-0-10_2.12;3.4.1 in central\n",
      "\tfound org.apache.kafka#kafka-clients;3.3.2 in central\n",
      "\tfound org.lz4#lz4-java;1.8.0 in local-m2-cache\n",
      "\tfound org.xerial.snappy#snappy-java;1.1.10.1 in central\n",
      "\tfound org.slf4j#slf4j-api;2.0.6 in central\n",
      "\tfound org.apache.hadoop#hadoop-client-runtime;3.3.4 in central\n",
      "\tfound org.apache.hadoop#hadoop-client-api;3.3.4 in central\n",
      "\tfound commons-logging#commons-logging;1.1.3 in central\n",
      "\tfound com.google.code.findbugs#jsr305;3.0.0 in central\n",
      "\tfound org.apache.commons#commons-pool2;2.11.1 in central\n",
      ":: resolution report :: resolve 175ms :: artifacts dl 8ms\n",
      "\t:: modules in use:\n",
      "\tcom.google.code.findbugs#jsr305;3.0.0 from central in [default]\n",
      "\tcommons-logging#commons-logging;1.1.3 from central in [default]\n",
      "\torg.apache.commons#commons-pool2;2.11.1 from central in [default]\n",
      "\torg.apache.hadoop#hadoop-client-api;3.3.4 from central in [default]\n",
      "\torg.apache.hadoop#hadoop-client-runtime;3.3.4 from central in [default]\n",
      "\torg.apache.kafka#kafka-clients;3.3.2 from central in [default]\n",
      "\torg.apache.spark#spark-sql-kafka-0-10_2.12;3.4.1 from central in [default]\n",
      "\torg.apache.spark#spark-token-provider-kafka-0-10_2.12;3.4.1 from central in [default]\n",
      "\torg.lz4#lz4-java;1.8.0 from local-m2-cache in [default]\n",
      "\torg.slf4j#slf4j-api;2.0.6 from central in [default]\n",
      "\torg.xerial.snappy#snappy-java;1.1.10.1 from central in [default]\n",
      "\t---------------------------------------------------------------------\n",
      "\t|                  |            modules            ||   artifacts   |\n",
      "\t|       conf       | number| search|dwnlded|evicted|| number|dwnlded|\n",
      "\t---------------------------------------------------------------------\n",
      "\t|      default     |   11  |   0   |   0   |   0   ||   11  |   0   |\n",
      "\t---------------------------------------------------------------------\n",
      ":: retrieving :: org.apache.spark#spark-submit-parent-9384c8dc-8bd3-4384-a059-9b8563c43f8b\n",
      "\tconfs: [default]\n",
      "\t0 artifacts copied, 11 already retrieved (0kB/5ms)\n",
      "24/12/06 18:31:07 WARN NativeCodeLoader: Unable to load native-hadoop library for your platform... using builtin-java classes where applicable\n",
      "Setting default log level to \"WARN\".\n",
      "To adjust logging level use sc.setLogLevel(newLevel). For SparkR, use setLogLevel(newLevel).\n",
      "24/12/06 18:31:08 WARN Utils: Service 'SparkUI' could not bind on port 4040. Attempting port 4041.\n",
      "24/12/06 18:31:08 WARN Utils: Service 'SparkUI' could not bind on port 4041. Attempting port 4042.\n"
     ]
    }
   ],
   "execution_count": 4
  },
  {
   "metadata": {},
   "cell_type": "markdown",
   "source": [
    "# Create a schema for the data\n",
    "The data we are going to consume from Kafka is a JSON string that contains the following fields"
   ],
   "id": "ee816b0395e7986c"
  },
  {
   "metadata": {
    "ExecuteTime": {
     "end_time": "2024-12-06T23:31:08.948597Z",
     "start_time": "2024-12-06T23:31:08.937390Z"
    }
   },
   "cell_type": "code",
   "source": [
    "schema = StructType([\n",
    "    StructField(\"Time\", DoubleType(), True),\n",
    "    StructField(\"V1\", DoubleType(), True),\n",
    "    StructField(\"V2\", DoubleType(), True),\n",
    "    StructField(\"V3\", DoubleType(), True),\n",
    "    StructField(\"V4\", DoubleType(), True),\n",
    "    StructField(\"V5\", DoubleType(), True),\n",
    "    StructField(\"V6\", DoubleType(), True),\n",
    "    StructField(\"V7\", DoubleType(), True),\n",
    "    StructField(\"V8\", DoubleType(), True),\n",
    "    StructField(\"V9\", DoubleType(), True),\n",
    "    StructField(\"V10\", DoubleType(), True),\n",
    "    StructField(\"V11\", DoubleType(), True),\n",
    "    StructField(\"V12\", DoubleType(), True),\n",
    "    StructField(\"V13\", DoubleType(), True),\n",
    "    StructField(\"V14\", DoubleType(), True),\n",
    "    StructField(\"V15\", DoubleType(), True),\n",
    "    StructField(\"V16\", DoubleType(), True),\n",
    "    StructField(\"V17\", DoubleType(), True),\n",
    "    StructField(\"V18\", DoubleType(), True),\n",
    "    StructField(\"V19\", DoubleType(), True),\n",
    "    StructField(\"V20\", DoubleType(), True),\n",
    "    StructField(\"V21\", DoubleType(), True),\n",
    "    StructField(\"V22\", DoubleType(), True),\n",
    "    StructField(\"V23\", DoubleType(), True),\n",
    "    StructField(\"V24\", DoubleType(), True),\n",
    "    StructField(\"V25\", DoubleType(), True),\n",
    "    StructField(\"V26\", DoubleType(), True),\n",
    "    StructField(\"V27\", DoubleType(), True),\n",
    "    StructField(\"V28\", DoubleType(), True),\n",
    "    StructField(\"Amount\", DoubleType(), True),\n",
    "    StructField(\"Class\", StringType(), True)\n",
    "])\n",
    "logger.info(f\"Schema created: {schema}\")"
   ],
   "id": "23f2a63df8d572e9",
   "outputs": [],
   "execution_count": 5
  },
  {
   "metadata": {},
   "cell_type": "markdown",
   "source": [
    "# Consume data from Kafka\n",
    "We can consume data from Kafka using the `readStream` method of the `SparkSession` object. We need to specify the Kafka server and the topic to consume data from. We can then parse the value as JSON (if applicable) and write the parsed data to the console."
   ],
   "id": "a080a4292d3af620"
  },
  {
   "metadata": {
    "ExecuteTime": {
     "end_time": "2024-12-06T23:31:09.949333Z",
     "start_time": "2024-12-06T23:31:08.960267Z"
    }
   },
   "cell_type": "code",
   "source": [
    "df = spark \\\n",
    "    .readStream \\\n",
    "    .format(\"kafka\") \\\n",
    "    .option(\"kafka.bootstrap.servers\", \"localhost:9092\") \\\n",
    "    .option(\"subscribe\", \"distributed_transactions\") \\\n",
    "    .option(\"startingOffsets\", \"latest\") \\\n",
    "    .option(\"failOnDataLoss\", \"false\") \\\n",
    "    .option(\"kafka.group.id\", \"distributed_transactions\") \\\n",
    "    .load()"
   ],
   "id": "90c45f57ea77bed7",
   "outputs": [
    {
     "name": "stderr",
     "output_type": "stream",
     "text": [
      "24/12/06 18:31:09 WARN KafkaSourceProvider: Kafka option 'kafka.group.id' has been set on this query, it is\n",
      " not recommended to set this option. This option is unsafe to use since multiple concurrent\n",
      " queries or sources using the same group id will interfere with each other as they are part\n",
      " of the same consumer group. Restarted queries may also suffer interference from the\n",
      " previous run having the same group id. The user should have only one query per group id,\n",
      " and/or set the option 'kafka.session.timeout.ms' to be very small so that the Kafka\n",
      " consumers from the previous query are marked dead by the Kafka group coordinator before the\n",
      " restarted query starts running.\n",
      "    \n"
     ]
    }
   ],
   "execution_count": 6
  },
  {
   "metadata": {
    "ExecuteTime": {
     "end_time": "2024-12-06T23:31:10.163620Z",
     "start_time": "2024-12-06T23:31:09.967668Z"
    }
   },
   "cell_type": "code",
   "source": [
    "# Parse the value as JSON (if applicable)\n",
    "parsed_df = df.selectExpr(\"CAST(value AS STRING)\") \\\n",
    "    .select(from_json(col(\"value\"), schema).alias(\"data\")) \\\n",
    "    .select(\"data.*\")"
   ],
   "id": "56674279dfd6bf6a",
   "outputs": [
    {
     "name": "stderr",
     "output_type": "stream",
     "text": [
      "24/12/06 18:31:10 WARN package: Truncated the string representation of a plan since it was too large. This behavior can be adjusted by setting 'spark.sql.debug.maxToStringFields'.\n"
     ]
    }
   ],
   "execution_count": 7
  },
  {
   "metadata": {},
   "cell_type": "markdown",
   "source": [
    "## Getting parsed data from Kafka\n",
    "In order to use the transactions data in order for our model to run predictions, we need to save the parsed data in a form that our pipeline can understand and use. We can do this by saving the parsed data"
   ],
   "id": "ca1b73cd23a0a68a"
  },
  {
   "metadata": {
    "ExecuteTime": {
     "end_time": "2024-12-06T23:31:13.597119Z",
     "start_time": "2024-12-06T23:31:10.176963Z"
    }
   },
   "cell_type": "code",
   "source": [
    "from pipeline.pipeline import CustomPipeline\n",
    "\n",
    "model_path = \"./../models/credit_card_fraud_detection_model\"\n",
    "pipeline_path = \"./../pipeline/credit_card_fraud_detection_pipeline\"\n",
    "pipeline = CustomPipeline(model_path, pipeline_path)\n",
    "cols = ['Time', 'V1', 'V2', 'V3', 'V4', 'V5', 'V6', 'V7', 'V8', 'V9', 'V10',\n",
    "        'V11', 'V12', 'V13', 'V14', 'V15', 'V16', 'V17', 'V18', 'V19', 'V20',\n",
    "        'V21', 'V22', 'V23', 'V24', 'V25', 'V26', 'V27', 'V28', 'Amount']\n",
    "pipeline.create_pipeline(cols=cols)\n",
    "# predictions = []"
   ],
   "id": "33d17599f1f35017",
   "outputs": [
    {
     "name": "stdout",
     "output_type": "stream",
     "text": [
      "Loading pipeline model from ./../pipeline/credit_card_fraud_detection_pipeline\n"
     ]
    },
    {
     "name": "stderr",
     "output_type": "stream",
     "text": [
      "WARNING: An illegal reflective access operation has occurred                    \n",
      "WARNING: Illegal reflective access by org.apache.spark.util.SizeEstimator$ (file:/opt/anaconda3/lib/python3.11/site-packages/pyspark/jars/spark-core_2.12-3.4.1.jar) to field java.math.BigInteger.mag\n",
      "WARNING: Please consider reporting this to the maintainers of org.apache.spark.util.SizeEstimator$\n",
      "WARNING: Use --illegal-access=warn to enable warnings of further illegal reflective access operations\n",
      "WARNING: All illegal access operations will be denied in a future release\n"
     ]
    },
    {
     "name": "stdout",
     "output_type": "stream",
     "text": [
      "Pipeline created.\n"
     ]
    }
   ],
   "execution_count": 8
  },
  {
   "metadata": {},
   "cell_type": "markdown",
   "source": [
    "# Predictions\n",
    "First, we create an empty dataframe to hold our predictions. We then define a function that processes the records in the parsed data. The function takes a dataframe and an epoch id as arguments. We then collect the rows from the dataframe and check if there are any rows. If there are rows, we transform the dataframe using the pipeline and collect the rows from the predictions. We then print the predictions."
   ],
   "id": "3d4da630eb6cf81a"
  },
  {
   "metadata": {
    "ExecuteTime": {
     "end_time": "2024-12-06T23:31:14.053565Z",
     "start_time": "2024-12-06T23:31:13.633659Z"
    }
   },
   "cell_type": "code",
   "source": "prediction_records_holder = [spark.createDataFrame([], StructType([]))]",
   "id": "50667db68edaea01",
   "outputs": [],
   "execution_count": 9
  },
  {
   "metadata": {
    "ExecuteTime": {
     "end_time": "2024-12-06T23:31:14.070048Z",
     "start_time": "2024-12-06T23:31:14.060489Z"
    }
   },
   "cell_type": "code",
   "source": [
    "from functools import partial\n",
    "\n",
    "def process_record(df, id, prediction_records_holder, verbose=False):\n",
    "    rows = df.collect()\n",
    "    logger.info(f\"Processing {rows} records\")\n",
    "    if len(rows) != 0:\n",
    "        # Do no do anything if there are no rows\n",
    "        predictions = pipeline.transform(df)\n",
    "        logger.info(f\"Predictions: {predictions}\")\n",
    "\n",
    "        # Append the predictions to the prediction_records DataFrame\n",
    "        updated_prediction_records = prediction_records_holder[0].unionByName(predictions, allowMissingColumns=True)\n",
    "        prediction_records_holder[0] = updated_prediction_records\n",
    "\n",
    "        # Print or process the predictions if verbose is set to True\n",
    "        if verbose:\n",
    "            # Convert the predictions DataFrame to a list of dictionaries\n",
    "            rows = predictions.collect()\n",
    "            for row in rows:\n",
    "                print(row.asDict())\n",
    "\n",
    "process_record_with_params = partial(process_record, prediction_records_holder=prediction_records_holder, verbose=False)"
   ],
   "id": "d19329c1f9644873",
   "outputs": [],
   "execution_count": 10
  },
  {
   "metadata": {},
   "cell_type": "markdown",
   "source": "Set `verbose=True` to print the predictions as they happen",
   "id": "d87d439d4452faa"
  },
  {
   "metadata": {
    "jupyter": {
     "is_executing": true
    },
    "ExecuteTime": {
     "start_time": "2024-12-06T23:31:51.462728Z"
    }
   },
   "cell_type": "code",
   "source": [
    "# Modify the query to use foreachBatch\n",
    "query = parsed_df.writeStream \\\n",
    "    .outputMode(\"append\") \\\n",
    "    .foreachBatch(process_record_with_params) \\\n",
    "    .start()\n",
    "\n",
    "query.awaitTermination()"
   ],
   "id": "d7eeaef353653f30",
   "outputs": [
    {
     "name": "stderr",
     "output_type": "stream",
     "text": [
      "24/12/06 18:31:51 WARN ResolveWriteToStream: Temporary checkpoint location created which is deleted normally when the query didn't fail: /private/var/folders/fn/0_yk91x94834b2xtx5nmcsqh0000gn/T/temporary-6746df67-f241-4c21-a7ef-8baeebb0fd98. If it's required to delete it under any circumstances, please set spark.sql.streaming.forceDeleteTempCheckpointLocation to true. Important to know deleting temp checkpoint folder is best effort.\n",
      "24/12/06 18:31:51 WARN ResolveWriteToStream: spark.sql.adaptive.enabled is not supported in streaming DataFrames/Datasets and will be disabled.\n",
      "24/12/06 18:31:51 WARN KafkaSourceProvider: Kafka option 'kafka.group.id' has been set on this query, it is\n",
      " not recommended to set this option. This option is unsafe to use since multiple concurrent\n",
      " queries or sources using the same group id will interfere with each other as they are part\n",
      " of the same consumer group. Restarted queries may also suffer interference from the\n",
      " previous run having the same group id. The user should have only one query per group id,\n",
      " and/or set the option 'kafka.session.timeout.ms' to be very small so that the Kafka\n",
      " consumers from the previous query are marked dead by the Kafka group coordinator before the\n",
      " restarted query starts running.\n",
      "    \n",
      "24/12/06 18:31:52 WARN AdminClientConfig: These configurations '[key.deserializer, value.deserializer, enable.auto.commit, max.poll.records, group.id, auto.offset.reset]' were supplied but are not used yet.\n"
     ]
    }
   ],
   "execution_count": null
  },
  {
   "metadata": {},
   "cell_type": "markdown",
   "source": "Now we stop the query to check the predictions",
   "id": "c108babd9497affc"
  },
  {
   "metadata": {
    "ExecuteTime": {
     "end_time": "2024-12-06T22:27:16.555981Z",
     "start_time": "2024-12-06T22:27:16.450169Z"
    }
   },
   "cell_type": "code",
   "source": "query.stop()",
   "id": "c2960eaf11e24fd4",
   "outputs": [],
   "execution_count": 11
  },
  {
   "metadata": {
    "ExecuteTime": {
     "end_time": "2024-12-06T22:27:29.524577Z",
     "start_time": "2024-12-06T22:27:19.344657Z"
    }
   },
   "cell_type": "code",
   "source": [
    "predictions = prediction_records_holder[0]\n",
    "print(f\"Number of predictions: {predictions.count()}\")\n",
    "predictions.show(n=predictions.count())"
   ],
   "id": "e1b2c5a0abbbbaa4",
   "outputs": [
    {
     "name": "stderr",
     "output_type": "stream",
     "text": [
      "24/12/06 17:27:20 WARN DAGScheduler: Broadcasting large task binary with size 1027.2 KiB\n",
      "24/12/06 17:27:24 WARN DAGScheduler: Broadcasting large task binary with size 1027.2 KiB\n"
     ]
    },
    {
     "name": "stdout",
     "output_type": "stream",
     "text": [
      "Number of predictions: 57\n"
     ]
    },
    {
     "name": "stderr",
     "output_type": "stream",
     "text": [
      "24/12/06 17:27:26 WARN DAGScheduler: Broadcasting large task binary with size 4.2 MiB\n",
      "24/12/06 17:27:26 WARN DAGScheduler: Broadcasting large task binary with size 4.2 MiB\n",
      "24/12/06 17:27:27 WARN DAGScheduler: Broadcasting large task binary with size 4.2 MiB\n",
      "24/12/06 17:27:28 WARN DAGScheduler: Broadcasting large task binary with size 4.2 MiB\n",
      "[Stage 83:======================================================> (39 + 1) / 40]\r"
     ]
    },
    {
     "name": "stdout",
     "output_type": "stream",
     "text": [
      "+--------+-------------------+-------------------+------------------+-------------------+-------------------+-------------------+--------------------+-------------------+------------------+-------------------+-------------------+-------------------+------------------+------------------+-------------------+-------------------+------------------+-------------------+-------------------+-------------------+--------------------+-------------------+-------------------+--------------------+--------------------+--------------------+--------------------+--------------------+------+-----+--------------------+--------------------+--------------------+--------------------+----------+\n",
      "|    Time|                 V1|                 V2|                V3|                 V4|                 V5|                 V6|                  V7|                 V8|                V9|                V10|                V11|                V12|               V13|               V14|                V15|                V16|               V17|                V18|                V19|                V20|                 V21|                V22|                V23|                 V24|                 V25|                 V26|                 V27|                 V28|Amount|Class|            features|     scaled_features|       rawPrediction|         probability|prediction|\n",
      "+--------+-------------------+-------------------+------------------+-------------------+-------------------+-------------------+--------------------+-------------------+------------------+-------------------+-------------------+-------------------+------------------+------------------+-------------------+-------------------+------------------+-------------------+-------------------+-------------------+--------------------+-------------------+-------------------+--------------------+--------------------+--------------------+--------------------+--------------------+------+-----+--------------------+--------------------+--------------------+--------------------+----------+\n",
      "| 23795.0| -0.591305552924587|    1.2566420384451|  1.02082347462088|   1.20828281077714|  0.713877522980111| -0.479715195832941|   0.855666965539225|  -0.29806269659165|  0.46003794058849| -0.308800160578777|  0.711998598492308|  -2.62815762833845|   1.5171597933307|  1.95856552932903|  0.536377385180344|  -1.04299521613261|  1.05788282338353| -0.248119996881906|  0.322488726496967| -0.111388552926311|  0.0187339338344172|  0.327823380302478| -0.201022338121271|  0.0291894699003152| -0.0878519043162661|  -0.257614495228371|  -0.135534991663887|   0.148956177604722| 11.39|    0|[23795.0,-0.59130...|[0.50089004545901...|[15.4665086641540...|[0.77332543320770...|       0.0|\n",
      "| 37960.0|   1.22581581744885| -0.794286852013415| 0.796850575136549|  -0.73522202127834|  -1.26806774469587| -0.241332736464998|  -0.951123159489164|  0.188550825079165|-0.743754818544826|  0.741155466633993|   1.70478916465739| -0.261151472560249|-0.914745585527803| 0.169658870414049|  0.594373147536773|   1.25359035128781| 0.309797609098534|  -1.22252863749493|  0.328065041753004| 0.0530216864119365|   0.144345867723477|  0.188033874117432|  0.103447911957141|   0.202449610291346|  0.0754498625771863|   -0.36747470393622|  0.0224985844755719|   0.017680369487506| 43.38|    0|[37960.0,1.225815...|[0.79906644780937...|[19.0288542911447...|[0.95144271455723...|       0.0|\n",
      "| 39241.0|  -1.19884814478299|  0.778913099732473|  2.12580405463438|-0.0476205839475379| -0.652995394418597|  0.750621988341596|  -0.549930792762761|   1.03997786885336| 0.115606805299267| -0.664586416346967|  0.354264333985213| 0.0810344780290032| -1.57300692204935| 0.289617148440097|  -0.23176738222044|  0.211852147439569|0.0535914278190268|  0.321144977625066|  0.241137298057796|-0.0724895030448271|-0.00368191312915266| 0.0300970018184195| -0.206622450210449|  -0.307482899134885|   0.142328556772918|   0.407038458730891|   0.177335297599764|  0.0488634645237116|  6.49|    0|[39241.0,-1.19884...|[0.82603178288956...|[18.8664916537820...|[0.94332458268910...|       0.0|\n",
      "| 51393.0|   1.40230466898102| -0.416751165947618|-0.248407333388429| -0.695557776273848| -0.543300884669767| -0.955086061339831|  -0.177325634056391| -0.210208743914309|-0.992640043471501|  0.673503782024286| -0.192251466976407|  -1.10742953445159|-0.983055337411411| 0.358807354593132|  0.793959970207068|  0.485334517711485| 0.747854466852914|  -1.91685631809499|  0.283890005435143|-0.0332019585580585|   0.206288659343112|  0.508937022602326| -0.122592026686741|   0.099903294099773|   0.683235607359703| -0.0521920661334584| -0.0197452655382408|-0.00347769797867743|  15.0|    0|[51393.0,1.402304...|[1.08183408725678...|[19.0764630658536...|[0.95382315329268...|       0.0|\n",
      "| 55663.0|  0.302612701858678|  -1.31332385346723| 0.784221987546672|   1.36315057819939| -0.936359006819617|  0.979759040064593|  -0.331079418736897|  0.399721138564234| 0.266794963731163|-0.0817632642022692|   1.60522025046849|  0.778968729106345|-0.413391865591405| 0.390975175570565|   1.31859388293945|  0.365780661509708|-0.357744526400069| 0.0912291511847996|  -1.26770209764006|  0.576845603521974|   0.453288709386449|  0.484743125265616| -0.296613512948013|  -0.279398236821098| 0.00644989209057354|  -0.344072031700519|  0.0173298375117226|  0.0896545205809209| 390.0|    0|[55663.0,0.302612...|[1.17171853752406...|[17.2048570671574...|[0.86024285335786...|       0.0|\n",
      "| 56393.0|  0.903730136405436|  -1.66933078270098| 0.312550915120664|  -2.35179036591906|  -1.81477583567554|  -1.02908220631443|  -0.410906718187935| -0.227632362586448| 0.964062984596178| -0.968759057480245|  0.336907250814396|   1.40377873837542| 0.987806574618965|-0.161691081765736|   1.43311340159817|  -3.06334898967404| 0.798592570233036|  0.746696713343952| -0.209834741630126|-0.0517630772682239|  -0.148732255963398|-0.0931961122986754| -0.159049385537306|    0.63737925805943|   0.423282099873888|  -0.763127823232957|  0.0892736780350701|  0.0726823810910926|229.96|    0|[56393.0,0.903730...|[1.18708519998193...|[18.8664916537820...|[0.94332458268910...|       0.0|\n",
      "| 67557.0|  -4.31173606670924|  -4.18365274148876| 0.713906332318775|  -1.85641467384222|  0.738959250481736|   -3.0986788266335|  -0.937906170004483|-0.0453565657099879| 0.186179345592317|  -0.56358158926984|-0.0227369384810085|   1.00270317568724|  1.64906192543591| -0.28529419519271|   1.20398924964509|   -1.4345463732729|-0.203684044810958|   1.40032039118129| -0.583614125063466|  -2.32518299409694|  -0.601947363219017|   1.02083909069037|   3.30744129415253|   0.952379909582233|   0.198559362940514| -0.0531300748694331|   0.830494731221593|  -0.511088061311795| 15.13|    0|[67557.0,-4.31173...|[1.42208988447466...|[17.8142915466679...|[0.89071457733339...|       0.0|\n",
      "| 67721.0|   1.18180528935989|  0.272386952425076|  0.40127533195488|  0.727371477704355| -0.383405426246961| -0.797341496346555|-0.00562487840390658|-0.0644592406239948|0.0664886519414149| -0.317485609007777|  0.378154570332151|  0.215190649628829|-0.249831834076853|-0.159151702488576|   1.36645413382229|  0.110448424899607| 0.414395476200891| -0.804417963000993|  -0.67811036047229| -0.140106651716997|  -0.240626567871049| -0.690532767722799|  0.200201344072725|   0.349321021010576|  0.0847600184883079|   0.104817634323621|-0.00957005507331966|  0.0305861855649775|  5.99|    0|[67721.0,1.181805...|[1.42554212097204...|[19.0288542911447...|[0.95144271455723...|       0.0|\n",
      "| 70180.0|   1.17225653299504|   0.75797222445426| -0.21606091164189|   1.36836653179742|  0.201538730594098| -0.936726033274122|   0.308821804970573| -0.184312552948833|-0.267753245278351| -0.755416220846835|  0.806758522123598|  0.606621217385913| 0.859398452117948| -1.48652382297131|   1.20827134202279|  0.162207448546559|  1.23427235762339|-0.0848253393342518|  -1.11330264546317|-0.0765304515251816|-0.00724712698178824|  0.133898613101313|-0.0657641065340047|   0.294082712517333|   0.608535207195372|  -0.321221223349713|   0.058667543279597|  0.0595305290625045|   1.0|    0|[70180.0,1.172256...|[1.47730461821027...|[14.5699351715714...|[0.72849675857857...|       0.0|\n",
      "| 71984.0|   1.28240449005845|  0.459864448485071|-0.372285843841081|  0.826375230198797|  0.463567933906412| -0.466406979345697|   0.460867068619088| -0.186469227683688|-0.549700348247657|  0.203961346650834|    0.7876629553134|   0.88276965167727| 0.417271196275899| 0.642624756063035|-0.0104237454816678|  0.161874914105341|-0.835297939325353|  0.302139195091954|  0.293009788618166|-0.0967514494426412|  0.0139857027658827| 0.0838961383402962| -0.247503679005312|  -0.325526679097831|   0.927292888692591|  -0.272554785020257| -0.0101678632825408|-0.00533248686039493|  1.79|    0|[71984.0,1.282404...|[1.51527921968151...|[18.8664916537820...|[0.94332458268910...|       0.0|\n",
      "| 84993.0|   1.18218285797283|   1.29957590597228| -1.46676588753535|   1.66921572788703|  0.909957966613687|  -1.53608935528963|   0.740337037633418| -0.298283847982639|-0.550702773065243|  -1.60990789013012|   1.42222506015234|-0.0145759538262275| 0.298544167473291| -3.43280721526505|   1.24262088129765|  0.623851392984564|  3.07515754550751|  0.714659225116208|  -1.32266465667074|-0.0462051174712529|  -0.155517585157793| -0.288590423970298| -0.144639644833632|  0.0893512563174199|   0.758615806274355|  -0.286458676243061|  0.0602557249469829|  0.0979466415279029|  0.89|    0|[84993.0,1.182182...|[1.78912156476982...|[8.29607254812394...|[0.41480362740619...|       1.0|\n",
      "| 86106.0|    1.1484791634773|-0.0855043298540206|  1.12018862695968|  0.886069777213722|  -0.84842972756563| -0.125358887349924|   -0.50655269972007| 0.0839901576649421| 0.698037247603741| -0.269285273840362| -0.142561171121166|  0.933753386887099| 0.586814375476338|-0.410327118762167|  0.229347121981365| -0.433195963320631| 0.246456080468459| -0.814856893344375| -0.547123181227701| -0.122516926862431|   0.112534208917773|  0.635955722097187| -0.035724795602587|   0.486161477553963|   0.399646638681492|   0.518379197508751|   0.027265917148768|  0.0189444381629414|   1.0|    0|[86106.0,1.148479...|[1.81255046246244...|[19.0288542911447...|[0.95144271455723...|       0.0|\n",
      "|109498.0|   1.28738521602202|  -1.46331326570463| 0.823257203969644|   2.26713154410313|  -1.57056457792601|  0.895305648716946|   -1.12142377991065|  0.197642195688378|  3.53093942181783| -0.717956141568877| -0.727316573654063|  -1.17390740006136|  2.50717524205849| 0.062947897814676|  -2.36154612838333| -0.320058468165956| 0.704217449055404|  0.307467466501083| -0.522162857090643|  0.303508899481569|   0.154472025290615|  0.694435136932512|  -0.11918754275562|-0.00828700252988992|   -0.24037128810953|  -0.542643029397116|  0.0641368875869371|  0.0266285512167172|290.72|    0|[109498.0,1.28738...|[2.30495726823581...|[16.5578650864351...|[0.82789325432175...|       0.0|\n",
      "|110946.0|  -0.48982169745568|  0.857239836594513|  2.41429021060998| -0.110509955459603|    0.1379522707006| -0.356501274092491|   0.552493762332553| -0.292695855532776|   1.4718963132562|  -1.14449973312461|  0.315941319988429|   -2.4494417897678|   1.9464548126926|  1.19326274373333|  0.567796273036647|  -0.29177460332048| 0.284622493027006|  0.482136459903801|  0.536220075514406| 0.0781299335650252|   -0.30579205917058| -0.409059012025233| -0.307411080049224| -0.0492654174253882|    0.27312578970003|  -0.731415504449761| -0.0777941267957465|  -0.145053486978408|  2.12|    0|[110946.0,-0.4898...|[2.33543799048101...|[19.0082198941006...|[0.95041099470503...|       0.0|\n",
      "|114527.0|   -1.5865994918527|  0.368970527173987| 0.506556947479199| -0.423811341868944|0.00676643578006709|   3.09073624320382|    2.51051469433455|  0.266484832908031|-0.205539250290174|  -1.29004045855583|   1.01386649753492| -0.180471517970909|-0.763109338178865| -1.31566079562129|    0.2980361247085|  0.571089252156999| 0.241709306336246|-0.0706731270590412|  -1.71603658279812| 0.0718028758609177|  -0.325465977506824| -0.617900835203473|  0.164456563140737|   -1.14712437889995|   0.460254561779242|  -0.869526047769543|   0.248205321560734|  -0.194397003887245| 472.4|    0|[114527.0,-1.5865...|[2.41081883741477...|[15.0113907444090...|[0.75056953722045...|       0.0|\n",
      "|125569.0|  -0.63006622433099|   1.00599532422686| 0.057988476099039| -0.651695154464555|  0.965086111302013| -0.788620502228895|    0.97159931179168| -0.143753432026755|-0.365814524080383| -0.978263970570833|  0.854814066159247| -0.119257725361654|-0.698008718700616|-0.773195927006962|  0.106689899657371|  0.570383237915982|0.0885584179954977|   1.34545650913116|-0.0463718269979165| -0.143029904587096|   0.197215523571376|  0.470090648096995| -0.613596458105442|   -0.49663863505794|    1.17614607887092|   0.023392307932667|  -0.387296413623819| -0.0844546237427351|  19.3|    0|[125569.0,-0.6300...|[2.64325539475700...|[18.8664916537820...|[0.94332458268910...|       0.0|\n",
      "|131217.0|   -5.7229151196366|    4.7898904158279| -2.84503175023844|  -1.87465039581596|  0.463502556873275|   4.18138734148727|   -3.60439773457396|  -11.0114512757849|  2.57046753448997|   3.36260968779512|   1.24719496454734|    1.8756700228397|-0.730585488632741| 0.144017106299223| -0.322734591958334|    -1.238205431314|  1.27673036700687|  -1.94490215963755|  -1.62100863528422|   -1.6571618691484|    11.0532218562349|  -3.91542059404046|   2.08578625854342|   -1.32089362285288|  -0.265308480868877|   0.345398660409728|    1.24255718893687|   0.244571469091835| 21.05|    0|[131217.0,-5.7229...|[2.76214705169134...|[14.1659628760332...|[0.70829814380166...|       0.0|\n",
      "|132449.0| -0.693807126595816| -0.319215009178212|-0.392896485348521|  -1.34756079689949|   3.17546664281279|   3.56047870373453|  -0.424669921750527|  0.904543457211467| 0.467516851538927| -0.901679235196684|  0.073225464722542| -0.359635076872902|-0.279216114649389| -1.67311215777877|  0.574096156961502|  0.528661497755283|  0.26692346311775|  0.567976554082106| -0.689258984529899|  0.120698850282705|   0.141643703371423|  0.495757764316315| -0.121627358290132|    0.65109940618864|-0.00299314678412588|   0.602270234834739|  -0.291304029365897| -0.0774307893696696|  22.0|    0|[132449.0,-0.6938...|[2.78808092586681...|[17.0270253978583...|[0.85135126989291...|       0.0|\n",
      "|135447.0|   2.16934659407229|  -1.37908240397773| -1.68379247033952|  -1.75546823133408| -0.118126815785836|  0.635083805651948|  -0.855275484957722| 0.0977962706753179| -1.56104432403153|   1.45242507846355| -0.365688712785113|   -0.6032771815837| 0.219689730007858|-0.059232588106623|  0.382280438357267|  -1.80250659007465|  1.50711232277994|  -1.88532929928066|  -1.04695571050136| -0.490383739836117|  -0.216893736339276|-0.0903205506625942|  0.343089789998355|  -0.376351410056503|  -0.283609688891938|  -0.171875486882508|  0.0258854106260481| -0.0617422953104181| 35.91|    0|[135447.0,2.16934...|[2.85118949305682...|[19.0254023046445...|[0.95127011523222...|       0.0|\n",
      "|148176.0| -0.652148113874032|   1.03025430939686|-0.540235729328755|  -1.01755341746724|  0.929826191701757|  0.936862249672328|   0.281581458420543|  0.864485650093942|-0.170819767173463| -0.278859300051359|  0.626510685499415|  0.757835200451141|-0.463291518422035| 0.700039975773737| -0.260084727687018| -0.456429893536914| 0.124362372119077|  -1.30476860930676| -0.654661240798356| -0.119528067132275|  -0.165276329198188| -0.310527780259457|  0.146646500702857|   -1.65709196160785|  -0.588283228780782|   0.261706399720724|   0.274145080977007|  0.0636231800049639|  9.81|    0|[148176.0,-0.6521...|[3.11913777583252...|[19.0288542911447...|[0.95144271455723...|       0.0|\n",
      "|149971.0|   1.71759942757436| -0.815677405665747|-0.550197884272465|  0.332868086235212| -0.315555490112591|  0.767631519111004|  -0.771479350941155|  0.405443772496282|  1.46568757431892| -0.230770085502791| -0.401520714672827| -0.143335786952031| -1.34165176927489| 0.381851115275855|   1.98147271244615| -0.570891325630323| 0.293168413193597| -0.955313677513301|  -1.53132910556842| -0.266335604786653|   0.326989928553304|   1.00141464641248|  0.183733524145788|   -1.05571966109054|  -0.445046849646255|  -0.148870047545741|  0.0642510568108106| -0.0384485291200414| 79.45|    0|[149971.0,1.71759...|[3.15692292530085...|[18.2472281182296...|[0.91236140591148...|       0.0|\n",
      "|152121.0| -0.924319486969446|   1.06795733815865| 0.817896479605926| -0.431252415623842| -0.247548490932658| 0.0405767822242611|  -0.109271065454536|  0.576910624432322| 0.586092475321868| -0.571499077661187|  -1.32993622285209|  0.412275922992169| 0.654047908188016|-0.167671805328078|  0.317339611147958|-0.0323808095886497|-0.333170514387091|  0.505784484315148|  0.129431422483573|  0.140939799862994|   0.293335354401338|   1.10602393897008| -0.208748754314479|   0.712132575543205| -0.0944947677233306|  -0.129430264887898|   0.442564446515206|   0.236401301680513| 13.05|    0|[152121.0,-0.9243...|[3.20218090377267...|[18.8664916537820...|[0.94332458268910...|       0.0|\n",
      "|155727.0|   1.83189686648722|  -1.22478669068248|  0.74593830775256|   1.03585030737672|  -1.78875138999565|  0.414721512924904|   -1.50711345756567|  0.176125567439071| 0.753696535578215|  0.694291084345301|  -1.55565869197548|  0.937116664800621|  1.50380425897368| -1.26068320245361| -0.841867974197658|  -1.36644831648755|-0.198194826754328|   1.57897262816284|  -1.24965043351404| -0.439316383417401|  -0.126465579463879|  0.417709004778978|  0.155873241223905|  0.0460079872592176|  -0.305306764853478|  -0.535099301039281|   0.137988724683147| 0.00371116375126641|  84.0|    0|[155727.0,1.83189...|[3.27808800627005...|[14.1918789039716...|[0.70959394519858...|       0.0|\n",
      "|162557.0|  -1.21649169543081|   1.82153697601275| -1.32489023578817| -0.663090988432517|   0.21576466926321| -0.642963466848492|   0.127905766766575|  0.885099421295874|-0.204504679665003| -0.395531429538878|   0.93272263632563|  0.987331670186386|0.0588543586646467|-0.359834395210487| -0.938595043856998|   0.62968607725655| 0.524200150508237|  0.182312516842987| -0.120160548427803| 0.0207071347359963|  -0.243014818896875| -0.740536764453508|  0.251934675503715|   0.594001303883051|  -0.337880590444436|   0.094596002865988|   0.061729410636809|  0.0577460142661217|  8.99|    0|[162557.0,-1.2164...|[3.42186102625261...|[19.0288542911447...|[0.95144271455723...|       0.0|\n",
      "| 21419.0|  -17.4677100117887|   10.1148157246654| -24.2021422329158|   11.8054692105913|  -10.1980458075926|   -2.5799380080012|   -17.6567879964837|   2.25690247596699| -6.24214930949065|  -12.8306571996417|   9.44266526535108|  -13.5474858999444| 0.960728558325579| -13.0287170264518| -0.426674498701321|  -7.65266166506753| -11.4853277896478|  -4.72136957553102|  0.550519004149565|   1.00151850195952|   -2.32802441621057|  0.940830319350178|   1.29681706144136|   -1.05510390359967|    0.11179202805362|   0.679694612203418|    2.09354057112569|   -1.42549145377361|   1.0|    1|[21419.0,-17.4677...|[0.45087471669202...|[0.00721001102249...|[3.60500551124943...|       1.0|\n",
      "| 26523.0|   -18.474867903441|   11.5863805198184| -21.4029168131391|   6.03851541556808|  -14.4511581398683|  -4.14652350569915|    -14.856123673178|   12.4311404723263| -4.05335328722588|  -9.04039624894471|   5.96620250720685|  -8.46396612952571|0.0786921317878341| -9.09253265181295| 0.0108220973904713|   -7.1863755078292| -13.7974745003699|  -4.95849390971089|   1.32116655982617|    1.5779244011474|    1.74113559593371|  -1.25113794883836| -0.396219126116475|  0.0957055555718895|    1.32275094272025|  -0.217954564863573|    1.62879253147016|   0.482248274865402| 99.99|    1|[26523.0,-18.4748...|[0.55831505256185...|[0.00721001102249...|[3.60500551124943...|       1.0|\n",
      "| 28692.0|  -29.2003285905744|   16.1557014298057| -30.0137124857248|   6.47673117996833|  -21.2258096535165|  -4.90299739658728|    -19.791248405247|   19.1683273897301| -3.61724178604255|  -7.87012194292549|   4.06625507293473|  -5.66149242261771|  1.29295014454242| -5.07984568135779| -0.126522740416921|  -5.24447151974264| -11.2749725851252|  -4.67843652929376|  0.650807370688892|   1.71586182428358|     1.8093709332884|  -2.17581520342142|   -1.3651041075509|   0.174286359566544|    2.10386807204715|  -0.209943999130567|    1.27868097084218|   0.372392714338541| 99.99|    1|[28692.0,-29.2003...|[0.60397298526203...|[0.00721001102249...|[3.60500551124943...|       1.0|\n",
      "| 35866.0|  -2.04448868873478|   3.36830621710984| -3.93711139061868|   5.62311973109633|   -3.0792320390481|  -1.25347411822809|   -5.77887959312275|   1.70742815771205| -4.46710312294842|   -6.0677981503786|   3.83978771072745|  -8.27784094846266|  1.49391490811495| -8.41668121212274|  0.792297928201949|  -7.86265882647354| -14.5708366290177|  -5.18538553288232|   2.41438956859515|   1.11202761894884|    1.48359421639379|  0.834310712862216| -0.148485620188757| 0.00166885452328186| -0.0389957310939217|   0.389526401954901|    1.30023645611458|   0.549940374167289|  7.61|    1|[35866.0,-2.04448...|[0.75498728180008...|[0.00721001102249...|[3.60500551124943...|       1.0|\n",
      "| 40276.0|   1.15937314510686|   2.84479469928473| -4.05067950821309|   4.77770088131929|   2.94898004123771|  -2.01036111013216|    1.74408581794948| -0.410286521869204| -2.45019774688553|  -2.04216786301424|   1.84409317018026|  -2.42593281501277|  -1.5842751343556|  -7.2083115791564|  0.459828383286257|   2.37529619792022|   6.4435098643744|   2.59184606301795|  -2.88977035831304| -0.059264385833904|  -0.176541018596848| -0.433469859425429| -0.529323202003731|  -0.597019604985794|    1.33595405267787|   0.547092070642555| 0.00997894426391215|   0.160769150049196|   1.0|    1|[40276.0,1.159373...|[0.84781876322367...|[0.69074825495678...|[0.03453741274783...|       1.0|\n",
      "| 41147.0|  -5.31417320646342|   4.14594361146639| -8.53252245892907|   8.34439167363678|  -5.71800820787464|  -3.04353608094129|   -10.9891846672722|   3.40412865609659| -6.16723364181153|   -11.435623996076|   7.67453383416429|  -14.2960914258331| 0.526938923712363| -15.4450258118019|  0.991651201275811|  -12.3913460034009| -22.5416517287861|  -7.98672065349455|   2.99255446334225|   1.15001731865814|    2.33146580801509|  0.862996305559532| -0.614453237551036|   0.523647877136623|  -0.712593271662611|   0.324637964828057|    2.24509146635599|   0.497320848969724| 88.23|    1|[41147.0,-5.31417...|[0.86615350706039...|[0.00721001102249...|[3.60500551124943...|       1.0|\n",
      "| 41204.0|  -8.44028396323147|   6.14765332384605| -11.6837061588856|   6.70277957100753|  -8.15583929706995|  -3.71626415558662|   -12.4073130564101|   5.62657129554302| -6.23216089363823|  -13.3866834395246|   7.60555947435276|   -13.351815018081| 0.827049642773684| -14.9794773489142|   1.53281308437662|  -11.7714969677127| -20.2992165093576|  -7.60911006016911|   3.80913643570604|  0.520732330180873|    2.19285541971989| -0.282596814624446|0.00806849811246454|   0.403858336982018| -0.0187883930291726|   0.522721636106603|   0.792690689790115|  0.0677895462043786| 30.26|    1|[41204.0,-8.44028...|[0.86735336974545...|[0.00721001102249...|[3.60500551124943...|       1.0|\n",
      "| 41607.0|  -18.2475132286673|   8.71325017095966| -17.8801268207974|   9.24945923683651|  -14.5412125237225|  -1.91156359308197|   -18.0146601306809|   5.52216218981207| -9.28392451240577|  -14.5571590528859|   4.39243558567834|  -10.3800731219167|  1.61182090128819| -6.91763950579126|  0.158841037400664|  -10.3282423879882| -20.2545556896053|  -8.53452256380618|   3.25653448060821| -0.526368288315335|   0.598842606268504|  0.615318868165234| -0.486498927270445|   0.739268468431111|  -0.236844752247958| -0.0460816699541002|   -3.01147328474912|   -1.02214746628442| 53.95|    1|[41607.0,-18.2475...|[0.87583660943110...|[0.00721001102249...|[3.60500551124943...|       1.0|\n",
      "| 41851.0|  -19.1397328634111|   9.28684735978866|  -20.134992104854|   7.81867331002574|  -15.6522076772063|  -1.66834770694329|   -21.3404780994803|    0.6418997011947| -8.55011032700099|  -16.6496281595399|   4.81815244707108|  -9.44531478308794|  1.31705629332341| -7.24346097400378|  0.830910291033798|  -9.53325705039319| -18.7506411474674|  -8.09264877340557|   3.32675827497024|   0.42720343146936|   -2.18269194560955|  0.520543072366642| -0.760556415188733|   0.662766638397236|  -0.948454306235033|   0.121795925829793|    -3.3818429293561|   -1.25652362136258| 139.9|    1|[41851.0,-19.1397...|[0.88097286373209...|[0.00721001102249...|[3.60500551124943...|       1.0|\n",
      "| 42474.0|  -3.84300903438536|   3.37511020399082| -5.49289319668564|   6.13637764344382|   2.79719546082743|  -2.64616226518954|   -1.66893106391951|  -2.61755205155675| -3.94584260288362|  -4.56525209408734|   4.09721607443527|   -5.4509164388957|-0.965692752165388| -10.9044588731508|  0.526947764497797|  -1.13975413041553| 0.835639563488731|  0.389774231161906|  -1.43960797610281| 0.0547955667305956|    -1.2778115827927|  0.719652000906672|  0.451125175067876|   -0.25809365058648|   0.656129466667281|   0.556676326289228|   0.739383212515096|  -0.203049673816441|   1.0|    1|[42474.0,-3.84300...|[0.89408715237764...|[0.02701199122051...|[0.00135059956102...|       1.0|\n",
      "| 42474.0|  -3.84300903438536|   3.37511020399082| -5.49289319668564|   6.13637764344382|   2.79719546082743|  -2.64616226518954|   -1.66893106391951|  -2.61755205155675| -3.94584260288362|  -4.56525209408734|   4.09721607443527|   -5.4509164388957|-0.965692752165388| -10.9044588731508|  0.526947764497797|  -1.13975413041553| 0.835639563488731|  0.389774231161906|  -1.43960797610281| 0.0547955667305956|    -1.2778115827927|  0.719652000906672|  0.451125175067876|   -0.25809365058648|   0.656129466667281|   0.556676326289228|   0.739383212515096|  -0.203049673816441|   1.0|    1|[42474.0,-3.84300...|[0.89408715237764...|[0.02701199122051...|[0.00135059956102...|       1.0|\n",
      "| 56098.0|  -1.22966891678814|   1.95609915073809|-0.851197959645561|   2.79698655025108|  -1.91397684079333|-0.0449344462262948|   -1.34073935355915|   -0.5555479867039| -1.18446766006311|  -3.24510859732028|   2.33832327000211|  -2.82004218823068| 0.763325773164453| -5.41958986916794| 0.0414327925041231|  -4.18075778829053|  -4.2850705920981|  -2.53645157282245|   0.93023918577297|  0.270459255150975|    1.20805425987967|  0.277611797272191| 0.0192658003152734|   0.508528831195383|  -0.201182897226566|  -0.249600419347595|   0.562238742839488|  0.0753085014191344|170.92|    1|[56098.0,-1.22966...|[1.18087538433115...|[0.00377358490566...|[1.88679245283018...|       1.0|\n",
      "| 64443.0|   1.07952397806913|  0.872988038728802|-0.303850487243895|   2.75536885087579|  0.301687623167546| -0.350283737195093| -0.0428479677130716|  0.246624608381391|-0.779175595769242| -0.157696445821874|   1.92856763203456| -0.935863286411531| -2.43144644518658| -1.63347202401986|  0.534336652706283|   1.42560550367097|  1.59352878606579|   1.17846784575361|  -1.56869755794851| -0.252115099030468|  -0.023254784527163| -0.158600833910515|-0.0388061577093773| -0.0603272546840962|   0.358338898397498|  0.0769835703935526|  0.0189358319830432|  0.0605741494833015|   0.0|    1|[64443.0,1.079523...|[1.35653949146943...|[4.6904751191492,...|[0.23452375595746...|       1.0|\n",
      "| 68207.0|  -13.1926709562391|    12.785970638298| -9.90665002092758|   3.32033688288942|  -4.80117593230105|   5.76005855618556|   -18.7508891580107|  -37.3534426378925|-0.391539743919107|  -5.05250236713858|   4.40680552357904|  -4.61075647740608| -1.90948796970811| -9.07271093398351| -0.226074450896345|  -6.21155748212485| -6.24814535335983|  -3.14924669470095| 0.0515761185277783|  -3.49304991519446|    27.2028391573154|  -8.88701714094871|   5.30360690376998|  -0.639434802306313|   0.263203123457008|  -0.108876929971315|    1.26956635541013|   0.939407362758877|   1.0|    1|[68207.0,-13.1926...|[1.43577252912893...|[0.04642569729700...|[0.00232128486485...|       1.0|\n",
      "| 70270.0|  -1.51251575792702|   1.13313858781029| -1.60105247993576|   2.81340096831714|  -2.66450340578315| -0.310371093924795|   -1.52089516380539|  0.852995775116439| -1.49649450564954|  -4.05629261571005|   1.55375586796783|  -2.74355135914945|  1.50454067059684| -5.42878849870488|-0.0160171233729703|  -3.72718761269833| -3.94629958919926|  -1.68028644319238|   2.30361261010114|   1.24958556268985|   0.729827756052255|   0.48528591471162|  0.567005413227757|   0.323585691602658|  0.0408708540928058|   0.825813553299941|    0.41448227186994|   0.267265082454707|318.11|    1|[70270.0,-1.51251...|[1.47919913823933...|[0.01964660077867...|[9.82330038933812...|       1.0|\n",
      "| 85864.0|  -3.36526491864606|   2.92854110729003| -5.66099919906905|   3.89115992835328|  -1.84037510965314|  -1.80088720390662|   -5.55867935318221|   2.40232168278639| -2.84892272106495|  -5.99567612703198|   4.22130410784879|  -6.11966735264192|0.0230135705891201| -8.14932178394224| -0.301351931335019|  -5.37528289323615| -9.31500138499105|  -2.48756256913711|   2.35591891159776|   0.57637946532203|   0.875260063301294| -0.102501391250503| -0.606282749133978|  -0.743164794295893|   0.096318936065612|  -0.135060497401362|    1.23869473001415|  0.0998237563444676|   1.0|    1|[85864.0,-3.36526...|[1.80745630860654...|[0.00721001102249...|[3.60500551124943...|       1.0|\n",
      "| 93853.0|  -5.83919161928092|    7.1515323543223| -12.8167600806187|   7.03111476501099|   -9.6512721679897|  -2.93842725771624|   -11.5432071690832|   4.84362653179436| -3.49427572506535|  -13.3207888671784|   8.46024444901677|   -17.003289445516| 0.101556614891384|  -14.094451660329|  0.747030766392512|  -12.6616957230679| -18.9124938172188|  -6.62697484523061|   4.00892074227194| 0.0556838813863639|    2.46205591127559|   1.05486518382957|  0.530480596078193|   0.472669814042592|  -0.275997967880675|   0.282435024801752|   0.104886020210564|   0.254417096767513|316.06|    1|[93853.0,-5.83919...|[1.9756265365188,...|[0.00721001102249...|[3.60500551124943...|       1.0|\n",
      "| 94362.0|  -26.4577446501446|    16.497471901867| -30.1773174564996|   8.90415677106517|  -17.8925996927224|  -1.22790388102871|   -31.1973285494605|    -11.43892041491| -9.46257260540015|  -22.1870885620007|   4.41999660154863|  -10.5923050053728|-0.703795803703315| -3.92620731586873|  -2.40024649210124|  -6.80988994039049| -12.4623149481086|  -5.50105078380738| -0.567939572890149|   2.81224110932946|   -8.75569832116533|   3.46089334478551|  0.896537503959012|   0.254835536763482|  -0.738096558530353|  -0.966564233789852|   -7.26348214633855|   -1.32488430656137|   1.0|    1|[94362.0,-26.4577...|[1.98634109979422...|[0.00721001102249...|[3.60500551124943...|       1.0|\n",
      "|100501.0|   -6.9852674861123|   5.15109356872598| -4.59933777342036|   4.53447860064768|  0.849053978611719| -0.210701203278644|   -4.42522968507474|  -5.13452515572624|0.0693205728889109| -0.870997150804889|   5.20081516878268|  -7.80222778971281|0.0339124179895287| -7.56013197197136|  -1.01465193469311|  -1.50792960088674| -3.41027456780471|  0.107544007359072|  -1.37551765637273|  -1.24699631854492|    5.45367185347674|  -2.05617714358307| -0.280333720590026|   0.120771472511766|   0.569357720918146|   0.145971466001576|   0.300193469284684|    1.77936385243205|  0.76|    1|[100501.0,-6.9852...|[2.11556841599816...|[0.22898751611805...|[0.01144937580590...|       1.0|\n",
      "|102480.0|  -1.92959692675373|    4.0664132778545| -4.86518400996861|   5.89860229319899| -0.552492585328532|  -1.55596245330906|   -3.83362344068736|  0.679511648528001| -3.46376549143694|  -6.68368922880726|   7.02127774818005|  -11.1024933822497|  1.71175507363653|  -10.447632938235|  -2.79907615915518|  -6.26174085045904| -11.6471577741668|  -3.45143614190286| -0.507536514254236|  0.942488941965831|    1.13721164676769|  0.674245235425331| -0.531765489027487|  -0.433409350510738|   0.378658562357166|   0.198107291025294|   0.869694411928137|   0.228047851815119|   0.0|    1|[102480.0,-1.9295...|[2.15722680641478...|[0.00721001102249...|[3.60500551124943...|       1.0|\n",
      "|110087.0|   1.93494645561548|  0.650677737498259|-0.286957048622899|   3.98782809057201|  0.316051835129206|-0.0994493763543019| -0.0214831582313935| -0.172327298889228| 0.508730034701461|   1.07295520625891| -0.427567391481657|    -2.777649223895|  1.63714014878874|   1.5710801214626|  -1.44536681818908|  0.908649625166723|-0.122016068028642| -0.104109917156777|   -1.6840216339214| -0.344452123814994|  -0.173601631022283| -0.190973581696087|  0.219975571293889|  -0.216596550704603|  -0.136691885594352|  -0.129953649978571| -0.0500768352982461| -0.0510818960798855|   1.0|    1|[110087.0,1.93494...|[2.31735584931483...|[8.14585126061836...|[0.40729256303091...|       1.0|\n",
      "|110552.0|  -2.45036662540267|   2.10772866087808| -5.14066303982343|   1.41130357398271|  -1.69077950338918| -0.736427202926685|   -3.65794634761755|   1.94490590423047|-0.788387529063343|  -5.62467713431414|   3.51964234486905|    -7.221590004268|  1.20172802326675|  -3.8114281425371|  -1.70142802210083|  -3.57140837935336| -7.31140729142311|  -1.75435460658485|  0.795448867520342| -0.130438203342561|   0.800538093373868|  0.364616671021501|  0.233607611774679|  -0.282077578211224|  -0.320310972669244|    0.49291998915127|    0.35997644954193|  -0.115471009476069| 80.22|    1|[110552.0,-2.4503...|[2.32714420279827...|[0.00721001102249...|[3.60500551124943...|       1.0|\n",
      "|118532.0|  -5.96145725181683|   5.31338185985134| -6.67432045600546|   6.02897499089959|  -1.38755992793501|  0.670638451870295|   -4.12898748860167|  -4.76589378950457| -1.00525917075425|  0.453505060416619|   4.43173633655471|  -5.14273660303602| -1.18169206554319|  -8.7554491326517|   1.00435568809085|  -2.06502561211988| -3.26143516010375|   0.12522332026716|  0.936966154656013|  -1.11658092121725|    5.55664239133643|  -1.50180765840879|   1.35517244397724|   0.141093214148711|  0.0779134112043686|   0.473988340387306|    0.28712879038893|    1.46865341855998|105.89|    1|[118532.0,-5.9614...|[2.49512497870762...|[1.14629356897398...|[0.05731467844869...|       1.0|\n",
      "|133958.0|  0.523819919016188|   1.53170785726036| -4.17639013427384|   3.58461483133399|   -1.0239540327136| -0.502471057563059|   -1.89196555656987|  0.878416852102108| -1.54194215137035|  -2.64940583024547|   3.21163365301808|  -2.58749931359948| 0.257070951089721| -4.68380643176166|  0.912636545134862|   -2.6957897292607| -3.03516584667273| 0.0968148690279061|   2.06569197047395|  0.621803834572887|   0.851859435194308|   1.17692695536704|  0.453553280805087|   0.485211207096414|  -0.500686838721807|   -0.10828410995489|   0.269476548870234| -0.0632454644135228|130.21|    1|[133958.0,0.52381...|[2.81984571168727...|[0.02701199122051...|[0.00135059956102...|       1.0|\n",
      "|139767.0|  0.467991939825149|    1.1001181155631| -5.60714499999017|   2.20471352581391| -0.578538842835423| -0.174199760931247|   -3.45420147180469|   1.10282268929697| -1.06501551547524|  -5.41603688884657|   4.49792897288062|  -5.01960988798824| -1.01969120130359| -7.91498900748283|  0.669648023350281|  -4.47201433366572|  -5.8569977597527|   -2.2431779037749|  -0.17381402447058|  0.589574721718141|   0.983480729453912|  0.899876105807612| -0.285103424654105|   -1.92971710448514|   0.319868526124677|   0.170636428415686|   0.851798305715368|   0.372098282227753|120.54|    1|[139767.0,0.46799...|[2.94212645445135...|[0.02308302689551...|[0.00115415134477...|       1.0|\n",
      "|143354.0|   1.11833065981936|   2.07443887131076| -3.83751827706316|   5.44805969239449| 0.0718159680535395|  -1.02050922759556|    -1.8085744418815|  0.521743506077524| -2.03263824879436|  -2.73279196653765|    3.2740753098509|    -3.541687479312|-0.946820179878694| -7.55572894101666|   -1.7670051458427| -0.642332574056763| -2.11442919291931|  0.183327412773884|  -1.17779250651196|  0.163513485137887|   0.289861124197445| -0.172718010367512|-0.0219095177813472|  -0.376560088595995|   0.192817419134693|   0.114107224212598|   0.500995608471866|   0.259533270224708|   1.0|    1|[143354.0,1.11833...|[3.01763360272038...|[0.05265301686154...|[0.00263265084307...|       1.0|\n",
      "|146344.0|-0.0997238993578782|   2.79541433019956| -6.42385558221477|   3.24751301512342|   -1.6322902693315|  -2.76666493059313|   -2.31222288290759|  0.961014122482514| -1.89600096481329|  -4.91934829935247|   3.05365441815753|  -5.29781140208753| -1.46602972848647| -7.03588005080407|   1.99713237234969|  -3.83618852542499| -2.51518280017187| -0.864578711859257|   2.32892697361116|  0.340898315660141|   0.647714388377444|  0.126575864283858|  0.203953480088146|  0.0084949976311171|  -0.174501150725926|   0.575294798178312|   0.152875890788003| -0.0981728103598323| 94.82|    1|[146344.0,-0.0997...|[3.08057376813002...|[0.02701199122051...|[0.00135059956102...|       1.0|\n",
      "|150138.0|  -2.15085504470997|   2.18791662800118| -3.43051589218087|  0.119476214172018| -0.173210022248717|  0.290699943542092|   -2.80898761953492|  -2.67935050574045|-0.556684932588288|  -4.48548270396242|   1.90399926160786|  -2.64421945060054|-0.982272877372442| -4.69115085524464|   -0.6930797524851|  -2.55325078310516| -3.48343626722796|-0.0648523857005649|   1.49032876283779|   0.53214542192165| -0.0732053058243562|  0.561496277430611|-0.0750342624995709|  -0.437619179374193|   0.353840756362622|  -0.521338535540234|   0.144464860203719|    0.02658811547881|  50.0|    1|[150138.0,-2.1508...|[3.16043831246587...|[0.96049848510832...|[0.04802492425541...|       1.0|\n",
      "|150139.0|  -6.68283191622627|  -2.71426804459821| -5.77453045690806|   1.44979237466742|  -0.66183640822251|  -1.14864974026029|   0.849686456067088|  0.433427022470355|  -1.3156463890999|  -2.79633153858609| -0.448793725596362|  -2.56260240774572| 0.243482526844698| -1.18166939064494|0.00437287167528706|   -2.3025956900034|   -4.446191868553|  -1.71046314846621|  0.982728632705372|  -1.92852719254856|    0.22052629481591|   1.18701320438743|  0.335820816532534|   0.215682964100827|   0.803109991522633|  0.0440333423786634|  -0.054987627978561|  0.0823370925160337|237.26|    1|[150139.0,-6.6828...|[3.16045936268841...|[1.91635373908675...|[0.09581768695433...|       1.0|\n",
      "|151972.0|  -6.61821088302128|   3.83594330652809| -6.31645312939344|   1.84411148322924|  -2.47689242073119|  -1.88671810778613|   -3.81749461717225|  0.613470204441387| -1.48212104737573|  -4.86874726825181|   3.35972193954249|  -5.96916163430263|0.0511899909273825| -8.72449560202264|  0.776390603031746|  -3.93938374023711| -7.16443030217363|  -2.43467181629124|  0.235226841085862| -0.953826982523315|    1.63662230588548| 0.0387273057562163|   0.27821816645377|   0.786670356804443|   0.063894559165062|   0.154707097104458|   -2.04240272642132|    1.40514055826157| 57.73|    1|[151972.0,-6.6182...|[3.19904442061346...|[0.00721001102249...|[3.60500551124943...|       1.0|\n",
      "|155548.0|   1.87823003111341|   1.32562957435462| -2.33346899289515|   4.23315121365749|   1.35518399558821| -0.853508247169998|   0.716025067921391| -0.164909788991874| -1.50234450491057|  0.259411077154011|   1.45123754814542| -0.280523276849375|-0.756794072389194| -2.75755676655084|  -1.70628501758252|   1.58746039125258|  1.92934969114042|   1.18943290293776|  -1.53016232603362| -0.226108020608619|  -0.152130790009807| -0.360735866229707| 0.0434144058266633|  -0.242379535720923|   0.171097766325585|-0.00260098797755093| -0.0266665673926497| 0.00523766738188576|  7.06|    1|[155548.0,1.87823...|[3.27432001643449...|[2.03522242612123...|[0.10176112130606...|       1.0|\n",
      "|160870.0| -0.644277679025173|   5.00235242592827| -8.25273876012125|   7.75691471173633|  -0.21626731754316|  -2.75149611755953|    -3.3588573150418|   1.40626809118347| -4.40385171690245|  -5.94563397292191|   4.47590467269415|  -7.60726146360792|-0.160723119948911| -13.0107493697978|   1.09438181918719|  -2.86403911817187| -2.87134152887014| -0.180613560248759|  0.647708880496559|  0.816557858909547|   0.587727519791778| -0.605759173274255| 0.0337455457845425|  -0.756169511485339|-0.00817162525374399|   0.532772006004636|   0.663969504849476|   0.192066835389178|  0.77|    1|[160870.0,-0.6442...|[3.38634930081914...|[0.02701199122051...|[0.00135059956102...|       1.0|\n",
      "|160895.0| -0.848290216565114|   2.71988211593934| -6.19907019688041|   3.04443718621919|  -3.30190955339712|  -1.99211683590396|    -3.7349017657824|   1.52007897310233| -2.54878817321614|   -4.5335154033258|   2.28802174654208|  -5.26720466981905| 0.394799950425324| -4.28799577702192|   1.31527946674202|  -6.46918689069948| -8.71392005149206|   -3.7050697432532|   3.53100289778427|  0.319576271337295|    1.12522925908799|  0.805257864895713|  0.199119186483276|  0.0352062006310435|  0.0121587630161963|   0.601657823317562|   0.137467682324392|  -0.171396981067706|127.14|    1|[160895.0,-0.8482...|[3.38687555638277...|[0.00721001102249...|[3.60500551124943...|       1.0|\n",
      "+--------+-------------------+-------------------+------------------+-------------------+-------------------+-------------------+--------------------+-------------------+------------------+-------------------+-------------------+-------------------+------------------+------------------+-------------------+-------------------+------------------+-------------------+-------------------+-------------------+--------------------+-------------------+-------------------+--------------------+--------------------+--------------------+--------------------+--------------------+------+-----+--------------------+--------------------+--------------------+--------------------+----------+\n",
      "\n"
     ]
    },
    {
     "name": "stderr",
     "output_type": "stream",
     "text": [
      "                                                                                \r"
     ]
    }
   ],
   "execution_count": 12
  },
  {
   "metadata": {},
   "cell_type": "markdown",
   "source": "# Evaluating the model",
   "id": "6910c852f43723fe"
  },
  {
   "metadata": {},
   "cell_type": "markdown",
   "source": [
    "## Converting the columns _Class_\n",
    "Since we streamed our data from Kafka, the column _Class_ is of type StringType. We need to convert it to IntegerType in order to evaluate the model"
   ],
   "id": "51a43fd5f624743d"
  },
  {
   "metadata": {
    "ExecuteTime": {
     "end_time": "2024-12-06T22:27:51.787202Z",
     "start_time": "2024-12-06T22:27:51.623958Z"
    }
   },
   "cell_type": "code",
   "source": [
    "from pyspark.sql.functions import col\n",
    "from pyspark.sql.types import IntegerType\n",
    "\n",
    "predictions_updated = predictions.withColumn(\"Class\", col(\"Class\").cast(IntegerType()))\n",
    "predictions_updated.printSchema()"
   ],
   "id": "8573a1f485699600",
   "outputs": [
    {
     "name": "stdout",
     "output_type": "stream",
     "text": [
      "root\n",
      " |-- Time: double (nullable = true)\n",
      " |-- V1: double (nullable = true)\n",
      " |-- V2: double (nullable = true)\n",
      " |-- V3: double (nullable = true)\n",
      " |-- V4: double (nullable = true)\n",
      " |-- V5: double (nullable = true)\n",
      " |-- V6: double (nullable = true)\n",
      " |-- V7: double (nullable = true)\n",
      " |-- V8: double (nullable = true)\n",
      " |-- V9: double (nullable = true)\n",
      " |-- V10: double (nullable = true)\n",
      " |-- V11: double (nullable = true)\n",
      " |-- V12: double (nullable = true)\n",
      " |-- V13: double (nullable = true)\n",
      " |-- V14: double (nullable = true)\n",
      " |-- V15: double (nullable = true)\n",
      " |-- V16: double (nullable = true)\n",
      " |-- V17: double (nullable = true)\n",
      " |-- V18: double (nullable = true)\n",
      " |-- V19: double (nullable = true)\n",
      " |-- V20: double (nullable = true)\n",
      " |-- V21: double (nullable = true)\n",
      " |-- V22: double (nullable = true)\n",
      " |-- V23: double (nullable = true)\n",
      " |-- V24: double (nullable = true)\n",
      " |-- V25: double (nullable = true)\n",
      " |-- V26: double (nullable = true)\n",
      " |-- V27: double (nullable = true)\n",
      " |-- V28: double (nullable = true)\n",
      " |-- Amount: double (nullable = true)\n",
      " |-- Class: integer (nullable = true)\n",
      " |-- features: vector (nullable = true)\n",
      " |-- scaled_features: vector (nullable = true)\n",
      " |-- rawPrediction: vector (nullable = true)\n",
      " |-- probability: vector (nullable = true)\n",
      " |-- prediction: double (nullable = true)\n",
      "\n"
     ]
    }
   ],
   "execution_count": 13
  },
  {
   "metadata": {
    "ExecuteTime": {
     "end_time": "2024-12-06T22:27:57.688165Z",
     "start_time": "2024-12-06T22:27:53.809976Z"
    }
   },
   "cell_type": "code",
   "source": [
    "from pyspark.ml.evaluation import BinaryClassificationEvaluator\n",
    "\n",
    "evaluator = BinaryClassificationEvaluator(labelCol=\"Class\")\n",
    "print(f\"Area under ROC: {evaluator.evaluate(predictions_updated)}\")\n",
    "logger.info(f\"Area under ROC: {evaluator.evaluate(predictions_updated)}\")"
   ],
   "id": "29053c83a79312ac",
   "outputs": [
    {
     "name": "stderr",
     "output_type": "stream",
     "text": [
      "24/12/06 17:27:55 WARN DAGScheduler: Broadcasting large task binary with size 3.2 MiB\n",
      "                                                                                \r"
     ]
    },
    {
     "name": "stdout",
     "output_type": "stream",
     "text": [
      "Area under ROC: 1.0\n"
     ]
    }
   ],
   "execution_count": 14
  }
 ],
 "metadata": {
  "kernelspec": {
   "display_name": "Python 3",
   "language": "python",
   "name": "python3"
  },
  "language_info": {
   "codemirror_mode": {
    "name": "ipython",
    "version": 2
   },
   "file_extension": ".py",
   "mimetype": "text/x-python",
   "name": "python",
   "nbconvert_exporter": "python",
   "pygments_lexer": "ipython2",
   "version": "2.7.6"
  }
 },
 "nbformat": 4,
 "nbformat_minor": 5
}
