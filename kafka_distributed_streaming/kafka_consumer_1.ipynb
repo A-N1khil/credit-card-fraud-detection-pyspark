{
 "cells": [
  {
   "cell_type": "code",
   "id": "initial_id",
   "metadata": {
    "collapsed": true,
    "ExecuteTime": {
     "end_time": "2024-12-07T01:42:45.252815Z",
     "start_time": "2024-12-07T01:42:45.142781Z"
    }
   },
   "source": [
    "import os\n",
    "\n",
    "from pyspark.sql import SparkSession, DataFrame\n",
    "from pyspark.sql.functions import from_json, col\n",
    "from pyspark.sql.types import StructType, StructField, DoubleType, StringType\n",
    "\n",
    "from logs.CustomLogger import CustomLogger\n",
    "\n",
    "%load_ext autoreload\n",
    "%autoreload 2"
   ],
   "outputs": [
    {
     "name": "stdout",
     "output_type": "stream",
     "text": [
      "The autoreload extension is already loaded. To reload it, use:\n",
      "  %reload_ext autoreload\n"
     ]
    }
   ],
   "execution_count": 17
  },
  {
   "metadata": {},
   "cell_type": "markdown",
   "source": "We need to set the environment variables before creating the Spark session. We can do this by setting the `PYSPARK_SUBMIT_ARGS` environment variable to include the necessary Kafka package. We can then create a Spark session using the `SparkSession` class.",
   "id": "b0835b41d35e3de2"
  },
  {
   "metadata": {
    "ExecuteTime": {
     "end_time": "2024-12-07T01:42:45.274831Z",
     "start_time": "2024-12-07T01:42:45.264995Z"
    }
   },
   "cell_type": "code",
   "source": [
    "# Set the necessary Spark environment variables\n",
    "os.environ['PYSPARK_SUBMIT_ARGS'] = '--packages org.apache.spark:spark-sql-kafka-0-10_2.12:3.4.1 pyspark-shell'"
   ],
   "id": "8369743b0dd52c21",
   "outputs": [],
   "execution_count": 18
  },
  {
   "metadata": {},
   "cell_type": "markdown",
   "source": "# Setup the Logger",
   "id": "a0a13167bf697ae6"
  },
  {
   "metadata": {
    "ExecuteTime": {
     "end_time": "2024-12-07T01:42:45.307113Z",
     "start_time": "2024-12-07T01:42:45.293909Z"
    }
   },
   "cell_type": "code",
   "source": "logger = CustomLogger(\"KafkaConsumer1\")",
   "id": "678bd9c79d41a25a",
   "outputs": [
    {
     "name": "stderr",
     "output_type": "stream",
     "text": [
      "INFO:KafkaConsumer1:Logger is set up\n"
     ]
    },
    {
     "name": "stdout",
     "output_type": "stream",
     "text": [
      "Logger is set up. Check producer.log for logs.\n"
     ]
    }
   ],
   "execution_count": 19
  },
  {
   "metadata": {
    "ExecuteTime": {
     "end_time": "2024-12-07T01:42:45.464910Z",
     "start_time": "2024-12-07T01:42:45.323487Z"
    }
   },
   "cell_type": "code",
   "source": [
    "spark = SparkSession.builder \\\n",
    "    .appName(\"KafkaConsumer1\") \\\n",
    "    .config(\"spark.kafka.consumer.partition.assignment.strategy\", \"org.apache.kafka.clients.consumer.RoundRobinAssignor\") \\\n",
    "    .getOrCreate()"
   ],
   "id": "d8968635ac3ac996",
   "outputs": [],
   "execution_count": 20
  },
  {
   "metadata": {},
   "cell_type": "markdown",
   "source": [
    "# Create a schema for the data\n",
    "The data we are going to consume from Kafka is a JSON string that contains the following fields"
   ],
   "id": "ee816b0395e7986c"
  },
  {
   "metadata": {
    "ExecuteTime": {
     "end_time": "2024-12-07T01:42:45.492601Z",
     "start_time": "2024-12-07T01:42:45.475394Z"
    }
   },
   "cell_type": "code",
   "source": [
    "schema = StructType([\n",
    "    StructField(\"Time\", DoubleType(), True),\n",
    "    StructField(\"V1\", DoubleType(), True),\n",
    "    StructField(\"V2\", DoubleType(), True),\n",
    "    StructField(\"V3\", DoubleType(), True),\n",
    "    StructField(\"V4\", DoubleType(), True),\n",
    "    StructField(\"V5\", DoubleType(), True),\n",
    "    StructField(\"V6\", DoubleType(), True),\n",
    "    StructField(\"V7\", DoubleType(), True),\n",
    "    StructField(\"V8\", DoubleType(), True),\n",
    "    StructField(\"V9\", DoubleType(), True),\n",
    "    StructField(\"V10\", DoubleType(), True),\n",
    "    StructField(\"V11\", DoubleType(), True),\n",
    "    StructField(\"V12\", DoubleType(), True),\n",
    "    StructField(\"V13\", DoubleType(), True),\n",
    "    StructField(\"V14\", DoubleType(), True),\n",
    "    StructField(\"V15\", DoubleType(), True),\n",
    "    StructField(\"V16\", DoubleType(), True),\n",
    "    StructField(\"V17\", DoubleType(), True),\n",
    "    StructField(\"V18\", DoubleType(), True),\n",
    "    StructField(\"V19\", DoubleType(), True),\n",
    "    StructField(\"V20\", DoubleType(), True),\n",
    "    StructField(\"V21\", DoubleType(), True),\n",
    "    StructField(\"V22\", DoubleType(), True),\n",
    "    StructField(\"V23\", DoubleType(), True),\n",
    "    StructField(\"V24\", DoubleType(), True),\n",
    "    StructField(\"V25\", DoubleType(), True),\n",
    "    StructField(\"V26\", DoubleType(), True),\n",
    "    StructField(\"V27\", DoubleType(), True),\n",
    "    StructField(\"V28\", DoubleType(), True),\n",
    "    StructField(\"Amount\", DoubleType(), True),\n",
    "    StructField(\"Class\", StringType(), True)\n",
    "])\n",
    "logger.info(f\"Schema created: {schema}\")"
   ],
   "id": "23f2a63df8d572e9",
   "outputs": [
    {
     "name": "stderr",
     "output_type": "stream",
     "text": [
      "INFO:KafkaConsumer1:Schema created: StructType([StructField('Time', DoubleType(), True), StructField('V1', DoubleType(), True), StructField('V2', DoubleType(), True), StructField('V3', DoubleType(), True), StructField('V4', DoubleType(), True), StructField('V5', DoubleType(), True), StructField('V6', DoubleType(), True), StructField('V7', DoubleType(), True), StructField('V8', DoubleType(), True), StructField('V9', DoubleType(), True), StructField('V10', DoubleType(), True), StructField('V11', DoubleType(), True), StructField('V12', DoubleType(), True), StructField('V13', DoubleType(), True), StructField('V14', DoubleType(), True), StructField('V15', DoubleType(), True), StructField('V16', DoubleType(), True), StructField('V17', DoubleType(), True), StructField('V18', DoubleType(), True), StructField('V19', DoubleType(), True), StructField('V20', DoubleType(), True), StructField('V21', DoubleType(), True), StructField('V22', DoubleType(), True), StructField('V23', DoubleType(), True), StructField('V24', DoubleType(), True), StructField('V25', DoubleType(), True), StructField('V26', DoubleType(), True), StructField('V27', DoubleType(), True), StructField('V28', DoubleType(), True), StructField('Amount', DoubleType(), True), StructField('Class', StringType(), True)])\n"
     ]
    }
   ],
   "execution_count": 21
  },
  {
   "metadata": {},
   "cell_type": "markdown",
   "source": [
    "# Consume data from Kafka\n",
    "We can consume data from Kafka using the `readStream` method of the `SparkSession` object. We need to specify the Kafka server and the topic to consume data from. We can then parse the value as JSON (if applicable) and write the parsed data to the console."
   ],
   "id": "a080a4292d3af620"
  },
  {
   "metadata": {
    "ExecuteTime": {
     "end_time": "2024-12-07T01:42:45.771840Z",
     "start_time": "2024-12-07T01:42:45.509276Z"
    }
   },
   "cell_type": "code",
   "source": [
    "df = spark \\\n",
    "    .readStream \\\n",
    "    .format(\"kafka\") \\\n",
    "    .option(\"kafka.bootstrap.servers\", \"localhost:9092\") \\\n",
    "    .option(\"subscribe\", \"distributed_transactions\") \\\n",
    "    .option(\"startingOffsets\", \"latest\") \\\n",
    "    .option(\"failOnDataLoss\", \"false\") \\\n",
    "    .option(\"kafka.group.id\", \"distributed_transactions\") \\\n",
    "    .load()"
   ],
   "id": "90c45f57ea77bed7",
   "outputs": [
    {
     "name": "stderr",
     "output_type": "stream",
     "text": [
      "24/12/06 20:42:45 WARN KafkaSourceProvider: Kafka option 'kafka.group.id' has been set on this query, it is\n",
      " not recommended to set this option. This option is unsafe to use since multiple concurrent\n",
      " queries or sources using the same group id will interfere with each other as they are part\n",
      " of the same consumer group. Restarted queries may also suffer interference from the\n",
      " previous run having the same group id. The user should have only one query per group id,\n",
      " and/or set the option 'kafka.session.timeout.ms' to be very small so that the Kafka\n",
      " consumers from the previous query are marked dead by the Kafka group coordinator before the\n",
      " restarted query starts running.\n",
      "    \n"
     ]
    }
   ],
   "execution_count": 22
  },
  {
   "metadata": {
    "ExecuteTime": {
     "end_time": "2024-12-07T01:42:45.797251Z",
     "start_time": "2024-12-07T01:42:45.788Z"
    }
   },
   "cell_type": "code",
   "source": "# spark.stop()",
   "id": "8868f527f0fd165",
   "outputs": [],
   "execution_count": 23
  },
  {
   "metadata": {
    "ExecuteTime": {
     "end_time": "2024-12-07T01:42:45.947255Z",
     "start_time": "2024-12-07T01:42:45.813571Z"
    }
   },
   "cell_type": "code",
   "source": [
    "# Parse the value as JSON (if applicable)\n",
    "parsed_df = df.selectExpr(\"CAST(value AS STRING)\") \\\n",
    "    .select(from_json(col(\"value\"), schema).alias(\"data\")) \\\n",
    "    .select(\"data.*\")"
   ],
   "id": "56674279dfd6bf6a",
   "outputs": [],
   "execution_count": 24
  },
  {
   "metadata": {},
   "cell_type": "markdown",
   "source": [
    "## Getting parsed data from Kafka\n",
    "In order to use the transactions data in order for our model to run predictions, we need to save the parsed data in a form that our pipeline can understand and use. We can do this by saving the parsed data"
   ],
   "id": "ca1b73cd23a0a68a"
  },
  {
   "metadata": {
    "ExecuteTime": {
     "end_time": "2024-12-07T01:42:48.074348Z",
     "start_time": "2024-12-07T01:42:45.959369Z"
    }
   },
   "cell_type": "code",
   "source": [
    "from pipeline.pipeline import CustomPipeline\n",
    "\n",
    "model_path = \"./../models/credit_card_fraud_detection_model\"\n",
    "pipeline_path = \"./../pipeline/credit_card_fraud_detection_pipeline\"\n",
    "pipeline = CustomPipeline(model_path, pipeline_path)\n",
    "cols = ['Time', 'V1', 'V2', 'V3', 'V4', 'V5', 'V6', 'V7', 'V8', 'V9', 'V10',\n",
    "        'V11', 'V12', 'V13', 'V14', 'V15', 'V16', 'V17', 'V18', 'V19', 'V20',\n",
    "        'V21', 'V22', 'V23', 'V24', 'V25', 'V26', 'V27', 'V28', 'Amount']\n",
    "pipeline.create_pipeline(cols=cols)\n",
    "# predictions = []"
   ],
   "id": "33d17599f1f35017",
   "outputs": [
    {
     "name": "stdout",
     "output_type": "stream",
     "text": [
      "Loading pipeline model from ./../pipeline/credit_card_fraud_detection_pipeline\n",
      "Pipeline created.\n"
     ]
    }
   ],
   "execution_count": 25
  },
  {
   "metadata": {},
   "cell_type": "markdown",
   "source": [
    "# Predictions\n",
    "First, we create an empty dataframe to hold our predictions. We then define a function that processes the records in the parsed data. The function takes a dataframe and an epoch id as arguments. We then collect the rows from the dataframe and check if there are any rows. If there are rows, we transform the dataframe using the pipeline and collect the rows from the predictions. We then print the predictions."
   ],
   "id": "3d4da630eb6cf81a"
  },
  {
   "metadata": {
    "ExecuteTime": {
     "end_time": "2024-12-07T01:42:48.135234Z",
     "start_time": "2024-12-07T01:42:48.111799Z"
    }
   },
   "cell_type": "code",
   "source": "prediction_records_holder = [spark.createDataFrame([], StructType([]))]",
   "id": "50667db68edaea01",
   "outputs": [],
   "execution_count": 26
  },
  {
   "metadata": {
    "ExecuteTime": {
     "end_time": "2024-12-07T01:42:48.153575Z",
     "start_time": "2024-12-07T01:42:48.144718Z"
    }
   },
   "cell_type": "code",
   "source": [
    "from functools import partial\n",
    "\n",
    "def process_record(df, epoch_id, prediction_records_holder, verbose=False):\n",
    "    rows = df.collect()\n",
    "    logger.info(f\"Processing {rows} records\")\n",
    "    if len(rows) != 0:\n",
    "        # Do no do anything if there are no rows\n",
    "        predictions = pipeline.transform(df)\n",
    "        logger.info(f\"Predictions: {predictions}\")\n",
    "\n",
    "        # Append the predictions to the prediction_records DataFrame\n",
    "        updated_prediction_records = prediction_records_holder[0].unionByName(predictions, allowMissingColumns=True)\n",
    "        prediction_records_holder[0] = updated_prediction_records\n",
    "\n",
    "        # Print or process the predictions if verbose is set to True\n",
    "        if verbose:\n",
    "            # Convert the predictions DataFrame to a list of dictionaries\n",
    "            rows = predictions.collect()\n",
    "            for row in rows:\n",
    "                print(row.asDict())\n",
    "\n",
    "process_record_with_params = partial(process_record, prediction_records_holder=prediction_records_holder, verbose=False)"
   ],
   "id": "d19329c1f9644873",
   "outputs": [],
   "execution_count": 27
  },
  {
   "metadata": {},
   "cell_type": "markdown",
   "source": "Set `verbose=True` to print the predictions as they happen",
   "id": "d87d439d4452faa"
  },
  {
   "metadata": {
    "ExecuteTime": {
     "end_time": "2024-12-07T01:46:35.303406Z",
     "start_time": "2024-12-07T01:42:48.166021Z"
    }
   },
   "cell_type": "code",
   "source": [
    "# Modify the query to use foreachBatch\n",
    "query = parsed_df.writeStream \\\n",
    "    .outputMode(\"append\") \\\n",
    "    .foreachBatch(process_record_with_params) \\\n",
    "    .start()\n",
    "\n",
    "query.awaitTermination()"
   ],
   "id": "d7eeaef353653f30",
   "outputs": [
    {
     "name": "stderr",
     "output_type": "stream",
     "text": [
      "24/12/06 20:42:48 WARN ResolveWriteToStream: Temporary checkpoint location created which is deleted normally when the query didn't fail: /private/var/folders/fn/0_yk91x94834b2xtx5nmcsqh0000gn/T/temporary-b9c3ab90-542e-41ba-9ae6-5bcc7475c1ed. If it's required to delete it under any circumstances, please set spark.sql.streaming.forceDeleteTempCheckpointLocation to true. Important to know deleting temp checkpoint folder is best effort.\n",
      "24/12/06 20:42:48 WARN ResolveWriteToStream: spark.sql.adaptive.enabled is not supported in streaming DataFrames/Datasets and will be disabled.\n",
      "24/12/06 20:42:48 WARN KafkaSourceProvider: Kafka option 'kafka.group.id' has been set on this query, it is\n",
      " not recommended to set this option. This option is unsafe to use since multiple concurrent\n",
      " queries or sources using the same group id will interfere with each other as they are part\n",
      " of the same consumer group. Restarted queries may also suffer interference from the\n",
      " previous run having the same group id. The user should have only one query per group id,\n",
      " and/or set the option 'kafka.session.timeout.ms' to be very small so that the Kafka\n",
      " consumers from the previous query are marked dead by the Kafka group coordinator before the\n",
      " restarted query starts running.\n",
      "    \n",
      "24/12/06 20:42:48 WARN AdminClientConfig: These configurations '[key.deserializer, value.deserializer, enable.auto.commit, max.poll.records, group.id, auto.offset.reset]' were supplied but are not used yet.\n",
      "ERROR:root:KeyboardInterrupt while sending command.                             \n",
      "Traceback (most recent call last):\n",
      "  File \"/opt/anaconda3/lib/python3.11/site-packages/py4j/java_gateway.py\", line 1038, in send_command\n",
      "    response = connection.send_command(command)\n",
      "    \n",
      "  File \"/opt/anaconda3/lib/python3.11/site-packages/py4j/clientserver.py\", line 511, in send_command\n",
      "    answer = smart_decode(self.stream.readline()[:-1])\n",
      "    \n",
      "  File \"/opt/anaconda3/lib/python3.11/socket.py\", line 705, in readinto\n",
      "    return self._sock.recv_into(b)\n",
      "    \n",
      "KeyboardInterrupt\n"
     ]
    },
    {
     "ename": "KeyboardInterrupt",
     "evalue": "",
     "output_type": "error",
     "traceback": [
      "\u001B[0;31m---------------------------------------------------------------------------\u001B[0m",
      "\u001B[0;31mKeyboardInterrupt\u001B[0m                         Traceback (most recent call last)",
      "Cell \u001B[0;32mIn[28], line 7\u001B[0m\n\u001B[1;32m      1\u001B[0m \u001B[38;5;66;03m# Modify the query to use foreachBatch\u001B[39;00m\n\u001B[1;32m      2\u001B[0m query \u001B[38;5;241m=\u001B[39m parsed_df\u001B[38;5;241m.\u001B[39mwriteStream \\\n\u001B[1;32m      3\u001B[0m     \u001B[38;5;241m.\u001B[39moutputMode(\u001B[38;5;124m\"\u001B[39m\u001B[38;5;124mappend\u001B[39m\u001B[38;5;124m\"\u001B[39m) \\\n\u001B[1;32m      4\u001B[0m     \u001B[38;5;241m.\u001B[39mforeachBatch(process_record_with_params) \\\n\u001B[1;32m      5\u001B[0m     \u001B[38;5;241m.\u001B[39mstart()\n\u001B[0;32m----> 7\u001B[0m query\u001B[38;5;241m.\u001B[39mawaitTermination()\n",
      "File \u001B[0;32m/opt/anaconda3/lib/python3.11/site-packages/pyspark/sql/streaming/query.py:201\u001B[0m, in \u001B[0;36mStreamingQuery.awaitTermination\u001B[0;34m(self, timeout)\u001B[0m\n\u001B[1;32m    199\u001B[0m     \u001B[38;5;28;01mreturn\u001B[39;00m \u001B[38;5;28mself\u001B[39m\u001B[38;5;241m.\u001B[39m_jsq\u001B[38;5;241m.\u001B[39mawaitTermination(\u001B[38;5;28mint\u001B[39m(timeout \u001B[38;5;241m*\u001B[39m \u001B[38;5;241m1000\u001B[39m))\n\u001B[1;32m    200\u001B[0m \u001B[38;5;28;01melse\u001B[39;00m:\n\u001B[0;32m--> 201\u001B[0m     \u001B[38;5;28;01mreturn\u001B[39;00m \u001B[38;5;28mself\u001B[39m\u001B[38;5;241m.\u001B[39m_jsq\u001B[38;5;241m.\u001B[39mawaitTermination()\n",
      "File \u001B[0;32m/opt/anaconda3/lib/python3.11/site-packages/py4j/java_gateway.py:1321\u001B[0m, in \u001B[0;36mJavaMember.__call__\u001B[0;34m(self, *args)\u001B[0m\n\u001B[1;32m   1314\u001B[0m args_command, temp_args \u001B[38;5;241m=\u001B[39m \u001B[38;5;28mself\u001B[39m\u001B[38;5;241m.\u001B[39m_build_args(\u001B[38;5;241m*\u001B[39margs)\n\u001B[1;32m   1316\u001B[0m command \u001B[38;5;241m=\u001B[39m proto\u001B[38;5;241m.\u001B[39mCALL_COMMAND_NAME \u001B[38;5;241m+\u001B[39m\\\n\u001B[1;32m   1317\u001B[0m     \u001B[38;5;28mself\u001B[39m\u001B[38;5;241m.\u001B[39mcommand_header \u001B[38;5;241m+\u001B[39m\\\n\u001B[1;32m   1318\u001B[0m     args_command \u001B[38;5;241m+\u001B[39m\\\n\u001B[1;32m   1319\u001B[0m     proto\u001B[38;5;241m.\u001B[39mEND_COMMAND_PART\n\u001B[0;32m-> 1321\u001B[0m answer \u001B[38;5;241m=\u001B[39m \u001B[38;5;28mself\u001B[39m\u001B[38;5;241m.\u001B[39mgateway_client\u001B[38;5;241m.\u001B[39msend_command(command)\n\u001B[1;32m   1322\u001B[0m return_value \u001B[38;5;241m=\u001B[39m get_return_value(\n\u001B[1;32m   1323\u001B[0m     answer, \u001B[38;5;28mself\u001B[39m\u001B[38;5;241m.\u001B[39mgateway_client, \u001B[38;5;28mself\u001B[39m\u001B[38;5;241m.\u001B[39mtarget_id, \u001B[38;5;28mself\u001B[39m\u001B[38;5;241m.\u001B[39mname)\n\u001B[1;32m   1325\u001B[0m \u001B[38;5;28;01mfor\u001B[39;00m temp_arg \u001B[38;5;129;01min\u001B[39;00m temp_args:\n",
      "File \u001B[0;32m/opt/anaconda3/lib/python3.11/site-packages/py4j/java_gateway.py:1038\u001B[0m, in \u001B[0;36mGatewayClient.send_command\u001B[0;34m(self, command, retry, binary)\u001B[0m\n\u001B[1;32m   1036\u001B[0m connection \u001B[38;5;241m=\u001B[39m \u001B[38;5;28mself\u001B[39m\u001B[38;5;241m.\u001B[39m_get_connection()\n\u001B[1;32m   1037\u001B[0m \u001B[38;5;28;01mtry\u001B[39;00m:\n\u001B[0;32m-> 1038\u001B[0m     response \u001B[38;5;241m=\u001B[39m connection\u001B[38;5;241m.\u001B[39msend_command(command)\n\u001B[1;32m   1039\u001B[0m     \u001B[38;5;28;01mif\u001B[39;00m binary:\n\u001B[1;32m   1040\u001B[0m         \u001B[38;5;28;01mreturn\u001B[39;00m response, \u001B[38;5;28mself\u001B[39m\u001B[38;5;241m.\u001B[39m_create_connection_guard(connection)\n",
      "File \u001B[0;32m/opt/anaconda3/lib/python3.11/site-packages/py4j/clientserver.py:511\u001B[0m, in \u001B[0;36mClientServerConnection.send_command\u001B[0;34m(self, command)\u001B[0m\n\u001B[1;32m    509\u001B[0m \u001B[38;5;28;01mtry\u001B[39;00m:\n\u001B[1;32m    510\u001B[0m     \u001B[38;5;28;01mwhile\u001B[39;00m \u001B[38;5;28;01mTrue\u001B[39;00m:\n\u001B[0;32m--> 511\u001B[0m         answer \u001B[38;5;241m=\u001B[39m smart_decode(\u001B[38;5;28mself\u001B[39m\u001B[38;5;241m.\u001B[39mstream\u001B[38;5;241m.\u001B[39mreadline()[:\u001B[38;5;241m-\u001B[39m\u001B[38;5;241m1\u001B[39m])\n\u001B[1;32m    512\u001B[0m         logger\u001B[38;5;241m.\u001B[39mdebug(\u001B[38;5;124m\"\u001B[39m\u001B[38;5;124mAnswer received: \u001B[39m\u001B[38;5;132;01m{0}\u001B[39;00m\u001B[38;5;124m\"\u001B[39m\u001B[38;5;241m.\u001B[39mformat(answer))\n\u001B[1;32m    513\u001B[0m         \u001B[38;5;66;03m# Happens when a the other end is dead. There might be an empty\u001B[39;00m\n\u001B[1;32m    514\u001B[0m         \u001B[38;5;66;03m# answer before the socket raises an error.\u001B[39;00m\n",
      "File \u001B[0;32m/opt/anaconda3/lib/python3.11/socket.py:705\u001B[0m, in \u001B[0;36mSocketIO.readinto\u001B[0;34m(self, b)\u001B[0m\n\u001B[1;32m    703\u001B[0m \u001B[38;5;28;01mwhile\u001B[39;00m \u001B[38;5;28;01mTrue\u001B[39;00m:\n\u001B[1;32m    704\u001B[0m     \u001B[38;5;28;01mtry\u001B[39;00m:\n\u001B[0;32m--> 705\u001B[0m         \u001B[38;5;28;01mreturn\u001B[39;00m \u001B[38;5;28mself\u001B[39m\u001B[38;5;241m.\u001B[39m_sock\u001B[38;5;241m.\u001B[39mrecv_into(b)\n\u001B[1;32m    706\u001B[0m     \u001B[38;5;28;01mexcept\u001B[39;00m timeout:\n\u001B[1;32m    707\u001B[0m         \u001B[38;5;28mself\u001B[39m\u001B[38;5;241m.\u001B[39m_timeout_occurred \u001B[38;5;241m=\u001B[39m \u001B[38;5;28;01mTrue\u001B[39;00m\n",
      "\u001B[0;31mKeyboardInterrupt\u001B[0m: "
     ]
    }
   ],
   "execution_count": 28
  },
  {
   "metadata": {},
   "cell_type": "markdown",
   "source": "Now we stop the query to check the predictions",
   "id": "c108babd9497affc"
  },
  {
   "metadata": {
    "ExecuteTime": {
     "end_time": "2024-12-07T01:46:37.843564Z",
     "start_time": "2024-12-07T01:46:37.706429Z"
    }
   },
   "cell_type": "code",
   "source": "query.stop()",
   "id": "c2960eaf11e24fd4",
   "outputs": [],
   "execution_count": 29
  },
  {
   "metadata": {
    "ExecuteTime": {
     "end_time": "2024-12-07T01:46:52.736162Z",
     "start_time": "2024-12-07T01:46:39.909957Z"
    }
   },
   "cell_type": "code",
   "source": [
    "predictions = prediction_records_holder[0]\n",
    "print(f\"Number of predictions: {predictions.count()}\")\n",
    "predictions.show()"
   ],
   "id": "e1b2c5a0abbbbaa4",
   "outputs": [
    {
     "name": "stderr",
     "output_type": "stream",
     "text": [
      "24/12/06 20:46:41 WARN DAGScheduler: Broadcasting large task binary with size 1827.2 KiB\n",
      "                                                                                \r"
     ]
    },
    {
     "name": "stdout",
     "output_type": "stream",
     "text": [
      "Number of predictions: 103\n"
     ]
    },
    {
     "name": "stderr",
     "output_type": "stream",
     "text": [
      "24/12/06 20:46:48 WARN DAGScheduler: Broadcasting large task binary with size 7.5 MiB\n",
      "24/12/06 20:46:48 WARN DAGScheduler: Broadcasting large task binary with size 7.5 MiB\n",
      "24/12/06 20:46:49 WARN DAGScheduler: Broadcasting large task binary with size 7.5 MiB\n",
      "24/12/06 20:46:51 WARN DAGScheduler: Broadcasting large task binary with size 7.5 MiB\n",
      "[Stage 275:======================================>                  (6 + 3) / 9]\r"
     ]
    },
    {
     "name": "stdout",
     "output_type": "stream",
     "text": [
      "+-------+------------------+-------------------+------------------+-------------------+------------------+------------------+--------------------+--------------------+------------------+-------------------+-------------------+------------------+------------------+------------------+-------------------+-------------------+--------------------+-------------------+------------------+--------------------+--------------------+-------------------+-------------------+-------------------+-------------------+-------------------+--------------------+--------------------+------+-----+--------------------+--------------------+--------------------+--------------------+----------+\n",
      "|   Time|                V1|                 V2|                V3|                 V4|                V5|                V6|                  V7|                  V8|                V9|                V10|                V11|               V12|               V13|               V14|                V15|                V16|                 V17|                V18|               V19|                 V20|                 V21|                V22|                V23|                V24|                V25|                V26|                 V27|                 V28|Amount|Class|            features|     scaled_features|       rawPrediction|         probability|prediction|\n",
      "+-------+------------------+-------------------+------------------+-------------------+------------------+------------------+--------------------+--------------------+------------------+-------------------+-------------------+------------------+------------------+------------------+-------------------+-------------------+--------------------+-------------------+------------------+--------------------+--------------------+-------------------+-------------------+-------------------+-------------------+-------------------+--------------------+--------------------+------+-----+--------------------+--------------------+--------------------+--------------------+----------+\n",
      "|23795.0|-0.591305552924587|    1.2566420384451|  1.02082347462088|   1.20828281077714| 0.713877522980111|-0.479715195832941|   0.855666965539225|   -0.29806269659165|  0.46003794058849| -0.308800160578777|  0.711998598492308| -2.62815762833845|   1.5171597933307|  1.95856552932903|  0.536377385180344|  -1.04299521613261|    1.05788282338353| -0.248119996881906| 0.322488726496967|  -0.111388552926311|  0.0187339338344172|  0.327823380302478| -0.201022338121271| 0.0291894699003152|-0.0878519043162661| -0.257614495228371|  -0.135534991663887|   0.148956177604722| 11.39|    0|[23795.0,-0.59130...|[0.50089004545901...|[15.4665086641540...|[0.77332543320770...|       0.0|\n",
      "|30500.0|  1.18760260094611| 0.0238271290935703| 0.149872240166717|   1.30289161390443|-0.103474410271631|0.0489155779595064| -0.0779443542808784|   0.133983849329809| 0.645463542362161|-0.0641343630094407|  -1.34313886361283|-0.760744022093464| -2.16212205026576| 0.459060687467735|  0.174822841583482| -0.478200796031024|   0.204119152691626| -0.555204800540122| -0.16753178502488|  -0.299327334079112|  -0.155534958231038| -0.323518300081232| -0.103594986888986|  -0.47580439834719|   0.65568913271475| -0.274750552385651|  0.0244361922868643| 0.00725406922989365| 13.84|    0|[30500.0,1.187602...|[0.64203178762344...|[18.9977458646874...|[0.94988729323437...|       0.0|\n",
      "|37960.0|  1.22581581744885| -0.794286852013415| 0.796850575136549|  -0.73522202127834| -1.26806774469587|-0.241332736464998|  -0.951123159489164|   0.188550825079165|-0.743754818544826|  0.741155466633993|   1.70478916465739|-0.261151472560249|-0.914745585527803| 0.169658870414049|  0.594373147536773|   1.25359035128781|   0.309797609098534|  -1.22252863749493| 0.328065041753004|  0.0530216864119365|   0.144345867723477|  0.188033874117432|  0.103447911957141|  0.202449610291346| 0.0754498625771863|  -0.36747470393622|  0.0224985844755719|   0.017680369487506| 43.38|    0|[37960.0,1.225815...|[0.79906644780937...|[19.0288542911447...|[0.95144271455723...|       0.0|\n",
      "|39241.0| -1.19884814478299|  0.778913099732473|  2.12580405463438|-0.0476205839475379|-0.652995394418597| 0.750621988341596|  -0.549930792762761|    1.03997786885336| 0.115606805299267| -0.664586416346967|  0.354264333985213|0.0810344780290032| -1.57300692204935| 0.289617148440097|  -0.23176738222044|  0.211852147439569|  0.0535914278190268|  0.321144977625066| 0.241137298057796| -0.0724895030448271|-0.00368191312915266| 0.0300970018184195| -0.206622450210449| -0.307482899134885|  0.142328556772918|  0.407038458730891|   0.177335297599764|  0.0488634645237116|  6.49|    0|[39241.0,-1.19884...|[0.82603178288956...|[18.8664916537820...|[0.94332458268910...|       0.0|\n",
      "|39374.0| -1.08465944167874|   1.87506146916384| 0.350536203010637|   3.16724162453104|-0.391816701283597| 0.627411160804031|  -0.557509128169852|     1.2541591389309| -1.15358728588507|  0.336971479766786|  0.973516545579841| 0.693076335932147|-0.141671878929597|-0.582549491128917| -0.592633056631179|-0.0991345588085815|    1.68660096189253|  0.444063566604972| 0.765448453832848|   0.130850073143333|  0.0463808212482819|  0.290584293454157|0.00972398118002549|-0.0645799767252104| -0.225990428730917|  0.279868632161988|   0.234682759400317|  0.0455278681614525| 13.65|    0|[39374.0,-1.08465...|[0.82883146248805...|[15.4400075373694...|[0.77200037686847...|       0.0|\n",
      "|41361.0|  1.24986794970451| -0.836289783804352|  1.48196350330532| -0.439705220392026| -1.99229726431416| -0.64430733863253|    -1.2079530521884|-0.00872664939360891|-0.282819878493556|  0.591433760729978| -0.241929521434896| 0.169826787529309| 0.899060928418718|-0.477322439773031|   1.39220456383615| -0.747307202361551|  -0.245512026723953|    1.4627439858375| -1.29781023543998|  -0.369360084982454|  -0.122482785868635|  0.121403706484914| 0.0853447387918927|  0.776664958369549|-0.0777773546174524|   1.09144346566012|-0.00354902445977924|  0.0367962219630558|  37.9|    0|[41361.0,1.249867...|[0.87065825468502...|[19.1407321264268...|[0.95703660632134...|       0.0|\n",
      "|41905.0| -3.19218856028169|  -3.34249790163633| 0.533395971470093| 0.0123680070946932|  3.64905157046698| -2.17202530237014|   -2.20035029867188|   0.245580565903096|  -1.4225344820433|  0.754860690288469|   0.84574757788974| -1.45902562451896| -1.63226697357302|-0.332672849096963|  0.989888952853559|  0.815476346841179|    1.38619310088906| -0.283306630476594|  2.06864768945058|  0.0755620193323531|   0.202487230765423|  0.371940355336796| -0.582215478989041| -0.839369480003945|  0.568260445255778|  0.225929611096351|   0.103776422634005|   0.236344234977359| 34.95|    0|[41905.0,-3.19218...|[0.88210957574952...|[16.6271743012859...|[0.83135871506429...|       0.0|\n",
      "|45581.0| 0.964527564113831|  -1.41059813899194| 0.963783634291385| -0.459491132060811| -1.77418225644628|-0.123243274100432|   -1.03490123277414|    0.12618449490743|-0.325096298169674|  0.602694536880225|   1.08005930046846|0.0480443578266767|-0.157330550741655|-0.408042990552468| -0.281973464227564|   1.41994443804799|  0.0861360904623724| -0.451756678562308| 0.693798729249663|   0.431021778398517|   0.464929529774505|  0.952970930075231| -0.271657070856832|  0.381411228670378|  0.348638119808477|-0.0816919681508148| 0.00973451502165483|  0.0461220582743833| 191.0|    0|[45581.0,0.964527...|[0.95949019382506...|[18.8664916537820...|[0.94332458268910...|       0.0|\n",
      "|51393.0|  1.40230466898102| -0.416751165947618|-0.248407333388429| -0.695557776273848|-0.543300884669767|-0.955086061339831|  -0.177325634056391|  -0.210208743914309|-0.992640043471501|  0.673503782024286| -0.192251466976407| -1.10742953445159|-0.983055337411411| 0.358807354593132|  0.793959970207068|  0.485334517711485|   0.747854466852914|  -1.91685631809499| 0.283890005435143| -0.0332019585580585|   0.206288659343112|  0.508937022602326| -0.122592026686741|  0.099903294099773|  0.683235607359703|-0.0521920661334584| -0.0197452655382408|-0.00347769797867743|  15.0|    0|[51393.0,1.402304...|[1.08183408725678...|[19.0764630658536...|[0.95382315329268...|       0.0|\n",
      "|55663.0| 0.302612701858678|  -1.31332385346723| 0.784221987546672|   1.36315057819939|-0.936359006819617| 0.979759040064593|  -0.331079418736897|   0.399721138564234| 0.266794963731163|-0.0817632642022692|   1.60522025046849| 0.778968729106345|-0.413391865591405| 0.390975175570565|   1.31859388293945|  0.365780661509708|  -0.357744526400069| 0.0912291511847996| -1.26770209764006|   0.576845603521974|   0.453288709386449|  0.484743125265616| -0.296613512948013| -0.279398236821098|0.00644989209057354| -0.344072031700519|  0.0173298375117226|  0.0896545205809209| 390.0|    0|[55663.0,0.302612...|[1.17171853752406...|[17.2048570671574...|[0.86024285335786...|       0.0|\n",
      "|56393.0| 0.903730136405436|  -1.66933078270098| 0.312550915120664|  -2.35179036591906| -1.81477583567554| -1.02908220631443|  -0.410906718187935|  -0.227632362586448| 0.964062984596178| -0.968759057480245|  0.336907250814396|  1.40377873837542| 0.987806574618965|-0.161691081765736|   1.43311340159817|  -3.06334898967404|   0.798592570233036|  0.746696713343952|-0.209834741630126| -0.0517630772682239|  -0.148732255963398|-0.0931961122986754| -0.159049385537306|   0.63737925805943|  0.423282099873888| -0.763127823232957|  0.0892736780350701|  0.0726823810910926|229.96|    0|[56393.0,0.903730...|[1.18708519998193...|[18.8664916537820...|[0.94332458268910...|       0.0|\n",
      "|59979.0| -1.50271094388799|  0.541154620236029|  1.05366772482881|   1.45961806694079|-0.505410664769712| 0.298603418305008| -0.0045486748262749|   0.770254463027313|-0.123300364171934|  0.122460911315547|   0.85291977716917| 0.563959080073009| -1.22322747119493| 0.519495091769241| -0.488100038027375| -0.862283320029989|   0.674616688060255|  0.055918390361675| 0.861726194846843|   0.178761361256941|   0.122169702586295|  0.542256826707095|0.00907439111912714|  0.223612413408765| -0.176814706878454| -0.190344562073897|   0.454764827900316|   0.180614658270372|  95.0|    0|[59979.0,-1.50271...|[1.26257129802841...|[19.0413938786942...|[0.95206969393471...|       0.0|\n",
      "|62655.0| -2.09813901020574|  -1.96038313304569|  1.27105107423095|   1.29174020649953|  1.89266961761909|   1.0172386366548|   0.104835173821341|   0.514484485324321| -0.64524993280272|-0.0651755422925575|   2.09014533042124|  0.59696733000345|-0.574701207574244|  0.58540769507272|   1.64554450439225|  -1.28522232500504|   0.645604293771099|  -1.05796490063856|-0.970053870383989|   0.991210757660108|   0.583152455234793|  0.963450351126459|  0.919086641679719|  -1.07321489157993| -0.468770658966504| -0.247340529256357|  -0.087112888038859| -0.0321922449559954| 283.0|    0|[62655.0,-2.09813...|[1.31890169355892...|[18.1396714194276...|[0.90698357097138...|       0.0|\n",
      "|67557.0| -4.31173606670924|  -4.18365274148876| 0.713906332318775|  -1.85641467384222| 0.738959250481736|  -3.0986788266335|  -0.937906170004483| -0.0453565657099879| 0.186179345592317|  -0.56358158926984|-0.0227369384810085|  1.00270317568724|  1.64906192543591| -0.28529419519271|   1.20398924964509|   -1.4345463732729|  -0.203684044810958|   1.40032039118129|-0.583614125063466|   -2.32518299409694|  -0.601947363219017|   1.02083909069037|   3.30744129415253|  0.952379909582233|  0.198559362940514|-0.0531300748694331|   0.830494731221593|  -0.511088061311795| 15.13|    0|[67557.0,-4.31173...|[1.42208988447466...|[17.8142915466679...|[0.89071457733339...|       0.0|\n",
      "|67721.0|  1.18180528935989|  0.272386952425076|  0.40127533195488|  0.727371477704355|-0.383405426246961|-0.797341496346555|-0.00562487840390658| -0.0644592406239948|0.0664886519414149| -0.317485609007777|  0.378154570332151| 0.215190649628829|-0.249831834076853|-0.159151702488576|   1.36645413382229|  0.110448424899607|   0.414395476200891| -0.804417963000993| -0.67811036047229|  -0.140106651716997|  -0.240626567871049| -0.690532767722799|  0.200201344072725|  0.349321021010576| 0.0847600184883079|  0.104817634323621|-0.00957005507331966|  0.0305861855649775|  5.99|    0|[67721.0,1.181805...|[1.42554212097204...|[19.0288542911447...|[0.95144271455723...|       0.0|\n",
      "|68600.0|  1.26118953895433|-0.0342481006710851|-0.248462111270486| 0.0244860414796775|-0.203934008038309| -1.01309524732437|   0.271709920536825|   -0.27910555117407| 0.103549192269924| -0.107158809918978| -0.788811635136136|-0.281763220507169|-0.424778150971602| 0.467978694379544|  0.949795485480489|  0.216558721318572|  -0.354991434729098| -0.395127643071945| 0.268732713987485|-0.00860498037249245| -0.0956035227613087| -0.373524115162743|  -0.12415417455495|-0.0564000911114653|  0.461366469325835|   1.03724978703435|  -0.113516009796839|-0.00260350016859946| 48.76|    0|[68600.0,1.261189...|[1.44404526658913...|[19.0288542911447...|[0.95144271455723...|       0.0|\n",
      "|70180.0|  1.17225653299504|   0.75797222445426| -0.21606091164189|   1.36836653179742| 0.201538730594098|-0.936726033274122|   0.308821804970573|  -0.184312552948833|-0.267753245278351| -0.755416220846835|  0.806758522123598| 0.606621217385913| 0.859398452117948| -1.48652382297131|   1.20827134202279|  0.162207448546559|    1.23427235762339|-0.0848253393342518| -1.11330264546317| -0.0765304515251816|-0.00724712698178824|  0.133898613101313|-0.0657641065340047|  0.294082712517333|  0.608535207195372| -0.321221223349713|   0.058667543279597|  0.0595305290625045|   1.0|    0|[70180.0,1.172256...|[1.47730461821027...|[14.5699351715714...|[0.72849675857857...|       0.0|\n",
      "|71984.0|  1.28240449005845|  0.459864448485071|-0.372285843841081|  0.826375230198797| 0.463567933906412|-0.466406979345697|   0.460867068619088|  -0.186469227683688|-0.549700348247657|  0.203961346650834|    0.7876629553134|  0.88276965167727| 0.417271196275899| 0.642624756063035|-0.0104237454816678|  0.161874914105341|  -0.835297939325353|  0.302139195091954| 0.293009788618166| -0.0967514494426412|  0.0139857027658827| 0.0838961383402962| -0.247503679005312| -0.325526679097831|  0.927292888692591| -0.272554785020257| -0.0101678632825408|-0.00533248686039493|  1.79|    0|[71984.0,1.282404...|[1.51527921968151...|[18.8664916537820...|[0.94332458268910...|       0.0|\n",
      "|73623.0|  1.25381305804824|  0.317103298294105| 0.271524590358804|  0.686288768092194|-0.379041026633658| -1.04828334686827|  0.0658198760923762|  -0.180970178358554|0.0895395317775318| -0.273689822416066| -0.176786183985848|0.0283841630907909|-0.117378636651597|-0.219762283967263|   1.13728188857424|   0.51197690890655|-0.00544686130731035| -0.236750857290235|-0.175804467095545|  -0.095069152461674|  -0.293435911142577| -0.870958148142215|  0.123808615946726|  0.279226834170062|  0.210471245161548| 0.0987524757183304| -0.0260645787416931|  0.0300495791839728|  4.99|    0|[73623.0,1.253813...|[1.54978053443282...|[19.0288542911447...|[0.95144271455723...|       0.0|\n",
      "|73624.0| 0.929910617399462|  -1.43184844146531|  1.03046118511435| -0.468581158798676| -1.69623584750413| 0.219519053801554|   -1.13983754362636|   0.267807192870535|-0.306691184229023|  0.570612958453351|   1.44581969383267|0.0783437054906557|-0.445140183705005| -0.32434821444772|-0.0213717263078823|   1.07672640905545|   0.452032124511345| -0.942024104588619| 0.263311547002199|   0.353438398035551|   0.496159697543788|   1.09273965762207| -0.203384981417028|  0.269290772262052|  0.244998164353076|-0.0626949073802667|  0.0272521137205495|  0.0422128637846386| 179.0|    0|[73624.0,0.929910...|[1.54980158465536...|[18.8664916537820...|[0.94332458268910...|       0.0|\n",
      "+-------+------------------+-------------------+------------------+-------------------+------------------+------------------+--------------------+--------------------+------------------+-------------------+-------------------+------------------+------------------+------------------+-------------------+-------------------+--------------------+-------------------+------------------+--------------------+--------------------+-------------------+-------------------+-------------------+-------------------+-------------------+--------------------+--------------------+------+-----+--------------------+--------------------+--------------------+--------------------+----------+\n",
      "only showing top 20 rows\n",
      "\n"
     ]
    },
    {
     "name": "stderr",
     "output_type": "stream",
     "text": [
      "                                                                                \r"
     ]
    }
   ],
   "execution_count": 30
  },
  {
   "metadata": {},
   "cell_type": "markdown",
   "source": "# Evaluating the model",
   "id": "6910c852f43723fe"
  },
  {
   "metadata": {},
   "cell_type": "markdown",
   "source": [
    "## Converting the columns _Class_\n",
    "Since we streamed our data from Kafka, the column _Class_ is of type StringType. We need to convert it to IntegerType in order to evaluate the model"
   ],
   "id": "51a43fd5f624743d"
  },
  {
   "metadata": {
    "ExecuteTime": {
     "end_time": "2024-12-07T01:46:35.380024Z",
     "start_time": "2024-12-07T01:35:47.937751Z"
    }
   },
   "cell_type": "code",
   "source": [
    "from pyspark.sql.functions import col\n",
    "from pyspark.sql.types import IntegerType\n",
    "\n",
    "predictions_updated = predictions.withColumn(\"Class\", col(\"Class\").cast(IntegerType()))\n",
    "predictions_updated.printSchema()"
   ],
   "id": "8573a1f485699600",
   "outputs": [
    {
     "name": "stdout",
     "output_type": "stream",
     "text": [
      "root\n",
      " |-- Time: double (nullable = true)\n",
      " |-- V1: double (nullable = true)\n",
      " |-- V2: double (nullable = true)\n",
      " |-- V3: double (nullable = true)\n",
      " |-- V4: double (nullable = true)\n",
      " |-- V5: double (nullable = true)\n",
      " |-- V6: double (nullable = true)\n",
      " |-- V7: double (nullable = true)\n",
      " |-- V8: double (nullable = true)\n",
      " |-- V9: double (nullable = true)\n",
      " |-- V10: double (nullable = true)\n",
      " |-- V11: double (nullable = true)\n",
      " |-- V12: double (nullable = true)\n",
      " |-- V13: double (nullable = true)\n",
      " |-- V14: double (nullable = true)\n",
      " |-- V15: double (nullable = true)\n",
      " |-- V16: double (nullable = true)\n",
      " |-- V17: double (nullable = true)\n",
      " |-- V18: double (nullable = true)\n",
      " |-- V19: double (nullable = true)\n",
      " |-- V20: double (nullable = true)\n",
      " |-- V21: double (nullable = true)\n",
      " |-- V22: double (nullable = true)\n",
      " |-- V23: double (nullable = true)\n",
      " |-- V24: double (nullable = true)\n",
      " |-- V25: double (nullable = true)\n",
      " |-- V26: double (nullable = true)\n",
      " |-- V27: double (nullable = true)\n",
      " |-- V28: double (nullable = true)\n",
      " |-- Amount: double (nullable = true)\n",
      " |-- Class: integer (nullable = true)\n",
      " |-- features: vector (nullable = true)\n",
      " |-- scaled_features: vector (nullable = true)\n",
      " |-- rawPrediction: vector (nullable = true)\n",
      " |-- probability: vector (nullable = true)\n",
      " |-- prediction: double (nullable = true)\n",
      "\n"
     ]
    }
   ],
   "execution_count": 15
  },
  {
   "metadata": {
    "ExecuteTime": {
     "end_time": "2024-12-07T01:46:35.380067Z",
     "start_time": "2024-12-07T01:35:50.525478Z"
    }
   },
   "cell_type": "code",
   "source": [
    "from pyspark.ml.evaluation import BinaryClassificationEvaluator\n",
    "\n",
    "evaluator = BinaryClassificationEvaluator(labelCol=\"Class\")\n",
    "print(f\"Area under ROC: {evaluator.evaluate(predictions_updated)}\")\n",
    "logger.info(f\"Area under ROC: {evaluator.evaluate(predictions_updated)}\")"
   ],
   "id": "29053c83a79312ac",
   "outputs": [
    {
     "name": "stderr",
     "output_type": "stream",
     "text": [
      "24/12/06 20:35:52 WARN DAGScheduler: Broadcasting large task binary with size 5.7 MiB\n",
      "                                                                                \r"
     ]
    },
    {
     "name": "stdout",
     "output_type": "stream",
     "text": [
      "Area under ROC: 0.986046511627907\n"
     ]
    },
    {
     "name": "stderr",
     "output_type": "stream",
     "text": [
      "24/12/06 20:36:00 WARN DAGScheduler: Broadcasting large task binary with size 5.7 MiB\n",
      "INFO:KafkaConsumer1:Area under ROC: 0.986046511627907                           \n"
     ]
    }
   ],
   "execution_count": 16
  }
 ],
 "metadata": {
  "kernelspec": {
   "display_name": "Python 3",
   "language": "python",
   "name": "python3"
  },
  "language_info": {
   "codemirror_mode": {
    "name": "ipython",
    "version": 2
   },
   "file_extension": ".py",
   "mimetype": "text/x-python",
   "name": "python",
   "nbconvert_exporter": "python",
   "pygments_lexer": "ipython2",
   "version": "2.7.6"
  }
 },
 "nbformat": 4,
 "nbformat_minor": 5
}
