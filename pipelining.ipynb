{
 "cells": [
  {
   "cell_type": "code",
   "id": "initial_id",
   "metadata": {
    "collapsed": true,
    "ExecuteTime": {
     "end_time": "2024-12-07T03:24:47.813190Z",
     "start_time": "2024-12-07T03:24:47.595423Z"
    }
   },
   "source": [
    "from pyspark.sql import SparkSession\n",
    "from pyspark.ml.feature import VectorAssembler, StandardScaler\n",
    "from pyspark.ml.classification import RandomForestClassifier, RandomForestClassificationModel\n",
    "from pyspark.ml import Pipeline\n",
    "from preprocessing.preprocessor import split_data, class_imbalance\n",
    "\n",
    "%load_ext autoreload\n",
    "%autoreload 2"
   ],
   "outputs": [
    {
     "name": "stdout",
     "output_type": "stream",
     "text": [
      "The autoreload extension is already loaded. To reload it, use:\n",
      "  %reload_ext autoreload\n"
     ]
    }
   ],
   "execution_count": 98
  },
  {
   "metadata": {
    "ExecuteTime": {
     "end_time": "2024-12-07T03:24:47.929491Z",
     "start_time": "2024-12-07T03:24:47.822219Z"
    }
   },
   "cell_type": "code",
   "source": "spark = SparkSession.builder.appName(\"Pipeline\").config('spark.executor.cores', 8).getOrCreate()",
   "id": "8bd4fd5295072cfb",
   "outputs": [],
   "execution_count": 99
  },
  {
   "metadata": {
    "ExecuteTime": {
     "end_time": "2024-12-07T03:24:47.971976Z",
     "start_time": "2024-12-07T03:24:47.960545Z"
    }
   },
   "cell_type": "code",
   "source": "# spark.stop()",
   "id": "d57f5e771d33a067",
   "outputs": [],
   "execution_count": 100
  },
  {
   "metadata": {
    "ExecuteTime": {
     "end_time": "2024-12-07T03:24:50.423390Z",
     "start_time": "2024-12-07T03:24:47.990918Z"
    }
   },
   "cell_type": "code",
   "source": [
    "# Load data\n",
    "data = spark.read.csv(\"dataset/creditcard.csv\", header=True, inferSchema=True).cache()\n",
    "data.show(5)"
   ],
   "id": "1502bf65bed7906d",
   "outputs": [
    {
     "name": "stdout",
     "output_type": "stream",
     "text": [
      "+----+------------------+-------------------+----------------+------------------+-------------------+-------------------+-------------------+------------------+------------------+-------------------+------------------+------------------+------------------+------------------+------------------+------------------+------------------+-------------------+------------------+-------------------+--------------------+-------------------+------------------+------------------+------------------+------------------+--------------------+-------------------+------+-----+\n",
      "|Time|                V1|                 V2|              V3|                V4|                 V5|                 V6|                 V7|                V8|                V9|                V10|               V11|               V12|               V13|               V14|               V15|               V16|               V17|                V18|               V19|                V20|                 V21|                V22|               V23|               V24|               V25|               V26|                 V27|                V28|Amount|Class|\n",
      "+----+------------------+-------------------+----------------+------------------+-------------------+-------------------+-------------------+------------------+------------------+-------------------+------------------+------------------+------------------+------------------+------------------+------------------+------------------+-------------------+------------------+-------------------+--------------------+-------------------+------------------+------------------+------------------+------------------+--------------------+-------------------+------+-----+\n",
      "| 0.0|  -1.3598071336738|-0.0727811733098497|2.53634673796914|  1.37815522427443| -0.338320769942518|  0.462387777762292|  0.239598554061257|0.0986979012610507| 0.363786969611213| 0.0907941719789316|-0.551599533260813|-0.617800855762348|-0.991389847235408|-0.311169353699879|  1.46817697209427|-0.470400525259478| 0.207971241929242| 0.0257905801985591| 0.403992960255733|  0.251412098239705|  -0.018306777944153|  0.277837575558899|-0.110473910188767|0.0669280749146731| 0.128539358273528|-0.189114843888824|   0.133558376740387|-0.0210530534538215|149.62|    0|\n",
      "| 0.0|  1.19185711131486|   0.26615071205963|0.16648011335321| 0.448154078460911| 0.0600176492822243|-0.0823608088155687|-0.0788029833323113|0.0851016549148104|-0.255425128109186| -0.166974414004614|  1.61272666105479|  1.06523531137287|  0.48909501589608|-0.143772296441519| 0.635558093258208| 0.463917041022171|-0.114804663102346| -0.183361270123994|-0.145783041325259|-0.0690831352230203|  -0.225775248033138| -0.638671952771851| 0.101288021253234|-0.339846475529127| 0.167170404418143| 0.125894532368176|-0.00898309914322813| 0.0147241691924927|  2.69|    0|\n",
      "| 1.0| -1.35835406159823|  -1.34016307473609|1.77320934263119| 0.379779593034328| -0.503198133318193|   1.80049938079263|  0.791460956450422| 0.247675786588991| -1.51465432260583|  0.207642865216696| 0.624501459424895| 0.066083685268831| 0.717292731410831|-0.165945922763554|  2.34586494901581| -2.89008319444231|  1.10996937869599| -0.121359313195888| -2.26185709530414|  0.524979725224404|   0.247998153469754|  0.771679401917229| 0.909412262347719|-0.689280956490685|-0.327641833735251|-0.139096571514147| -0.0553527940384261|-0.0597518405929204|378.66|    0|\n",
      "| 1.0|-0.966271711572087| -0.185226008082898|1.79299333957872|-0.863291275036453|-0.0103088796030823|   1.24720316752486|   0.23760893977178| 0.377435874652262| -1.38702406270197|-0.0549519224713749|-0.226487263835401| 0.178228225877303| 0.507756869957169| -0.28792374549456|-0.631418117709045|  -1.0596472454325|-0.684092786345479|   1.96577500349538|  -1.2326219700892| -0.208037781160366|  -0.108300452035545|0.00527359678253453|-0.190320518742841| -1.17557533186321| 0.647376034602038|-0.221928844458407|  0.0627228487293033| 0.0614576285006353| 123.5|    0|\n",
      "| 2.0| -1.15823309349523|  0.877736754848451|  1.548717846511| 0.403033933955121| -0.407193377311653| 0.0959214624684256|  0.592940745385545|-0.270532677192282| 0.817739308235294|  0.753074431976354|-0.822842877946363|  0.53819555014995|   1.3458515932154| -1.11966983471731| 0.175121130008994|-0.451449182813529|-0.237033239362776|-0.0381947870352842| 0.803486924960175|  0.408542360392758|-0.00943069713232919|   0.79827849458971|-0.137458079619063| 0.141266983824769|-0.206009587619756| 0.502292224181569|   0.219422229513348|  0.215153147499206| 69.99|    0|\n",
      "+----+------------------+-------------------+----------------+------------------+-------------------+-------------------+-------------------+------------------+------------------+-------------------+------------------+------------------+------------------+------------------+------------------+------------------+------------------+-------------------+------------------+-------------------+--------------------+-------------------+------------------+------------------+------------------+------------------+--------------------+-------------------+------+-----+\n",
      "only showing top 5 rows\n",
      "\n"
     ]
    },
    {
     "name": "stderr",
     "output_type": "stream",
     "text": [
      "24/12/06 22:24:50 WARN CacheManager: Asked to cache already cached data.\n"
     ]
    }
   ],
   "execution_count": 101
  },
  {
   "metadata": {
    "ExecuteTime": {
     "end_time": "2024-12-07T03:24:50.489968Z",
     "start_time": "2024-12-07T03:24:50.455088Z"
    }
   },
   "cell_type": "code",
   "source": [
    "# Preprocessing\n",
    "\n",
    "# Create an assembler as the first stage of the pipeline\n",
    "assembler = VectorAssembler(inputCols=data.columns[:-1], outputCol=\"features\")\n",
    "\n",
    "# Create a scaler as the second stage of the pipeline\n",
    "scaler = StandardScaler(inputCol=\"features\", outputCol=\"scaled_features\")"
   ],
   "id": "56810cc70000c358",
   "outputs": [],
   "execution_count": 102
  },
  {
   "metadata": {},
   "cell_type": "markdown",
   "source": [
    "## Model Saving and Loading\n",
    "Since we have already trained a model and saved it, we can load it instead of training a new model. However, we will check if the model exists in the models directory. If it does not exist, we will train a new model and save it."
   ],
   "id": "7065438c8cb71419"
  },
  {
   "metadata": {
    "ExecuteTime": {
     "end_time": "2024-12-07T03:24:51.720063Z",
     "start_time": "2024-12-07T03:24:50.624404Z"
    }
   },
   "cell_type": "code",
   "source": [
    "# Check if we already have a model saved in models directory\n",
    "# If not, create a new model\n",
    "# If we have a model saved, load it\n",
    "rf_model = None \n",
    "try:\n",
    "    rf_model = RandomForestClassificationModel.load(\"models/credit_card_fraud_detection_model\")\n",
    "except Exception as e:\n",
    "    print(\"Model not found. Training a new model.\")\n",
    "    rf_model = RandomForestClassifier(featuresCol=\"scaled_features\", labelCol=\"Class\") "
   ],
   "id": "25f47370ffc7b962",
   "outputs": [],
   "execution_count": 103
  },
  {
   "metadata": {
    "ExecuteTime": {
     "end_time": "2024-12-07T03:24:51.774750Z",
     "start_time": "2024-12-07T03:24:51.760856Z"
    }
   },
   "cell_type": "code",
   "source": [
    "# Create a pipeline\n",
    "pipeline = Pipeline(stages=[assembler, scaler, rf_model])"
   ],
   "id": "332cc3c18c973bcd",
   "outputs": [],
   "execution_count": 104
  },
  {
   "metadata": {},
   "cell_type": "markdown",
   "source": [
    "# Pipeline restriction\n",
    "Now that we are inside the pipeline, the assembling and scaling will happen to the data we feed in"
   ],
   "id": "4965629de663faf4"
  },
  {
   "metadata": {
    "ExecuteTime": {
     "end_time": "2024-12-07T03:24:52.046360Z",
     "start_time": "2024-12-07T03:24:51.794968Z"
    }
   },
   "cell_type": "code",
   "source": [
    "# Split training and testing data\n",
    "df_balanced = class_imbalance(data)\n",
    "train_split, test_split = split_data(df_balanced, 42)\n",
    "train_unsplit, test_unsplit = split_data(data, 42)"
   ],
   "id": "ae0d877cd6998fc5",
   "outputs": [
    {
     "name": "stdout",
     "output_type": "stream",
     "text": [
      "Fraudulent transactions: 492\n",
      "Non-fraudulent transactions: 284315 before balancing\n"
     ]
    }
   ],
   "execution_count": 105
  },
  {
   "metadata": {
    "ExecuteTime": {
     "end_time": "2024-12-07T03:24:52.773616Z",
     "start_time": "2024-12-07T03:24:52.075532Z"
    }
   },
   "cell_type": "code",
   "source": [
    "print(\"Split data\")\n",
    "print(f\"Train data count: {train_split.count()}\")\n",
    "print(f\"Test data count: {test_split.count()}\")\n",
    "\n",
    "print(\"\\nUnsplit data\")\n",
    "print(f\"Train data count: {train_unsplit.count()}\")\n",
    "print(f\"Test data count: {test_unsplit.count()}\")"
   ],
   "id": "b14382eb9aafea46",
   "outputs": [
    {
     "name": "stdout",
     "output_type": "stream",
     "text": [
      "Split data\n",
      "Train data count: 785\n",
      "Test data count: 188\n",
      "\n",
      "Unsplit data\n",
      "Train data count: 228045\n",
      "Test data count: 56762\n"
     ]
    }
   ],
   "execution_count": 106
  },
  {
   "metadata": {
    "ExecuteTime": {
     "end_time": "2024-12-07T03:24:53.198635Z",
     "start_time": "2024-12-07T03:24:52.861747Z"
    }
   },
   "cell_type": "code",
   "source": [
    "# Fit the pipeline with unbalanced data\n",
    "import time\n",
    "start = time.perf_counter()\n",
    "pipeline_model = pipeline.fit(train_split)\n",
    "end = time.perf_counter()\n",
    "print(f\"Time taken for training: {end-start:.6f}s\")"
   ],
   "id": "c63a4da37e3f8d79",
   "outputs": [
    {
     "name": "stdout",
     "output_type": "stream",
     "text": [
      "Time taken for training: 0.305753s\n"
     ]
    }
   ],
   "execution_count": 107
  },
  {
   "metadata": {
    "ExecuteTime": {
     "end_time": "2024-12-07T03:24:53.393451Z",
     "start_time": "2024-12-07T03:24:53.324554Z"
    }
   },
   "cell_type": "code",
   "source": [
    "# Make predictions\n",
    "start = time.perf_counter()\n",
    "predictions = pipeline_model.transform(test_split)\n",
    "end = time.perf_counter()\n",
    "print(f\"Time taken for prediction: {end-start:.6f}s\")"
   ],
   "id": "ab966de1df268b9",
   "outputs": [
    {
     "name": "stdout",
     "output_type": "stream",
     "text": [
      "Time taken for prediction: 0.055841s\n"
     ]
    }
   ],
   "execution_count": 108
  },
  {
   "metadata": {
    "ExecuteTime": {
     "end_time": "2024-12-07T03:24:53.615022Z",
     "start_time": "2024-12-07T03:24:53.463440Z"
    }
   },
   "cell_type": "code",
   "source": "predictions.show(5)",
   "id": "6f9bd8cd3cd47601",
   "outputs": [
    {
     "name": "stdout",
     "output_type": "stream",
     "text": [
      "+------+------------------+----------------+------------------+----------------+------------------+-------------------+------------------+------------------+------------------+-----------------+----------------+-----------------+------------------+-----------------+------------------+------------------+-----------------+-----------------+------------------+------------------+------------------+------------------+--------------------+-------------------+------------------+------------------+------------------+------------------+------+-----+--------------------+--------------------+--------------------+--------------------+----------+\n",
      "|  Time|                V1|              V2|                V3|              V4|                V5|                 V6|                V7|                V8|                V9|              V10|             V11|              V12|               V13|              V14|               V15|               V16|              V17|              V18|               V19|               V20|               V21|               V22|                 V23|                V24|               V25|               V26|               V27|               V28|Amount|Class|            features|     scaled_features|       rawPrediction|         probability|prediction|\n",
      "+------+------------------+----------------+------------------+----------------+------------------+-------------------+------------------+------------------+------------------+-----------------+----------------+-----------------+------------------+-----------------+------------------+------------------+-----------------+-----------------+------------------+------------------+------------------+------------------+--------------------+-------------------+------------------+------------------+------------------+------------------+------+-----+--------------------+--------------------+--------------------+--------------------+----------+\n",
      "|4462.0| -2.30334956758553|  1.759247460267|-0.359744743330052|2.33024305053917|-0.821628328375422|-0.0757875706194599| 0.562319782266954|-0.399146578487216|-0.238253367661746|-1.52541162656194|2.03291215755072|-6.56012429505962|0.0229373234890961|-1.47010153611197|-0.698826068579047| -2.28219382856251|-4.78183085597533|-2.61566494476124| -1.33444106667307|-0.430021867171611|-0.294166317554753|-0.932391057274991|   0.172726295799422|-0.0873295379700724|-0.156114264651172|-0.542627889040196|0.0395659889264757|-0.153028796529788|239.93|    1|[4462.0,-2.303349...|[0.09291633936447...|[18.9977458646874...|[0.94988729323437...|       0.0|\n",
      "|7535.0|0.0267792264491516|4.13246389713003| -6.56059996809658|6.34855667313983|  1.32966566904142|  -2.51347884762413| -1.68910220031328| 0.303252800547589| -3.13940905736457|-6.04546779778801|6.75462544809695|-8.94817857893317| 0.702724998099873|-10.7338541032306| -1.37951985681718| -1.63896011485587|-1.74635013628103|0.776744097926754| -1.32735663549015| 0.587743219006407| 0.370508651493253| -0.57675247317433|  -0.669605371766238| -0.759907529538618|  1.60505555017462| 0.540675396428899| 0.737040381683977| 0.496699108168337|   1.0|    1|[7535.0,0.0267792...|[0.15690825125758...|[7.85176937864232...|[0.39258846893211...|       1.0|\n",
      "|7551.0| 0.316459000444982|3.80907594667829| -5.61515901119457|6.04744510216478|  1.55402595692572|   -2.6513531120137|-0.746579273100222|0.0555863112529252|  -2.6786785422399|-4.95949291161496|6.43905335158373|-7.52011739288703|  0.38635166741077|-9.25230724747513| -1.36518841502051|-0.502362190618164|0.784426598154274| 1.49430460743838| -1.80801215867357| 0.388307428238927| 0.208828369001674|-0.511746619200722|  -0.583813220813723| -0.219845029091423|  1.47475258440688| 0.491191925656006| 0.518868284577287|  0.40252806767232|   1.0|    1|[7551.0,0.3164590...|[0.15724143400743...|[5.86172389816244...|[0.29308619490812...|       1.0|\n",
      "|8090.0| -1.78322883722709|3.40279371307631| -3.82274226552205|2.62536815276644| -1.97641541136284|  -2.73168901231308| -3.43055914949085|  1.41320351399318|-0.776941494554916|-6.19988176274188|4.36671348631445|-8.24326243368313| 0.345761165232579|-6.59055029705192| 0.265576095932165| -3.02845238846152|-4.21448627485607|-1.21360784773725|-0.265421595374812| 0.364089115014408| 0.454031931736316|-0.577525824201459|  0.0459665375362652|  0.461700017592254| 0.044146161217817| 0.305704433918549| 0.530980986346765| 0.243745598122111|   1.0|    1|[8090.0,-1.783228...|[0.16846552789301...|[11.6624199798857...|[0.58312099899428...|       0.0|\n",
      "|8614.0| -2.16992897559082| 3.6396539992044| -4.50849778617728|2.73066814884895| -2.12269287053048|  -2.34101682766366| -4.23525308290613|  1.70353765763508| -1.30527913344307| -6.7167200227127|6.35361231915591|-8.60164826276464| 0.449930038237225|-7.50616937408145|-0.438081781812467| -3.69451599830956|-6.30475338603049|-1.26758712788115| 0.357987030484253|   0.5007790539507| 0.645103275621378|-0.503529448911197|-5.22821818299227E-4| 0.0716957787676742|0.0920074334247208| 0.308497931577036| 0.552590914653841| 0.298954478709399|   1.0|    1|[8614.0,-2.169928...|[0.17937726295060...|[10.4990162397176...|[0.52495081198588...|       0.0|\n",
      "+------+------------------+----------------+------------------+----------------+------------------+-------------------+------------------+------------------+------------------+-----------------+----------------+-----------------+------------------+-----------------+------------------+------------------+-----------------+-----------------+------------------+------------------+------------------+------------------+--------------------+-------------------+------------------+------------------+------------------+------------------+------+-----+--------------------+--------------------+--------------------+--------------------+----------+\n",
      "only showing top 5 rows\n",
      "\n"
     ]
    }
   ],
   "execution_count": 109
  },
  {
   "metadata": {
    "ExecuteTime": {
     "end_time": "2024-12-07T03:24:53.659322Z",
     "start_time": "2024-12-07T03:24:53.646169Z"
    }
   },
   "cell_type": "code",
   "source": [
    "# Save the pipeline\n",
    "# pipeline_model.write().overwrite().save(\"pipeline/credit_card_fraud_detection_pipeline\")"
   ],
   "id": "6395e71aff17a370",
   "outputs": [],
   "execution_count": 110
  },
  {
   "metadata": {
    "ExecuteTime": {
     "end_time": "2024-12-07T03:24:53.819617Z",
     "start_time": "2024-12-07T03:24:53.797151Z"
    }
   },
   "cell_type": "code",
   "source": "predictions.printSchema()",
   "id": "fcbda17e90ea5cdd",
   "outputs": [
    {
     "name": "stdout",
     "output_type": "stream",
     "text": [
      "root\n",
      " |-- Time: double (nullable = true)\n",
      " |-- V1: double (nullable = true)\n",
      " |-- V2: double (nullable = true)\n",
      " |-- V3: double (nullable = true)\n",
      " |-- V4: double (nullable = true)\n",
      " |-- V5: double (nullable = true)\n",
      " |-- V6: double (nullable = true)\n",
      " |-- V7: double (nullable = true)\n",
      " |-- V8: double (nullable = true)\n",
      " |-- V9: double (nullable = true)\n",
      " |-- V10: double (nullable = true)\n",
      " |-- V11: double (nullable = true)\n",
      " |-- V12: double (nullable = true)\n",
      " |-- V13: double (nullable = true)\n",
      " |-- V14: double (nullable = true)\n",
      " |-- V15: double (nullable = true)\n",
      " |-- V16: double (nullable = true)\n",
      " |-- V17: double (nullable = true)\n",
      " |-- V18: double (nullable = true)\n",
      " |-- V19: double (nullable = true)\n",
      " |-- V20: double (nullable = true)\n",
      " |-- V21: double (nullable = true)\n",
      " |-- V22: double (nullable = true)\n",
      " |-- V23: double (nullable = true)\n",
      " |-- V24: double (nullable = true)\n",
      " |-- V25: double (nullable = true)\n",
      " |-- V26: double (nullable = true)\n",
      " |-- V27: double (nullable = true)\n",
      " |-- V28: double (nullable = true)\n",
      " |-- Amount: double (nullable = true)\n",
      " |-- Class: integer (nullable = true)\n",
      " |-- features: vector (nullable = true)\n",
      " |-- scaled_features: vector (nullable = true)\n",
      " |-- rawPrediction: vector (nullable = true)\n",
      " |-- probability: vector (nullable = true)\n",
      " |-- prediction: double (nullable = false)\n",
      "\n"
     ]
    }
   ],
   "execution_count": 111
  },
  {
   "metadata": {
    "ExecuteTime": {
     "end_time": "2024-12-07T03:24:54.846002Z",
     "start_time": "2024-12-07T03:24:53.917110Z"
    }
   },
   "cell_type": "code",
   "source": [
    "# Evaluate the model\n",
    "\n",
    "from pyspark.ml.evaluation import BinaryClassificationEvaluator\n",
    "\n",
    "evaluator = BinaryClassificationEvaluator(labelCol=\"Class\")\n",
    "print(f\"Area under ROC: {evaluator.evaluate(predictions)}\")"
   ],
   "id": "c08c9cf697b9f5fd",
   "outputs": [
    {
     "name": "stdout",
     "output_type": "stream",
     "text": [
      "Area under ROC: 0.9086149994309775\n"
     ]
    }
   ],
   "execution_count": 112
  },
  {
   "metadata": {
    "ExecuteTime": {
     "end_time": "2024-12-07T03:24:55.400912Z",
     "start_time": "2024-12-07T03:24:54.879472Z"
    }
   },
   "cell_type": "code",
   "source": [
    "# Plot ROC curve\n",
    "import matplotlib.pyplot as plt\n",
    "from sklearn.metrics import roc_curve, auc\n",
    "\n",
    "# Convert the predictions to a Pandas DataFrame\n",
    "predictions_df = predictions.select('Class', 'probability').toPandas()\n",
    "\n",
    "# Get the false positive rate and true positive rate\n",
    "fpr, tpr, _ = roc_curve(predictions_df['Class'], predictions_df['probability'].apply(lambda x: x[1]))\n",
    "\n",
    "# Calculate the AUC\n",
    "roc_auc = auc(fpr, tpr)\n",
    "\n",
    "# Plot the ROC curve\n",
    "plt.figure()\n",
    "plt.plot(fpr, tpr, color='darkorange', lw=1, label=f'ROC curve (area = {roc_auc:.2f})')\n",
    "plt.xlim([0.0, 1.0])\n",
    "plt.ylim([0.0, 1.05])\n",
    "plt.xlabel('False Positive Rate')\n",
    "plt.ylabel('True Positive Rate')\n",
    "plt.title('Receiver Operating Characteristic')\n",
    "plt.legend(loc=\"lower right\")\n",
    "plt.show()"
   ],
   "id": "496c20cb818eda8e",
   "outputs": [
    {
     "data": {
      "text/plain": [
       "<Figure size 640x480 with 1 Axes>"
      ],
      "image/png": "[encoded data removed]"
     },
     "metadata": {},
     "output_type": "display_data"
    }
   ],
   "execution_count": 113
  }
 ],
 "metadata": {
  "kernelspec": {
   "display_name": "Python 3",
   "language": "python",
   "name": "python3"
  },
  "language_info": {
   "codemirror_mode": {
    "name": "ipython",
    "version": 2
   },
   "file_extension": ".py",
   "mimetype": "text/x-python",
   "name": "python",
   "nbconvert_exporter": "python",
   "pygments_lexer": "ipython2",
   "version": "2.7.6"
  }
 },
 "nbformat": 4,
 "nbformat_minor": 5
}
