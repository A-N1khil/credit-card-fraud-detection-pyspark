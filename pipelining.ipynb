{
 "cells": [
  {
   "cell_type": "code",
   "id": "initial_id",
   "metadata": {
    "collapsed": true,
    "ExecuteTime": {
     "end_time": "2024-12-06T21:59:47.699649Z",
     "start_time": "2024-12-06T21:59:47.417804Z"
    }
   },
   "source": [
    "from pyspark.sql import SparkSession\n",
    "from pyspark.ml.feature import VectorAssembler, StandardScaler\n",
    "from pyspark.ml.classification import RandomForestClassifier, RandomForestClassificationModel\n",
    "from pyspark.ml import Pipeline\n",
    "from preprocessing.preprocessor import split_data, class_imbalance\n",
    "\n",
    "%load_ext autoreload\n",
    "%autoreload 2"
   ],
   "outputs": [],
   "execution_count": 1
  },
  {
   "metadata": {
    "ExecuteTime": {
     "end_time": "2024-12-06T21:59:50.205456Z",
     "start_time": "2024-12-06T21:59:47.710683Z"
    }
   },
   "cell_type": "code",
   "source": "spark = SparkSession.builder.appName(\"Pipeline\").getOrCreate()",
   "id": "8bd4fd5295072cfb",
   "outputs": [
    {
     "name": "stderr",
     "output_type": "stream",
     "text": [
      "24/12/06 16:59:49 WARN Utils: Your hostname, Nikhils-MacBook-Pro.local resolves to a loopback address: 127.0.0.1; using 10.0.0.206 instead (on interface en0)\n",
      "24/12/06 16:59:49 WARN Utils: Set SPARK_LOCAL_IP if you need to bind to another address\n",
      "Setting default log level to \"WARN\".\n",
      "To adjust logging level use sc.setLogLevel(newLevel). For SparkR, use setLogLevel(newLevel).\n",
      "24/12/06 16:59:49 WARN NativeCodeLoader: Unable to load native-hadoop library for your platform... using builtin-java classes where applicable\n",
      "24/12/06 16:59:49 WARN Utils: Service 'SparkUI' could not bind on port 4040. Attempting port 4041.\n",
      "24/12/06 16:59:49 WARN Utils: Service 'SparkUI' could not bind on port 4041. Attempting port 4042.\n"
     ]
    }
   ],
   "execution_count": 2
  },
  {
   "metadata": {
    "ExecuteTime": {
     "end_time": "2024-12-06T21:59:54.287982Z",
     "start_time": "2024-12-06T21:59:50.252499Z"
    }
   },
   "cell_type": "code",
   "source": [
    "# Load data\n",
    "data = spark.read.csv(\"dataset/creditcard.csv\", header=True, inferSchema=True).cache()\n",
    "data.show(5)"
   ],
   "id": "1502bf65bed7906d",
   "outputs": [
    {
     "name": "stderr",
     "output_type": "stream",
     "text": [
      "24/12/06 16:59:53 WARN package: Truncated the string representation of a plan since it was too large. This behavior can be adjusted by setting 'spark.sql.debug.maxToStringFields'.\n"
     ]
    },
    {
     "name": "stdout",
     "output_type": "stream",
     "text": [
      "+----+------------------+-------------------+----------------+------------------+-------------------+-------------------+-------------------+------------------+------------------+-------------------+------------------+------------------+------------------+------------------+------------------+------------------+------------------+-------------------+------------------+-------------------+--------------------+-------------------+------------------+------------------+------------------+------------------+--------------------+-------------------+------+-----+\n",
      "|Time|                V1|                 V2|              V3|                V4|                 V5|                 V6|                 V7|                V8|                V9|                V10|               V11|               V12|               V13|               V14|               V15|               V16|               V17|                V18|               V19|                V20|                 V21|                V22|               V23|               V24|               V25|               V26|                 V27|                V28|Amount|Class|\n",
      "+----+------------------+-------------------+----------------+------------------+-------------------+-------------------+-------------------+------------------+------------------+-------------------+------------------+------------------+------------------+------------------+------------------+------------------+------------------+-------------------+------------------+-------------------+--------------------+-------------------+------------------+------------------+------------------+------------------+--------------------+-------------------+------+-----+\n",
      "| 0.0|  -1.3598071336738|-0.0727811733098497|2.53634673796914|  1.37815522427443| -0.338320769942518|  0.462387777762292|  0.239598554061257|0.0986979012610507| 0.363786969611213| 0.0907941719789316|-0.551599533260813|-0.617800855762348|-0.991389847235408|-0.311169353699879|  1.46817697209427|-0.470400525259478| 0.207971241929242| 0.0257905801985591| 0.403992960255733|  0.251412098239705|  -0.018306777944153|  0.277837575558899|-0.110473910188767|0.0669280749146731| 0.128539358273528|-0.189114843888824|   0.133558376740387|-0.0210530534538215|149.62|    0|\n",
      "| 0.0|  1.19185711131486|   0.26615071205963|0.16648011335321| 0.448154078460911| 0.0600176492822243|-0.0823608088155687|-0.0788029833323113|0.0851016549148104|-0.255425128109186| -0.166974414004614|  1.61272666105479|  1.06523531137287|  0.48909501589608|-0.143772296441519| 0.635558093258208| 0.463917041022171|-0.114804663102346| -0.183361270123994|-0.145783041325259|-0.0690831352230203|  -0.225775248033138| -0.638671952771851| 0.101288021253234|-0.339846475529127| 0.167170404418143| 0.125894532368176|-0.00898309914322813| 0.0147241691924927|  2.69|    0|\n",
      "| 1.0| -1.35835406159823|  -1.34016307473609|1.77320934263119| 0.379779593034328| -0.503198133318193|   1.80049938079263|  0.791460956450422| 0.247675786588991| -1.51465432260583|  0.207642865216696| 0.624501459424895| 0.066083685268831| 0.717292731410831|-0.165945922763554|  2.34586494901581| -2.89008319444231|  1.10996937869599| -0.121359313195888| -2.26185709530414|  0.524979725224404|   0.247998153469754|  0.771679401917229| 0.909412262347719|-0.689280956490685|-0.327641833735251|-0.139096571514147| -0.0553527940384261|-0.0597518405929204|378.66|    0|\n",
      "| 1.0|-0.966271711572087| -0.185226008082898|1.79299333957872|-0.863291275036453|-0.0103088796030823|   1.24720316752486|   0.23760893977178| 0.377435874652262| -1.38702406270197|-0.0549519224713749|-0.226487263835401| 0.178228225877303| 0.507756869957169| -0.28792374549456|-0.631418117709045|  -1.0596472454325|-0.684092786345479|   1.96577500349538|  -1.2326219700892| -0.208037781160366|  -0.108300452035545|0.00527359678253453|-0.190320518742841| -1.17557533186321| 0.647376034602038|-0.221928844458407|  0.0627228487293033| 0.0614576285006353| 123.5|    0|\n",
      "| 2.0| -1.15823309349523|  0.877736754848451|  1.548717846511| 0.403033933955121| -0.407193377311653| 0.0959214624684256|  0.592940745385545|-0.270532677192282| 0.817739308235294|  0.753074431976354|-0.822842877946363|  0.53819555014995|   1.3458515932154| -1.11966983471731| 0.175121130008994|-0.451449182813529|-0.237033239362776|-0.0381947870352842| 0.803486924960175|  0.408542360392758|-0.00943069713232919|   0.79827849458971|-0.137458079619063| 0.141266983824769|-0.206009587619756| 0.502292224181569|   0.219422229513348|  0.215153147499206| 69.99|    0|\n",
      "+----+------------------+-------------------+----------------+------------------+-------------------+-------------------+-------------------+------------------+------------------+-------------------+------------------+------------------+------------------+------------------+------------------+------------------+------------------+-------------------+------------------+-------------------+--------------------+-------------------+------------------+------------------+------------------+------------------+--------------------+-------------------+------+-----+\n",
      "only showing top 5 rows\n",
      "\n"
     ]
    }
   ],
   "execution_count": 3
  },
  {
   "metadata": {
    "ExecuteTime": {
     "end_time": "2024-12-06T21:59:54.547518Z",
     "start_time": "2024-12-06T21:59:54.508797Z"
    }
   },
   "cell_type": "code",
   "source": [
    "# Preprocessing\n",
    "\n",
    "# Create an assembler as the first stage of the pipeline\n",
    "assembler = VectorAssembler(inputCols=data.columns[:-1], outputCol=\"features\")\n",
    "\n",
    "# Create a scaler as the second stage of the pipeline\n",
    "scaler = StandardScaler(inputCol=\"features\", outputCol=\"scaled_features\")"
   ],
   "id": "56810cc70000c358",
   "outputs": [],
   "execution_count": 4
  },
  {
   "metadata": {},
   "cell_type": "markdown",
   "source": [
    "## Model Saving and Loading\n",
    "Since we have already trained a model and saved it, we can load it instead of training a new model. However, we will check if the model exists in the models directory. If it does not exist, we will train a new model and save it."
   ],
   "id": "7065438c8cb71419"
  },
  {
   "metadata": {
    "ExecuteTime": {
     "end_time": "2024-12-06T21:59:55.916496Z",
     "start_time": "2024-12-06T21:59:54.556080Z"
    }
   },
   "cell_type": "code",
   "source": [
    "# Check if we already have a model saved in models directory\n",
    "# If not, create a new model\n",
    "# If we have a model saved, load it\n",
    "rf_model = None \n",
    "try:\n",
    "    rf_model = RandomForestClassificationModel.load(\"models/credit_card_fraud_detection_model\")\n",
    "except Exception as e:\n",
    "    print(\"Model not found. Training a new model.\")\n",
    "    rf_model = RandomForestClassifier(featuresCol=\"scaled_features\", labelCol=\"Class\") "
   ],
   "id": "25f47370ffc7b962",
   "outputs": [
    {
     "name": "stderr",
     "output_type": "stream",
     "text": [
      "WARNING: An illegal reflective access operation has occurred\n",
      "WARNING: Illegal reflective access by org.apache.spark.util.SizeEstimator$ (file:/opt/anaconda3/lib/python3.11/site-packages/pyspark/jars/spark-core_2.12-3.4.1.jar) to field java.math.BigInteger.mag\n",
      "WARNING: Please consider reporting this to the maintainers of org.apache.spark.util.SizeEstimator$\n",
      "WARNING: Use --illegal-access=warn to enable warnings of further illegal reflective access operations\n",
      "WARNING: All illegal access operations will be denied in a future release\n"
     ]
    }
   ],
   "execution_count": 5
  },
  {
   "metadata": {
    "ExecuteTime": {
     "end_time": "2024-12-06T21:59:55.950902Z",
     "start_time": "2024-12-06T21:59:55.939476Z"
    }
   },
   "cell_type": "code",
   "source": [
    "# Create a pipeline\n",
    "pipeline = Pipeline(stages=[assembler, scaler, rf_model])"
   ],
   "id": "332cc3c18c973bcd",
   "outputs": [],
   "execution_count": 6
  },
  {
   "metadata": {},
   "cell_type": "markdown",
   "source": [
    "# Pipeline restriction\n",
    "Now that we are inside the pipeline, the assembling and scaling will happen to the data we feed in"
   ],
   "id": "4965629de663faf4"
  },
  {
   "metadata": {
    "ExecuteTime": {
     "end_time": "2024-12-06T21:59:56.981820Z",
     "start_time": "2024-12-06T21:59:55.963471Z"
    }
   },
   "cell_type": "code",
   "source": [
    "# Split training and testing data\n",
    "df_balanced = class_imbalance(data)\n",
    "train_split, test_split = split_data(df_balanced, 42)\n",
    "train_unsplit, test_unsplit = split_data(data, 42)"
   ],
   "id": "ae0d877cd6998fc5",
   "outputs": [
    {
     "name": "stdout",
     "output_type": "stream",
     "text": [
      "Fraudulent transactions: 492\n",
      "Non-fraudulent transactions: 284315 before balancing\n"
     ]
    },
    {
     "name": "stderr",
     "output_type": "stream",
     "text": [
      "                                                                                \r"
     ]
    }
   ],
   "execution_count": 7
  },
  {
   "metadata": {
    "ExecuteTime": {
     "end_time": "2024-12-06T21:59:58.443040Z",
     "start_time": "2024-12-06T21:59:57.015711Z"
    }
   },
   "cell_type": "code",
   "source": [
    "print(\"Split data\")\n",
    "print(f\"Train data count: {train_split.count()}\")\n",
    "print(f\"Test data count: {test_split.count()}\")\n",
    "\n",
    "print(\"\\nUnsplit data\")\n",
    "print(f\"Train data count: {train_unsplit.count()}\")\n",
    "print(f\"Test data count: {test_unsplit.count()}\")"
   ],
   "id": "b14382eb9aafea46",
   "outputs": [
    {
     "name": "stdout",
     "output_type": "stream",
     "text": [
      "Split data\n",
      "Train data count: 802\n",
      "Test data count: 191\n",
      "\n",
      "Unsplit data\n",
      "Train data count: 228045\n",
      "Test data count: 56762\n"
     ]
    }
   ],
   "execution_count": 8
  },
  {
   "metadata": {
    "ExecuteTime": {
     "end_time": "2024-12-06T21:59:59.424737Z",
     "start_time": "2024-12-06T21:59:58.458929Z"
    }
   },
   "cell_type": "code",
   "source": [
    "# Fit the pipeline with unbalanced data\n",
    "pipeline_model = pipeline.fit(train_unsplit)"
   ],
   "id": "c63a4da37e3f8d79",
   "outputs": [
    {
     "name": "stderr",
     "output_type": "stream",
     "text": [
      "                                                                                \r"
     ]
    }
   ],
   "execution_count": 9
  },
  {
   "metadata": {
    "ExecuteTime": {
     "end_time": "2024-12-06T22:00:38.753425Z",
     "start_time": "2024-12-06T22:00:37.184139Z"
    }
   },
   "cell_type": "code",
   "source": [
    "# Make predictions\n",
    "predictions = pipeline_model.transform(test_unsplit)\n",
    "predictions.show(5)"
   ],
   "id": "53845231e7f83d80",
   "outputs": [
    {
     "name": "stdout",
     "output_type": "stream",
     "text": [
      "+----+------------------+-----------------+------------------+------------------+------------------+------------------+--------------------+-------------------+------------------+-------------------+------------------+------------------+-------------------+------------------+-------------------+-------------------+-------------------+------------------+-------------------+------------------+-------------------+------------------+-------------------+------------------+------------------+-------------------+-------------------+-------------------+------+-----+--------------------+--------------------+--------------------+--------------------+----------+\n",
      "|Time|                V1|               V2|                V3|                V4|                V5|                V6|                  V7|                 V8|                V9|                V10|               V11|               V12|                V13|               V14|                V15|                V16|                V17|               V18|                V19|               V20|                V21|               V22|                V23|               V24|               V25|                V26|                V27|                V28|Amount|Class|            features|     scaled_features|       rawPrediction|         probability|prediction|\n",
      "+----+------------------+-----------------+------------------+------------------+------------------+------------------+--------------------+-------------------+------------------+-------------------+------------------+------------------+-------------------+------------------+-------------------+-------------------+-------------------+------------------+-------------------+------------------+-------------------+------------------+-------------------+------------------+------------------+-------------------+-------------------+-------------------+------+-----+--------------------+--------------------+--------------------+--------------------+----------+\n",
      "| 1.0| -1.35835406159823|-1.34016307473609|  1.77320934263119| 0.379779593034328|-0.503198133318193|  1.80049938079263|   0.791460956450422|  0.247675786588991| -1.51465432260583|  0.207642865216696| 0.624501459424895| 0.066083685268831|  0.717292731410831|-0.165945922763554|   2.34586494901581|  -2.89008319444231|   1.10996937869599|-0.121359313195888|  -2.26185709530414| 0.524979725224404|  0.247998153469754| 0.771679401917229|  0.909412262347719|-0.689280956490685|-0.327641833735251| -0.139096571514147|-0.0553527940384261|-0.0597518405929204|378.66|    0|[1.0,-1.358354061...|[2.10502225450310...|[18.2472281182296...|[0.91236140591148...|       0.0|\n",
      "| 4.0|  1.22965763450793|0.141003507049326|0.0453707735899449|  1.20261273673594| 0.191880988597645| 0.272708122899098|-0.00515900288250983| 0.0812129398830894| 0.464959994783886|-0.0992543211289237| -1.41690724314928|-0.153825826253651|  -0.75106271556262|  0.16737196252175| 0.0501435942254188| -0.443586797916727|0.00282051247234708| -0.61198733994012|-0.0455750446637976| -0.21963255278686| -0.167716265815783|-0.270709726172363| -0.154103786809305|-0.780055415004671|  0.75013693580659| -0.257236845917139| 0.0345074297438413|0.00516776890624916|  4.99|    0|[4.0,1.2296576345...|[8.42008901801242...|[18.8664916537820...|[0.94332458268910...|       0.0|\n",
      "| 7.0|-0.644269442348146| 1.41796354547385|   1.0743803763556|-0.492199018495015| 0.948934094764157| 0.428118462833089|    1.12063135838353|  -3.80786423873589| 0.615374730667027|   1.24937617815176|-0.619467796121913| 0.291474353088705|   1.75796421396042| -1.32386521970526|  0.686132504394383|-0.0761269994382006|   -1.2221273453247|-0.358221569869078|  0.324504731321494|-0.156741852488285|   1.94346533978412| -1.01545470979971|  0.057503529867291|-0.649709005559993|-0.415266566234811|-0.0516342969262494|  -1.20692108094258|  -1.08533918832377|  40.8|    0|[7.0,-0.644269442...|[1.47351557815217...|[15.8128273656790...|[0.79064136828395...|       0.0|\n",
      "|11.0|   1.0693735878819|0.287722129331455| 0.828612726634281|  2.71252042961718|-0.178398016248009| 0.337543730282968| -0.0967168617395962|  0.115981735546597|-0.221082566236194|  0.460230444301678|-0.773656930526689|  0.32338724546722|-0.0110758870883779|-0.178485175177916|  -0.65556427824926|  -0.19992517131173|    0.1240054151819|-0.980496201537345| -0.982916082135047|-0.153197231044512|-0.0368755317335273|0.0744124028162195|-0.0714074332998586| 0.104743752596029| 0.548264725394119|  0.104094153162781| 0.0214910583643189|  0.021293311477486|  27.5|    0|[11.0,1.069373587...|[2.31552447995341...|[13.5949948978691...|[0.67974974489345...|       0.0|\n",
      "|15.0|   1.4929359769862|-1.02934573189487|  0.45479473374366| -1.43802587991702| -1.55543410136344|-0.720961147043557|   -1.08066413038614|-0.0531271179483221|  -1.9786815953872|   1.63807603690446|  1.07754241162743| -0.63204651464934|  -0.41695716661602|0.0520105153724404|-0.0429789228232019| -0.166432496451972|  0.304241418614353| 0.554432499062278| 0.0542295152184719|-0.387910172646258| -0.177649846438814|-0.175073809074822| 0.0400022190621329| 0.295813862676508|  0.33293059939425| -0.220384850672322| 0.0222984359135846|0.00760225559997897|   5.0|    0|[15.0,1.492935976...|[3.15753338175465...|[18.9977458646874...|[0.94988729323437...|       0.0|\n",
      "+----+------------------+-----------------+------------------+------------------+------------------+------------------+--------------------+-------------------+------------------+-------------------+------------------+------------------+-------------------+------------------+-------------------+-------------------+-------------------+------------------+-------------------+------------------+-------------------+------------------+-------------------+------------------+------------------+-------------------+-------------------+-------------------+------+-----+--------------------+--------------------+--------------------+--------------------+----------+\n",
      "only showing top 5 rows\n",
      "\n"
     ]
    }
   ],
   "execution_count": 15
  },
  {
   "metadata": {
    "ExecuteTime": {
     "end_time": "2024-12-06T22:00:01.152013Z",
     "start_time": "2024-12-06T21:59:59.694816Z"
    }
   },
   "cell_type": "code",
   "source": [
    "# Save the pipeline\n",
    "# pipeline_model.write().overwrite().save(\"pipeline/credit_card_fraud_detection_pipeline\")"
   ],
   "id": "6395e71aff17a370",
   "outputs": [],
   "execution_count": 11
  },
  {
   "metadata": {
    "ExecuteTime": {
     "end_time": "2024-12-06T22:31:31.830848Z",
     "start_time": "2024-12-06T22:31:31.798712Z"
    }
   },
   "cell_type": "code",
   "source": "predictions.printSchema()",
   "id": "fcbda17e90ea5cdd",
   "outputs": [
    {
     "ename": "NameError",
     "evalue": "name 'predictions' is not defined",
     "output_type": "error",
     "traceback": [
      "\u001B[0;31m---------------------------------------------------------------------------\u001B[0m",
      "\u001B[0;31mNameError\u001B[0m                                 Traceback (most recent call last)",
      "Cell \u001B[0;32mIn[4], line 1\u001B[0m\n\u001B[0;32m----> 1\u001B[0m predictions\u001B[38;5;241m.\u001B[39mprintSchema()\n",
      "\u001B[0;31mNameError\u001B[0m: name 'predictions' is not defined"
     ]
    }
   ],
   "execution_count": 4
  },
  {
   "metadata": {
    "ExecuteTime": {
     "end_time": "2024-12-06T22:31:23.522165Z",
     "start_time": "2024-12-06T22:31:23.382436Z"
    }
   },
   "cell_type": "code",
   "source": [
    "# Evaluate the model\n",
    "\n",
    "from pyspark.ml.evaluation import BinaryClassificationEvaluator\n",
    "\n",
    "evaluator = BinaryClassificationEvaluator(labelCol=\"Class\")\n",
    "print(f\"Area under ROC: {evaluator.evaluate(predictions)}\")"
   ],
   "id": "c08c9cf697b9f5fd",
   "outputs": [
    {
     "ename": "AssertionError",
     "evalue": "",
     "output_type": "error",
     "traceback": [
      "\u001B[0;31m---------------------------------------------------------------------------\u001B[0m",
      "\u001B[0;31mAssertionError\u001B[0m                            Traceback (most recent call last)",
      "Cell \u001B[0;32mIn[3], line 5\u001B[0m\n\u001B[1;32m      1\u001B[0m \u001B[38;5;66;03m# Evaluate the model\u001B[39;00m\n\u001B[1;32m      3\u001B[0m \u001B[38;5;28;01mfrom\u001B[39;00m \u001B[38;5;21;01mpyspark\u001B[39;00m\u001B[38;5;21;01m.\u001B[39;00m\u001B[38;5;21;01mml\u001B[39;00m\u001B[38;5;21;01m.\u001B[39;00m\u001B[38;5;21;01mevaluation\u001B[39;00m \u001B[38;5;28;01mimport\u001B[39;00m BinaryClassificationEvaluator\n\u001B[0;32m----> 5\u001B[0m evaluator \u001B[38;5;241m=\u001B[39m BinaryClassificationEvaluator(labelCol\u001B[38;5;241m=\u001B[39m\u001B[38;5;124m\"\u001B[39m\u001B[38;5;124mClass\u001B[39m\u001B[38;5;124m\"\u001B[39m)\n\u001B[1;32m      6\u001B[0m \u001B[38;5;28mprint\u001B[39m(\u001B[38;5;124mf\u001B[39m\u001B[38;5;124m\"\u001B[39m\u001B[38;5;124mArea under ROC: \u001B[39m\u001B[38;5;132;01m{\u001B[39;00mevaluator\u001B[38;5;241m.\u001B[39mevaluate(predictions)\u001B[38;5;132;01m}\u001B[39;00m\u001B[38;5;124m\"\u001B[39m)\n",
      "File \u001B[0;32m/opt/anaconda3/lib/python3.11/site-packages/pyspark/__init__.py:139\u001B[0m, in \u001B[0;36mkeyword_only.<locals>.wrapper\u001B[0;34m(self, *args, **kwargs)\u001B[0m\n\u001B[1;32m    137\u001B[0m     \u001B[38;5;28;01mraise\u001B[39;00m \u001B[38;5;167;01mTypeError\u001B[39;00m(\u001B[38;5;124m\"\u001B[39m\u001B[38;5;124mMethod \u001B[39m\u001B[38;5;132;01m%s\u001B[39;00m\u001B[38;5;124m forces keyword arguments.\u001B[39m\u001B[38;5;124m\"\u001B[39m \u001B[38;5;241m%\u001B[39m func\u001B[38;5;241m.\u001B[39m\u001B[38;5;18m__name__\u001B[39m)\n\u001B[1;32m    138\u001B[0m \u001B[38;5;28mself\u001B[39m\u001B[38;5;241m.\u001B[39m_input_kwargs \u001B[38;5;241m=\u001B[39m kwargs\n\u001B[0;32m--> 139\u001B[0m \u001B[38;5;28;01mreturn\u001B[39;00m func(\u001B[38;5;28mself\u001B[39m, \u001B[38;5;241m*\u001B[39m\u001B[38;5;241m*\u001B[39mkwargs)\n",
      "File \u001B[0;32m/opt/anaconda3/lib/python3.11/site-packages/pyspark/ml/evaluation.py:239\u001B[0m, in \u001B[0;36mBinaryClassificationEvaluator.__init__\u001B[0;34m(self, rawPredictionCol, labelCol, metricName, weightCol, numBins)\u001B[0m\n\u001B[1;32m    234\u001B[0m \u001B[38;5;250m\u001B[39m\u001B[38;5;124;03m\"\"\"\u001B[39;00m\n\u001B[1;32m    235\u001B[0m \u001B[38;5;124;03m__init__(self, \\\\*, rawPredictionCol=\"rawPrediction\", labelCol=\"label\", \\\u001B[39;00m\n\u001B[1;32m    236\u001B[0m \u001B[38;5;124;03m         metricName=\"areaUnderROC\", weightCol=None, numBins=1000)\u001B[39;00m\n\u001B[1;32m    237\u001B[0m \u001B[38;5;124;03m\"\"\"\u001B[39;00m\n\u001B[1;32m    238\u001B[0m \u001B[38;5;28msuper\u001B[39m(BinaryClassificationEvaluator, \u001B[38;5;28mself\u001B[39m)\u001B[38;5;241m.\u001B[39m\u001B[38;5;21m__init__\u001B[39m()\n\u001B[0;32m--> 239\u001B[0m \u001B[38;5;28mself\u001B[39m\u001B[38;5;241m.\u001B[39m_java_obj \u001B[38;5;241m=\u001B[39m \u001B[38;5;28mself\u001B[39m\u001B[38;5;241m.\u001B[39m_new_java_obj(\n\u001B[1;32m    240\u001B[0m     \u001B[38;5;124m\"\u001B[39m\u001B[38;5;124morg.apache.spark.ml.evaluation.BinaryClassificationEvaluator\u001B[39m\u001B[38;5;124m\"\u001B[39m, \u001B[38;5;28mself\u001B[39m\u001B[38;5;241m.\u001B[39muid\n\u001B[1;32m    241\u001B[0m )\n\u001B[1;32m    242\u001B[0m \u001B[38;5;28mself\u001B[39m\u001B[38;5;241m.\u001B[39m_setDefault(metricName\u001B[38;5;241m=\u001B[39m\u001B[38;5;124m\"\u001B[39m\u001B[38;5;124mareaUnderROC\u001B[39m\u001B[38;5;124m\"\u001B[39m, numBins\u001B[38;5;241m=\u001B[39m\u001B[38;5;241m1000\u001B[39m)\n\u001B[1;32m    243\u001B[0m kwargs \u001B[38;5;241m=\u001B[39m \u001B[38;5;28mself\u001B[39m\u001B[38;5;241m.\u001B[39m_input_kwargs\n",
      "File \u001B[0;32m/opt/anaconda3/lib/python3.11/site-packages/pyspark/ml/wrapper.py:80\u001B[0m, in \u001B[0;36mJavaWrapper._new_java_obj\u001B[0;34m(java_class, *args)\u001B[0m\n\u001B[1;32m     76\u001B[0m \u001B[38;5;250m\u001B[39m\u001B[38;5;124;03m\"\"\"\u001B[39;00m\n\u001B[1;32m     77\u001B[0m \u001B[38;5;124;03mReturns a new Java object.\u001B[39;00m\n\u001B[1;32m     78\u001B[0m \u001B[38;5;124;03m\"\"\"\u001B[39;00m\n\u001B[1;32m     79\u001B[0m sc \u001B[38;5;241m=\u001B[39m SparkContext\u001B[38;5;241m.\u001B[39m_active_spark_context\n\u001B[0;32m---> 80\u001B[0m \u001B[38;5;28;01massert\u001B[39;00m sc \u001B[38;5;129;01mis\u001B[39;00m \u001B[38;5;129;01mnot\u001B[39;00m \u001B[38;5;28;01mNone\u001B[39;00m\n\u001B[1;32m     82\u001B[0m java_obj \u001B[38;5;241m=\u001B[39m _jvm()\n\u001B[1;32m     83\u001B[0m \u001B[38;5;28;01mfor\u001B[39;00m name \u001B[38;5;129;01min\u001B[39;00m java_class\u001B[38;5;241m.\u001B[39msplit(\u001B[38;5;124m\"\u001B[39m\u001B[38;5;124m.\u001B[39m\u001B[38;5;124m\"\u001B[39m):\n",
      "\u001B[0;31mAssertionError\u001B[0m: "
     ]
    }
   ],
   "execution_count": 3
  },
  {
   "metadata": {
    "ExecuteTime": {
     "end_time": "2024-12-06T22:31:18.718270Z",
     "start_time": "2024-12-06T22:31:18.680717Z"
    }
   },
   "cell_type": "code",
   "source": [
    "# Plot ROC curve\n",
    "import matplotlib.pyplot as plt\n",
    "from sklearn.metrics import roc_curve, auc\n",
    "\n",
    "# Convert the predictions to a Pandas DataFrame\n",
    "predictions_df = predictions.select('Class', 'probability').toPandas()\n",
    "\n",
    "# Get the false positive rate and true positive rate\n",
    "y_true = predictions_df.select(\"Class\").rdd.flatMap(lambda x: x).collect()\n",
    "y_scores = predictions_df.select(\"probability\").rdd.flatMap(lambda x: x[0][1]).collect()\n",
    "\n",
    "fpr, tpr, _ = roc_curve(y_true, y_scores)\n",
    "\n",
    "# Calculate the AUC\n",
    "roc_auc = auc(fpr, tpr)\n",
    "\n",
    "# Plot the ROC curve\n",
    "plt.figure()\n",
    "plt.plot(fpr, tpr, color='darkorange', lw=1, label=f'ROC curve (area = {roc_auc:.2f})')\n",
    "plt.xlim([0.0, 1.0])\n",
    "plt.ylim([0.0, 1.05])\n",
    "plt.xlabel('False Positive Rate')\n",
    "plt.ylabel('True Positive Rate')\n",
    "plt.title('Receiver Operating Characteristic')\n",
    "plt.legend(loc=\"lower right\")\n",
    "plt.show()"
   ],
   "id": "496c20cb818eda8e",
   "outputs": [
    {
     "ename": "NameError",
     "evalue": "name 'predictions' is not defined",
     "output_type": "error",
     "traceback": [
      "\u001B[0;31m---------------------------------------------------------------------------\u001B[0m",
      "\u001B[0;31mNameError\u001B[0m                                 Traceback (most recent call last)",
      "Cell \u001B[0;32mIn[2], line 6\u001B[0m\n\u001B[1;32m      3\u001B[0m \u001B[38;5;28;01mfrom\u001B[39;00m \u001B[38;5;21;01msklearn\u001B[39;00m\u001B[38;5;21;01m.\u001B[39;00m\u001B[38;5;21;01mmetrics\u001B[39;00m \u001B[38;5;28;01mimport\u001B[39;00m roc_curve, auc\n\u001B[1;32m      5\u001B[0m \u001B[38;5;66;03m# Convert the predictions to a Pandas DataFrame\u001B[39;00m\n\u001B[0;32m----> 6\u001B[0m predictions_df \u001B[38;5;241m=\u001B[39m predictions\u001B[38;5;241m.\u001B[39mselect(\u001B[38;5;124m'\u001B[39m\u001B[38;5;124mClass\u001B[39m\u001B[38;5;124m'\u001B[39m, \u001B[38;5;124m'\u001B[39m\u001B[38;5;124mprobability\u001B[39m\u001B[38;5;124m'\u001B[39m)\u001B[38;5;241m.\u001B[39mtoPandas()\n\u001B[1;32m      8\u001B[0m \u001B[38;5;66;03m# Get the false positive rate and true positive rate\u001B[39;00m\n\u001B[1;32m      9\u001B[0m y_true \u001B[38;5;241m=\u001B[39m predictions_df\u001B[38;5;241m.\u001B[39mselect(\u001B[38;5;124m\"\u001B[39m\u001B[38;5;124mClass\u001B[39m\u001B[38;5;124m\"\u001B[39m)\u001B[38;5;241m.\u001B[39mrdd\u001B[38;5;241m.\u001B[39mflatMap(\u001B[38;5;28;01mlambda\u001B[39;00m x: x)\u001B[38;5;241m.\u001B[39mcollect()\n",
      "\u001B[0;31mNameError\u001B[0m: name 'predictions' is not defined"
     ]
    }
   ],
   "execution_count": 2
  }
 ],
 "metadata": {
  "kernelspec": {
   "display_name": "Python 3",
   "language": "python",
   "name": "python3"
  },
  "language_info": {
   "codemirror_mode": {
    "name": "ipython",
    "version": 2
   },
   "file_extension": ".py",
   "mimetype": "text/x-python",
   "name": "python",
   "nbconvert_exporter": "python",
   "pygments_lexer": "ipython2",
   "version": "2.7.6"
  }
 },
 "nbformat": 4,
 "nbformat_minor": 5
}
