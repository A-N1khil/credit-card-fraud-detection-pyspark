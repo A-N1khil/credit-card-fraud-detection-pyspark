{
 "cells": [
  {
   "cell_type": "code",
   "id": "initial_id",
   "metadata": {
    "collapsed": true,
    "ExecuteTime": {
     "end_time": "2024-12-06T22:25:04.721895Z",
     "start_time": "2024-12-06T22:25:04.582303Z"
    }
   },
   "source": [
    "import json\n",
    "import os\n",
    "import threading\n",
    "import time\n",
    "\n",
    "from kafka import KafkaProducer\n",
    "from pyspark.sql import SparkSession\n",
    "\n",
    "%load_ext autoreload\n",
    "%autoreload 2"
   ],
   "outputs": [],
   "execution_count": 1
  },
  {
   "metadata": {},
   "cell_type": "markdown",
   "source": [
    "# Producing data\n",
    "Now that Kafka and Zookeeper are running, we can start producing data."
   ],
   "id": "824844072df23c88"
  },
  {
   "metadata": {
    "ExecuteTime": {
     "end_time": "2024-12-06T22:25:06.523815Z",
     "start_time": "2024-12-06T22:25:04.764354Z"
    }
   },
   "cell_type": "code",
   "source": "spark = SparkSession.builder.appName(\"KafkaProducer\").getOrCreate()",
   "id": "8f9c99260cb1f59c",
   "outputs": [
    {
     "name": "stderr",
     "output_type": "stream",
     "text": [
      "24/12/06 17:25:05 WARN Utils: Your hostname, Nikhils-MacBook-Pro.local resolves to a loopback address: 127.0.0.1; using 10.0.0.206 instead (on interface en0)\n",
      "24/12/06 17:25:05 WARN Utils: Set SPARK_LOCAL_IP if you need to bind to another address\n",
      "Setting default log level to \"WARN\".\n",
      "To adjust logging level use sc.setLogLevel(newLevel). For SparkR, use setLogLevel(newLevel).\n",
      "24/12/06 17:25:06 WARN NativeCodeLoader: Unable to load native-hadoop library for your platform... using builtin-java classes where applicable\n"
     ]
    }
   ],
   "execution_count": 2
  },
  {
   "metadata": {
    "ExecuteTime": {
     "end_time": "2024-12-06T22:25:06.818978Z",
     "start_time": "2024-12-06T22:25:06.551344Z"
    }
   },
   "cell_type": "code",
   "source": [
    "producer = KafkaProducer(bootstrap_servers='localhost:9092', value_serializer=lambda v: json.dumps(v).encode('utf-8'))\n",
    "topic = 'transactions'"
   ],
   "id": "7aced545d74d0e92",
   "outputs": [],
   "execution_count": 3
  },
  {
   "metadata": {
    "ExecuteTime": {
     "end_time": "2024-12-06T22:25:11.417273Z",
     "start_time": "2024-12-06T22:25:07.683423Z"
    }
   },
   "cell_type": "code",
   "source": [
    "data = spark.read.csv(\"./../dataset/creditcard.csv\", header=True, inferSchema=True).cache()\n",
    "data.show(5)"
   ],
   "id": "8e2e5483b2ad3c9c",
   "outputs": [
    {
     "name": "stderr",
     "output_type": "stream",
     "text": [
      "24/12/06 17:25:10 WARN package: Truncated the string representation of a plan since it was too large. This behavior can be adjusted by setting 'spark.sql.debug.maxToStringFields'.\n"
     ]
    },
    {
     "name": "stdout",
     "output_type": "stream",
     "text": [
      "+----+------------------+-------------------+----------------+------------------+-------------------+-------------------+-------------------+------------------+------------------+-------------------+------------------+------------------+------------------+------------------+------------------+------------------+------------------+-------------------+------------------+-------------------+--------------------+-------------------+------------------+------------------+------------------+------------------+--------------------+-------------------+------+-----+\n",
      "|Time|                V1|                 V2|              V3|                V4|                 V5|                 V6|                 V7|                V8|                V9|                V10|               V11|               V12|               V13|               V14|               V15|               V16|               V17|                V18|               V19|                V20|                 V21|                V22|               V23|               V24|               V25|               V26|                 V27|                V28|Amount|Class|\n",
      "+----+------------------+-------------------+----------------+------------------+-------------------+-------------------+-------------------+------------------+------------------+-------------------+------------------+------------------+------------------+------------------+------------------+------------------+------------------+-------------------+------------------+-------------------+--------------------+-------------------+------------------+------------------+------------------+------------------+--------------------+-------------------+------+-----+\n",
      "| 0.0|  -1.3598071336738|-0.0727811733098497|2.53634673796914|  1.37815522427443| -0.338320769942518|  0.462387777762292|  0.239598554061257|0.0986979012610507| 0.363786969611213| 0.0907941719789316|-0.551599533260813|-0.617800855762348|-0.991389847235408|-0.311169353699879|  1.46817697209427|-0.470400525259478| 0.207971241929242| 0.0257905801985591| 0.403992960255733|  0.251412098239705|  -0.018306777944153|  0.277837575558899|-0.110473910188767|0.0669280749146731| 0.128539358273528|-0.189114843888824|   0.133558376740387|-0.0210530534538215|149.62|    0|\n",
      "| 0.0|  1.19185711131486|   0.26615071205963|0.16648011335321| 0.448154078460911| 0.0600176492822243|-0.0823608088155687|-0.0788029833323113|0.0851016549148104|-0.255425128109186| -0.166974414004614|  1.61272666105479|  1.06523531137287|  0.48909501589608|-0.143772296441519| 0.635558093258208| 0.463917041022171|-0.114804663102346| -0.183361270123994|-0.145783041325259|-0.0690831352230203|  -0.225775248033138| -0.638671952771851| 0.101288021253234|-0.339846475529127| 0.167170404418143| 0.125894532368176|-0.00898309914322813| 0.0147241691924927|  2.69|    0|\n",
      "| 1.0| -1.35835406159823|  -1.34016307473609|1.77320934263119| 0.379779593034328| -0.503198133318193|   1.80049938079263|  0.791460956450422| 0.247675786588991| -1.51465432260583|  0.207642865216696| 0.624501459424895| 0.066083685268831| 0.717292731410831|-0.165945922763554|  2.34586494901581| -2.89008319444231|  1.10996937869599| -0.121359313195888| -2.26185709530414|  0.524979725224404|   0.247998153469754|  0.771679401917229| 0.909412262347719|-0.689280956490685|-0.327641833735251|-0.139096571514147| -0.0553527940384261|-0.0597518405929204|378.66|    0|\n",
      "| 1.0|-0.966271711572087| -0.185226008082898|1.79299333957872|-0.863291275036453|-0.0103088796030823|   1.24720316752486|   0.23760893977178| 0.377435874652262| -1.38702406270197|-0.0549519224713749|-0.226487263835401| 0.178228225877303| 0.507756869957169| -0.28792374549456|-0.631418117709045|  -1.0596472454325|-0.684092786345479|   1.96577500349538|  -1.2326219700892| -0.208037781160366|  -0.108300452035545|0.00527359678253453|-0.190320518742841| -1.17557533186321| 0.647376034602038|-0.221928844458407|  0.0627228487293033| 0.0614576285006353| 123.5|    0|\n",
      "| 2.0| -1.15823309349523|  0.877736754848451|  1.548717846511| 0.403033933955121| -0.407193377311653| 0.0959214624684256|  0.592940745385545|-0.270532677192282| 0.817739308235294|  0.753074431976354|-0.822842877946363|  0.53819555014995|   1.3458515932154| -1.11966983471731| 0.175121130008994|-0.451449182813529|-0.237033239362776|-0.0381947870352842| 0.803486924960175|  0.408542360392758|-0.00943069713232919|   0.79827849458971|-0.137458079619063| 0.141266983824769|-0.206009587619756| 0.502292224181569|   0.219422229513348|  0.215153147499206| 69.99|    0|\n",
      "+----+------------------+-------------------+----------------+------------------+-------------------+-------------------+-------------------+------------------+------------------+-------------------+------------------+------------------+------------------+------------------+------------------+------------------+------------------+-------------------+------------------+-------------------+--------------------+-------------------+------------------+------------------+------------------+------------------+--------------------+-------------------+------+-----+\n",
      "only showing top 5 rows\n",
      "\n"
     ]
    }
   ],
   "execution_count": 4
  },
  {
   "metadata": {},
   "cell_type": "markdown",
   "source": [
    "- [x] Spark session is created\n",
    "- [x] Kafka producer is created\n",
    "- [x] Data is read from the CSV file\n",
    "- [x] Data is shown\n",
    "\n",
    "Now, we will send the data to the Kafka topic."
   ],
   "id": "5b944fba81ae66ef"
  },
  {
   "metadata": {
    "ExecuteTime": {
     "end_time": "2024-12-06T22:26:08.844559Z",
     "start_time": "2024-12-06T22:26:06.667161Z"
    }
   },
   "cell_type": "code",
   "source": [
    "from pyspark.sql.functions import col\n",
    "import math\n",
    "\n",
    "# Assuming your original DataFrame is named 'df' and the class column is named 'Class'\n",
    "\n",
    "# Separate the DataFrame into two classes\n",
    "class_0 = data.filter(col(\"Class\") == 0)\n",
    "class_1 = data.filter(col(\"Class\") == 1)\n",
    "\n",
    "# Calculate the number of rows to sample from each class\n",
    "rows_per_class = 25\n",
    "\n",
    "# Sample from each class\n",
    "class_0_sampled = class_0.sample(withReplacement=True, fraction=rows_per_class/class_0.count(), seed=42)\n",
    "class_1_sampled = class_1.sample(withReplacement=True, fraction=rows_per_class/class_1.count(), seed=42)\n",
    "\n",
    "# Union the sampled DataFrames\n",
    "balanced_df = class_0_sampled.union(class_1_sampled)\n",
    "\n",
    "# Verify the balance and total count\n",
    "print(balanced_df.groupBy(\"Class\").count().show())\n",
    "print(f\"Total rows: {balanced_df.count()}\")"
   ],
   "id": "813cb4416244765a",
   "outputs": [
    {
     "name": "stderr",
     "output_type": "stream",
     "text": [
      "                                                                                \r"
     ]
    },
    {
     "name": "stdout",
     "output_type": "stream",
     "text": [
      "+-----+-----+\n",
      "|Class|count|\n",
      "+-----+-----+\n",
      "|    0|   24|\n",
      "|    1|   33|\n",
      "+-----+-----+\n",
      "\n",
      "None\n",
      "Total rows: 57\n"
     ]
    }
   ],
   "execution_count": 6
  },
  {
   "metadata": {
    "ExecuteTime": {
     "end_time": "2024-12-06T22:27:08.462016Z",
     "start_time": "2024-12-06T22:26:10.594873Z"
    }
   },
   "cell_type": "code",
   "source": [
    "counter = 0\n",
    "for row in balanced_df.collect():\n",
    "    print(f\"Sending row {counter}\")\n",
    "    counter += 1\n",
    "    producer.send(topic, value=row.asDict())\n",
    "    time.sleep(1)\n",
    "producer.flush()"
   ],
   "id": "558e0aa413935aad",
   "outputs": [
    {
     "name": "stdout",
     "output_type": "stream",
     "text": [
      "Sending row 0\n",
      "Sending row 1\n",
      "Sending row 2\n",
      "Sending row 3\n",
      "Sending row 4\n",
      "Sending row 5\n",
      "Sending row 6\n",
      "Sending row 7\n",
      "Sending row 8\n",
      "Sending row 9\n",
      "Sending row 10\n",
      "Sending row 11\n",
      "Sending row 12\n",
      "Sending row 13\n",
      "Sending row 14\n",
      "Sending row 15\n",
      "Sending row 16\n",
      "Sending row 17\n",
      "Sending row 18\n",
      "Sending row 19\n",
      "Sending row 20\n",
      "Sending row 21\n",
      "Sending row 22\n",
      "Sending row 23\n",
      "Sending row 24\n",
      "Sending row 25\n",
      "Sending row 26\n",
      "Sending row 27\n",
      "Sending row 28\n",
      "Sending row 29\n",
      "Sending row 30\n",
      "Sending row 31\n",
      "Sending row 32\n",
      "Sending row 33\n",
      "Sending row 34\n",
      "Sending row 35\n",
      "Sending row 36\n",
      "Sending row 37\n",
      "Sending row 38\n",
      "Sending row 39\n",
      "Sending row 40\n",
      "Sending row 41\n",
      "Sending row 42\n",
      "Sending row 43\n",
      "Sending row 44\n",
      "Sending row 45\n",
      "Sending row 46\n",
      "Sending row 47\n",
      "Sending row 48\n",
      "Sending row 49\n",
      "Sending row 50\n",
      "Sending row 51\n",
      "Sending row 52\n",
      "Sending row 53\n",
      "Sending row 54\n",
      "Sending row 55\n",
      "Sending row 56\n"
     ]
    }
   ],
   "execution_count": 7
  },
  {
   "metadata": {},
   "cell_type": "code",
   "outputs": [],
   "execution_count": null,
   "source": "",
   "id": "21f1a798ab7a0a79"
  }
 ],
 "metadata": {
  "kernelspec": {
   "display_name": "Python 3",
   "language": "python",
   "name": "python3"
  },
  "language_info": {
   "codemirror_mode": {
    "name": "ipython",
    "version": 2
   },
   "file_extension": ".py",
   "mimetype": "text/x-python",
   "name": "python",
   "nbconvert_exporter": "python",
   "pygments_lexer": "ipython2",
   "version": "2.7.6"
  }
 },
 "nbformat": 4,
 "nbformat_minor": 5
}
