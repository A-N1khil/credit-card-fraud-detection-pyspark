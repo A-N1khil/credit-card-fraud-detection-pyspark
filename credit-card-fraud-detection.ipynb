{
 "cells": [
  {
   "cell_type": "code",
   "id": "initial_id",
   "metadata": {
    "collapsed": true,
    "jupyter": {
     "outputs_hidden": true
    },
    "ExecuteTime": {
     "end_time": "2024-12-07T03:30:06.839348Z",
     "start_time": "2024-12-07T03:30:05.979256Z"
    }
   },
   "source": [
    "from lxml.html.diff import end_tag\n",
    "# Machine Learning imports\n",
    "from pyspark.ml.feature import VectorAssembler, StandardScaler\n",
    "# Spark session and functions\n",
    "from pyspark.sql import SparkSession\n",
    "from pyspark.sql.functions import col, when, count"
   ],
   "outputs": [],
   "execution_count": 33
  },
  {
   "cell_type": "code",
   "id": "4f285463abddc3d7",
   "metadata": {
    "ExecuteTime": {
     "end_time": "2024-12-07T03:30:07.746068Z",
     "start_time": "2024-12-07T03:30:06.965408Z"
    }
   },
   "source": [
    "spark = SparkSession.builder.appName('CreditCardFraudDetection').getOrCreate()"
   ],
   "outputs": [
    {
     "name": "stderr",
     "output_type": "stream",
     "text": [
      "24/12/06 22:30:07 WARN Utils: Service 'SparkUI' could not bind on port 4040. Attempting port 4041.\n",
      "24/12/06 22:30:07 WARN Utils: Service 'SparkUI' could not bind on port 4041. Attempting port 4042.\n",
      "24/12/06 22:30:07 WARN Utils: Service 'SparkUI' could not bind on port 4042. Attempting port 4043.\n",
      "24/12/06 22:30:07 WARN Utils: Service 'SparkUI' could not bind on port 4043. Attempting port 4044.\n"
     ]
    }
   ],
   "execution_count": 34
  },
  {
   "cell_type": "markdown",
   "id": "9c05cece7ea78e36",
   "metadata": {},
   "source": [
    "# Dataset\n",
    "The dataset is available at [Kaggle](https://www.kaggle.com/mlg-ulb/creditcardfraud)."
   ]
  },
  {
   "cell_type": "code",
   "id": "6a0a8627542ecf38",
   "metadata": {
    "ExecuteTime": {
     "end_time": "2024-12-07T03:30:09.912924Z",
     "start_time": "2024-12-07T03:30:07.786369Z"
    }
   },
   "source": [
    "df = spark.read.csv('dataset/creditcard.csv', header=True, inferSchema=True).cache()"
   ],
   "outputs": [
    {
     "name": "stderr",
     "output_type": "stream",
     "text": [
      "                                                                                \r"
     ]
    }
   ],
   "execution_count": 35
  },
  {
   "cell_type": "markdown",
   "id": "7aa63ab4b9193d7f",
   "metadata": {},
   "source": [
    "## Explaining the dataset\n",
    "The dataset contains transactions made by credit cards in September 2013 by european cardholders. There are 28 features, all of them are numerical. The features V1, V2, ... V28 are the result of a PCA transformation. The only features which have not been transformed with PCA are 'Time' and 'Amount'. Feature 'Time' contains the seconds elapsed between each transaction and the first transaction in the dataset. The feature 'Amount' is the transaction Amount. Feature 'Class' is the response variable and it takes value 1 in case of fraud and 0 otherwise.  \n",
    "V1, V2, ... V28 are the principal components obtained with PCA. They have been anonymized to protect sensitive information."
   ]
  },
  {
   "cell_type": "code",
   "id": "a0bf4f3ceb117e50",
   "metadata": {
    "ExecuteTime": {
     "end_time": "2024-12-07T03:30:10.102784Z",
     "start_time": "2024-12-07T03:30:10.094972Z"
    }
   },
   "source": [
    "df.printSchema()"
   ],
   "outputs": [
    {
     "name": "stdout",
     "output_type": "stream",
     "text": [
      "root\n",
      " |-- Time: double (nullable = true)\n",
      " |-- V1: double (nullable = true)\n",
      " |-- V2: double (nullable = true)\n",
      " |-- V3: double (nullable = true)\n",
      " |-- V4: double (nullable = true)\n",
      " |-- V5: double (nullable = true)\n",
      " |-- V6: double (nullable = true)\n",
      " |-- V7: double (nullable = true)\n",
      " |-- V8: double (nullable = true)\n",
      " |-- V9: double (nullable = true)\n",
      " |-- V10: double (nullable = true)\n",
      " |-- V11: double (nullable = true)\n",
      " |-- V12: double (nullable = true)\n",
      " |-- V13: double (nullable = true)\n",
      " |-- V14: double (nullable = true)\n",
      " |-- V15: double (nullable = true)\n",
      " |-- V16: double (nullable = true)\n",
      " |-- V17: double (nullable = true)\n",
      " |-- V18: double (nullable = true)\n",
      " |-- V19: double (nullable = true)\n",
      " |-- V20: double (nullable = true)\n",
      " |-- V21: double (nullable = true)\n",
      " |-- V22: double (nullable = true)\n",
      " |-- V23: double (nullable = true)\n",
      " |-- V24: double (nullable = true)\n",
      " |-- V25: double (nullable = true)\n",
      " |-- V26: double (nullable = true)\n",
      " |-- V27: double (nullable = true)\n",
      " |-- V28: double (nullable = true)\n",
      " |-- Amount: double (nullable = true)\n",
      " |-- Class: integer (nullable = true)\n",
      "\n"
     ]
    }
   ],
   "execution_count": 36
  },
  {
   "cell_type": "markdown",
   "id": "f34b0d03e1adf2bd",
   "metadata": {},
   "source": [
    "# Preprocessing\n",
    "## Checking for missing values\n",
    "First, we check for missing values in the dataset. If there are any, we will clean them up."
   ]
  },
  {
   "cell_type": "code",
   "id": "eb4438c9168c3de6",
   "metadata": {
    "ExecuteTime": {
     "end_time": "2024-12-07T03:30:13.053833Z",
     "start_time": "2024-12-07T03:30:10.576935Z"
    }
   },
   "source": [
    "# Checking for missing values\n",
    "df.select([count(when(col(c).isNull(), c)).alias(c) for c in df.columns]).show(truncate=True)"
   ],
   "outputs": [
    {
     "name": "stderr",
     "output_type": "stream",
     "text": [
      "[Stage 2:=======>                                                   (1 + 7) / 8]\r"
     ]
    },
    {
     "name": "stdout",
     "output_type": "stream",
     "text": [
      "+----+---+---+---+---+---+---+---+---+---+---+---+---+---+---+---+---+---+---+---+---+---+---+---+---+---+---+---+---+------+-----+\n",
      "|Time| V1| V2| V3| V4| V5| V6| V7| V8| V9|V10|V11|V12|V13|V14|V15|V16|V17|V18|V19|V20|V21|V22|V23|V24|V25|V26|V27|V28|Amount|Class|\n",
      "+----+---+---+---+---+---+---+---+---+---+---+---+---+---+---+---+---+---+---+---+---+---+---+---+---+---+---+---+---+------+-----+\n",
      "|   0|  0|  0|  0|  0|  0|  0|  0|  0|  0|  0|  0|  0|  0|  0|  0|  0|  0|  0|  0|  0|  0|  0|  0|  0|  0|  0|  0|  0|     0|    0|\n",
      "+----+---+---+---+---+---+---+---+---+---+---+---+---+---+---+---+---+---+---+---+---+---+---+---+---+---+---+---+---+------+-----+\n",
      "\n"
     ]
    },
    {
     "name": "stderr",
     "output_type": "stream",
     "text": [
      "                                                                                \r"
     ]
    }
   ],
   "execution_count": 37
  },
  {
   "cell_type": "code",
   "id": "977ca2ffc58c6128",
   "metadata": {
    "ExecuteTime": {
     "end_time": "2024-12-07T03:30:13.544786Z",
     "start_time": "2024-12-07T03:30:13.225553Z"
    }
   },
   "source": [
    "original_size = df.count()\n",
    "print(f'Original size: {original_size}')\n",
    "\n",
    "# Clean up missing values\n",
    "df_cleaned = df.na.drop()\n",
    "\n",
    "cleaned_size = df_cleaned.count()\n",
    "print(f'Cleaned size: {cleaned_size}')"
   ],
   "outputs": [
    {
     "name": "stdout",
     "output_type": "stream",
     "text": [
      "Original size: 284807\n",
      "Cleaned size: 284807\n"
     ]
    }
   ],
   "execution_count": 38
  },
  {
   "cell_type": "markdown",
   "id": "9f728ca8a7bddc2c",
   "metadata": {},
   "source": [
    "## Class distribution\n",
    "We group the dataset by the 'Class' column to check the distribution of the classes."
   ]
  },
  {
   "cell_type": "code",
   "id": "a22ae163d7d9e44e",
   "metadata": {
    "ExecuteTime": {
     "end_time": "2024-12-07T03:30:14.382248Z",
     "start_time": "2024-12-07T03:30:14.003871Z"
    }
   },
   "source": [
    "# Checking for class distribution\n",
    "df_cleaned.groupBy('Class').count().show()"
   ],
   "outputs": [
    {
     "name": "stdout",
     "output_type": "stream",
     "text": [
      "+-----+------+\n",
      "|Class| count|\n",
      "+-----+------+\n",
      "|    1|   492|\n",
      "|    0|284315|\n",
      "+-----+------+\n",
      "\n"
     ]
    }
   ],
   "execution_count": 39
  },
  {
   "cell_type": "markdown",
   "id": "5c16b0e1a448f807",
   "metadata": {},
   "source": [
    "## Assembling the features\n",
    "In PySpark MLlib, all input features should be combined into a single vector column. To do this, you use the `VectorAssembler`.  \n",
    "This is a transformer that combines a given list of columns into a single vector column. It is useful for combining raw features and features generated by different feature transformers into a single feature vector, in order to train ML models like logistic regression and decision trees.\n"
   ]
  },
  {
   "cell_type": "code",
   "id": "616f52ac0c1137bb",
   "metadata": {
    "ExecuteTime": {
     "end_time": "2024-12-07T03:30:14.845656Z",
     "start_time": "2024-12-07T03:30:14.536445Z"
    }
   },
   "source": [
    "# Select feature columns (all except 'Class', which is the label)\n",
    "feature_columns = df_cleaned.columns[:-1]  # Assuming the last column is the label\n",
    "\n",
    "# Assemble feature columns into a single vector column called \"features\"\n",
    "assembler = VectorAssembler(inputCols=feature_columns, outputCol=\"features\")\n",
    "df_transformed = assembler.transform(df_cleaned)\n",
    "\n",
    "# Show the transformed data\n",
    "df_transformed.select(\"features\", \"Class\").show(5)"
   ],
   "outputs": [
    {
     "name": "stdout",
     "output_type": "stream",
     "text": [
      "+--------------------+-----+\n",
      "|            features|Class|\n",
      "+--------------------+-----+\n",
      "|[0.0,-1.359807133...|    0|\n",
      "|[0.0,1.1918571113...|    0|\n",
      "|[1.0,-1.358354061...|    0|\n",
      "|[1.0,-0.966271711...|    0|\n",
      "|[2.0,-1.158233093...|    0|\n",
      "+--------------------+-----+\n",
      "only showing top 5 rows\n",
      "\n"
     ]
    }
   ],
   "execution_count": 40
  },
  {
   "cell_type": "markdown",
   "id": "26b91a3b0ba4c48f",
   "metadata": {},
   "source": [
    "## Scaling the features\n",
    "Feature scaling is important because some machine learning algorithms are sensitive to the scale of input data. You can scale features using the `StandardScaler`.\n",
    "StandardScaler transforms a dataset of Vector rows, normalizing each feature to have unit standard deviation and/or zero mean. It takes parameters:\n",
    "- `inputCol`: input column name.\n",
    "- `outputCol`: output column name.\n",
    "- `withStd`: True by default. Scales the data to unit standard deviation.\n",
    "- `withMean`: False by default. Centers the data with mean before scaling. It will build a dense output, so take care when applying to sparse input."
   ]
  },
  {
   "cell_type": "code",
   "id": "5e8dacd89c420414",
   "metadata": {
    "ExecuteTime": {
     "end_time": "2024-12-07T03:30:16.604134Z",
     "start_time": "2024-12-07T03:30:15.151516Z"
    }
   },
   "source": [
    "# Scale features\n",
    "scaler = StandardScaler(inputCol=\"features\", outputCol=\"scaled_features\", withStd=True, withMean=False)\n",
    "df_scaled = scaler.fit(df_transformed).transform(df_transformed)\n",
    "\n",
    "# Summary of the scaling process\n",
    "print(f\"Mean: {scaler.explainParams()}\")\n",
    "# print(f\"Standard Deviation: {scaler.std}\")\n",
    "\n",
    "# Show the scaled data\n",
    "df_scaled.select(\"scaled_features\", \"Class\").show(5)"
   ],
   "outputs": [
    {
     "name": "stderr",
     "output_type": "stream",
     "text": [
      "                                                                                \r"
     ]
    },
    {
     "name": "stdout",
     "output_type": "stream",
     "text": [
      "Mean: inputCol: input column name. (current: features)\n",
      "outputCol: output column name. (default: StandardScaler_a3c2e7a86872__output, current: scaled_features)\n",
      "withMean: Center data with mean (default: False, current: False)\n",
      "withStd: Scale to unit standard deviation (default: True, current: True)\n",
      "+--------------------+-----+\n",
      "|     scaled_features|Class|\n",
      "+--------------------+-----+\n",
      "|[0.0,-0.694241102...|    0|\n",
      "|[0.0,0.6084952594...|    0|\n",
      "|[2.10578867609768...|    0|\n",
      "|[2.10578867609768...|    0|\n",
      "|[4.21157735219537...|    0|\n",
      "+--------------------+-----+\n",
      "only showing top 5 rows\n",
      "\n"
     ]
    }
   ],
   "execution_count": 41
  },
  {
   "cell_type": "code",
   "id": "491f4f2e395d4791",
   "metadata": {
    "ExecuteTime": {
     "end_time": "2024-12-07T03:30:17.120399Z",
     "start_time": "2024-12-07T03:30:16.819566Z"
    }
   },
   "source": [
    "df_scaled.show(5)"
   ],
   "outputs": [
    {
     "name": "stdout",
     "output_type": "stream",
     "text": [
      "+----+------------------+-------------------+----------------+------------------+-------------------+-------------------+-------------------+------------------+------------------+-------------------+------------------+------------------+------------------+------------------+------------------+------------------+------------------+-------------------+------------------+-------------------+--------------------+-------------------+------------------+------------------+------------------+------------------+--------------------+-------------------+------+-----+--------------------+--------------------+\n",
      "|Time|                V1|                 V2|              V3|                V4|                 V5|                 V6|                 V7|                V8|                V9|                V10|               V11|               V12|               V13|               V14|               V15|               V16|               V17|                V18|               V19|                V20|                 V21|                V22|               V23|               V24|               V25|               V26|                 V27|                V28|Amount|Class|            features|     scaled_features|\n",
      "+----+------------------+-------------------+----------------+------------------+-------------------+-------------------+-------------------+------------------+------------------+-------------------+------------------+------------------+------------------+------------------+------------------+------------------+------------------+-------------------+------------------+-------------------+--------------------+-------------------+------------------+------------------+------------------+------------------+--------------------+-------------------+------+-----+--------------------+--------------------+\n",
      "| 0.0|  -1.3598071336738|-0.0727811733098497|2.53634673796914|  1.37815522427443| -0.338320769942518|  0.462387777762292|  0.239598554061257|0.0986979012610507| 0.363786969611213| 0.0907941719789316|-0.551599533260813|-0.617800855762348|-0.991389847235408|-0.311169353699879|  1.46817697209427|-0.470400525259478| 0.207971241929242| 0.0257905801985591| 0.403992960255733|  0.251412098239705|  -0.018306777944153|  0.277837575558899|-0.110473910188767|0.0669280749146731| 0.128539358273528|-0.189114843888824|   0.133558376740387|-0.0210530534538215|149.62|    0|[0.0,-1.359807133...|[0.0,-0.694241102...|\n",
      "| 0.0|  1.19185711131486|   0.26615071205963|0.16648011335321| 0.448154078460911| 0.0600176492822243|-0.0823608088155687|-0.0788029833323113|0.0851016549148104|-0.255425128109186| -0.166974414004614|  1.61272666105479|  1.06523531137287|  0.48909501589608|-0.143772296441519| 0.635558093258208| 0.463917041022171|-0.114804663102346| -0.183361270123994|-0.145783041325259|-0.0690831352230203|  -0.225775248033138| -0.638671952771851| 0.101288021253234|-0.339846475529127| 0.167170404418143| 0.125894532368176|-0.00898309914322813| 0.0147241691924927|  2.69|    0|[0.0,1.1918571113...|[0.0,0.6084952594...|\n",
      "| 1.0| -1.35835406159823|  -1.34016307473609|1.77320934263119| 0.379779593034328| -0.503198133318193|   1.80049938079263|  0.791460956450422| 0.247675786588991| -1.51465432260583|  0.207642865216696| 0.624501459424895| 0.066083685268831| 0.717292731410831|-0.165945922763554|  2.34586494901581| -2.89008319444231|  1.10996937869599| -0.121359313195888| -2.26185709530414|  0.524979725224404|   0.247998153469754|  0.771679401917229| 0.909412262347719|-0.689280956490685|-0.327641833735251|-0.139096571514147| -0.0553527940384261|-0.0597518405929204|378.66|    0|[1.0,-1.358354061...|[2.10578867609768...|\n",
      "| 1.0|-0.966271711572087| -0.185226008082898|1.79299333957872|-0.863291275036453|-0.0103088796030823|   1.24720316752486|   0.23760893977178| 0.377435874652262| -1.38702406270197|-0.0549519224713749|-0.226487263835401| 0.178228225877303| 0.507756869957169| -0.28792374549456|-0.631418117709045|  -1.0596472454325|-0.684092786345479|   1.96577500349538|  -1.2326219700892| -0.208037781160366|  -0.108300452035545|0.00527359678253453|-0.190320518742841| -1.17557533186321| 0.647376034602038|-0.221928844458407|  0.0627228487293033| 0.0614576285006353| 123.5|    0|[1.0,-0.966271711...|[2.10578867609768...|\n",
      "| 2.0| -1.15823309349523|  0.877736754848451|  1.548717846511| 0.403033933955121| -0.407193377311653| 0.0959214624684256|  0.592940745385545|-0.270532677192282| 0.817739308235294|  0.753074431976354|-0.822842877946363|  0.53819555014995|   1.3458515932154| -1.11966983471731| 0.175121130008994|-0.451449182813529|-0.237033239362776|-0.0381947870352842| 0.803486924960175|  0.408542360392758|-0.00943069713232919|   0.79827849458971|-0.137458079619063| 0.141266983824769|-0.206009587619756| 0.502292224181569|   0.219422229513348|  0.215153147499206| 69.99|    0|[2.0,-1.158233093...|[4.21157735219537...|\n",
      "+----+------------------+-------------------+----------------+------------------+-------------------+-------------------+-------------------+------------------+------------------+-------------------+------------------+------------------+------------------+------------------+------------------+------------------+------------------+-------------------+------------------+-------------------+--------------------+-------------------+------------------+------------------+------------------+------------------+--------------------+-------------------+------+-----+--------------------+--------------------+\n",
      "only showing top 5 rows\n",
      "\n"
     ]
    }
   ],
   "execution_count": 42
  },
  {
   "cell_type": "markdown",
   "id": "8d5264904d4b48c2",
   "metadata": {},
   "source": [
    "## Handling Class imbalance\n",
    "From the class distribution, we can see that the dataset is highly imbalanced. The number of non-fraudulent transactions is much higher than the number of fraudulent transactions. For our model to learn effectively, we need to balance the classes.  \n",
    "This can be done in two ways:\n",
    "1. **Undersampling**: In this method, we randomly sample the majority class to match the minority class. This can lead to loss of information.\n",
    "2. **Oversampling**: In this method, we randomly duplicate the minority class to match the majority class. This can lead to overfitting.\n",
    "\n",
    "With this dataset, we will use the undersampling method as the dataset is large enough to not lose much information."
   ]
  },
  {
   "cell_type": "code",
   "id": "7d371a1828311300",
   "metadata": {
    "ExecuteTime": {
     "end_time": "2024-12-07T03:30:18.666153Z",
     "start_time": "2024-12-07T03:30:17.251619Z"
    }
   },
   "source": [
    "from pyspark.sql.functions import col\n",
    "\n",
    "# Assuming your original DataFrame is named 'df' and the class column is named 'Class'\n",
    "\n",
    "# Separate the DataFrame into two classes\n",
    "class_0 = df_scaled.filter(col(\"Class\") == 0)\n",
    "class_1 = df_scaled.filter(col(\"Class\") == 1)\n",
    "\n",
    "# Calculate the number of rows to sample from each class\n",
    "rows_per_class = 300\n",
    "\n",
    "# Sample from each class\n",
    "class_0_sampled = class_0.sample(withReplacement=True, fraction=rows_per_class/class_0.count(), seed=42)\n",
    "class_1_sampled = class_1.sample(withReplacement=True, fraction=rows_per_class/class_1.count(), seed=42)\n",
    "\n",
    "# Union the sampled DataFrames\n",
    "df_balanced = class_0_sampled.union(class_1_sampled)\n",
    "\n",
    "# Verify the balance and total count\n",
    "print(df_balanced.groupBy(\"Class\").count().show())\n",
    "print(f\"Total rows: {df_balanced.count()}\")"
   ],
   "outputs": [
    {
     "name": "stdout",
     "output_type": "stream",
     "text": [
      "+-----+-----+\n",
      "|Class|count|\n",
      "+-----+-----+\n",
      "|    0|  310|\n",
      "|    1|  306|\n",
      "+-----+-----+\n",
      "\n",
      "None\n",
      "Total rows: 616\n"
     ]
    }
   ],
   "execution_count": 43
  },
  {
   "cell_type": "markdown",
   "id": "550e8e42c53cf389",
   "metadata": {},
   "source": [
    "# Splitting the dataset\n",
    "Now that we have completed the preprocessing steps, we can split the dataset into training and testing sets."
   ]
  },
  {
   "cell_type": "code",
   "id": "2493b14a53b83940",
   "metadata": {
    "ExecuteTime": {
     "end_time": "2024-12-07T03:30:29.892817Z",
     "start_time": "2024-12-07T03:30:19.018287Z"
    }
   },
   "source": [
    "train_df, test_df = df_balanced.randomSplit([0.8, 0.2], seed=42)\n",
    "print(f\"Training set size: {train_df.count()}\")\n",
    "print(f\"Testing set size: {test_df.count()}\")"
   ],
   "outputs": [
    {
     "name": "stderr",
     "output_type": "stream",
     "text": [
      "                                                                                \r"
     ]
    },
    {
     "name": "stdout",
     "output_type": "stream",
     "text": [
      "Training set size: 495\n"
     ]
    },
    {
     "name": "stderr",
     "output_type": "stream",
     "text": [
      "[Stage 35:============================>                            (8 + 8) / 16]\r"
     ]
    },
    {
     "name": "stdout",
     "output_type": "stream",
     "text": [
      "Testing set size: 121\n"
     ]
    },
    {
     "name": "stderr",
     "output_type": "stream",
     "text": [
      "                                                                                \r"
     ]
    }
   ],
   "execution_count": 44
  },
  {
   "cell_type": "code",
   "id": "ef8c4519459fd46c",
   "metadata": {
    "ExecuteTime": {
     "end_time": "2024-12-07T03:30:30.150902Z",
     "start_time": "2024-12-07T03:30:29.991482Z"
    }
   },
   "source": [
    "train_df.show(5)"
   ],
   "outputs": [
    {
     "name": "stdout",
     "output_type": "stream",
     "text": [
      "+------+------------------+------------------+-----------------+-----------------+------------------+------------------+------------------+-------------------+------------------+------------------+------------------+-----------------+-------------------+-------------------+------------------+------------------+------------------+------------------+------------------+-------------------+------------------+-------------------+-------------------+------------------+------------------+------------------+------------------+-------------------+------+-----+--------------------+--------------------+\n",
      "|  Time|                V1|                V2|               V3|               V4|                V5|                V6|                V7|                 V8|                V9|               V10|               V11|              V12|                V13|                V14|               V15|               V16|               V17|               V18|               V19|                V20|               V21|                V22|                V23|               V24|               V25|               V26|               V27|                V28|Amount|Class|            features|     scaled_features|\n",
      "+------+------------------+------------------+-----------------+-----------------+------------------+------------------+------------------+-------------------+------------------+------------------+------------------+-----------------+-------------------+-------------------+------------------+------------------+------------------+------------------+------------------+-------------------+------------------+-------------------+-------------------+------------------+------------------+------------------+------------------+-------------------+------+-----+--------------------+--------------------+\n",
      "| 438.0|  1.49157444507907| -1.08827774578249|0.552852185683537|-1.28987581402804|  -1.3911751964492|-0.101768023435742| -1.15664300430175|-0.0230635565138028| -1.70601176014174|  1.41957718046288| 0.625897342457765|0.472241371564773|   1.26293974106323|  -0.77693760701487|  -1.5932258431788|-0.735048174778916|  0.55489609800527|  0.20306388976264| 0.558620125146135| -0.294561898487213|-0.224230675924601|0.00861080062966983|-0.0907429742158667|0.0451209717941793| 0.593903444238596|-0.100271293960137|0.0521030802721503|0.00453738964770142|   2.0|    0|[438.0,1.49157444...|[0.00922335440130...|\n",
      "| 852.0|  1.11542024035567| 0.209019924388212| 1.34139597402623| 2.45426291068798|-0.571866426610023| 0.575579474784753|-0.671756644000377|  0.310693000849874|-0.218026973604591|  0.73056817173233| 0.514610844971399|0.546614483000198|-0.0605178836296205| -0.109138798964183|-0.520972207203376|  1.08538248443906|-0.937939971740382| 0.692664450134599|-0.647282586522918| -0.139266599299426|  0.13145270406141|  0.456617949894901|-0.0967909415984653|0.0155172772683859| 0.403840808003605| 0.110205347928504|0.0337081025361049| 0.0202637574140915|   1.0|    0|[852.0,1.11542024...|[0.01794131952035...|\n",
      "|1453.0|  1.21118896828414|0.0130527054875513|0.955713747902794| 1.13932558464049|-0.494404954908354| 0.294583815455375|-0.512568106805069| 0.0896410126741855| 0.807282383794656|-0.228232365366195| -1.37963641798337|0.704815412059719|   1.11724623716423| -0.596066675818075| 0.136072258951429| 0.278005221086633|-0.605892589448629|0.0954205023288283|0.0977713480984259|-0.0460868831981525|-0.106273279325206| -0.050231750995579| -0.120294318131453|-0.432068872592355| 0.557991909075449|-0.359828377030587|0.0774758603840806| 0.0318287555200894|  9.99|    0|[1453.0,1.2111889...|[0.03059710946369...|\n",
      "|2073.0| 0.522994541262816| -1.00979562754354| 1.05036281182913|  1.6549135841489| -1.09406964050307| 0.665222451764119|-0.363137918952928|  0.330897867230617| 0.690073381166367| -0.19835098190696|  1.09015689594322| 1.22926875254959|  -0.53078056016774|-0.0957901273006895|-0.848522783360355|-0.264926167442816|0.0883136245470977|-0.238479260609025|-0.261229973202997|  0.345842585517066|0.0722909499430062| -0.154660470140684| -0.172440255404692| 0.222144649679655| 0.190370157455016|-0.468311797465832|0.0311534192989059| 0.0707603245145789| 278.0|    0|[2073.0,0.5229945...|[0.04365299925550...|\n",
      "|3274.0|-0.468307438403089| 0.511771136314763| 1.45909733568491|0.419291229044653| 0.233764259546629|-0.972150611173377| 0.480463862154079| -0.159531564003773|-0.609091997842662| -0.30589632491069|-0.315429672411804|0.331297914442542|  0.923895505052977| 0.0587996365035346|  1.02880889497228|-0.165838091546808|-0.182002775462262|-0.167742872965658| 0.626596648320797|  0.231244245442811| 0.110011040927497|   0.24608794040698| 0.0473225361806183| 0.451360709357561|-0.522285160427013|  0.40150191278213|  0.10601906141272|  0.167365049723082|  26.8|    0|[3274.0,-0.468307...|[0.06894352125543...|\n",
      "+------+------------------+------------------+-----------------+-----------------+------------------+------------------+------------------+-------------------+------------------+------------------+------------------+-----------------+-------------------+-------------------+------------------+------------------+------------------+------------------+------------------+-------------------+------------------+-------------------+-------------------+------------------+------------------+------------------+------------------+-------------------+------+-----+--------------------+--------------------+\n",
      "only showing top 5 rows\n",
      "\n"
     ]
    }
   ],
   "execution_count": 45
  },
  {
   "cell_type": "code",
   "id": "ca130022cbd513c2",
   "metadata": {
    "ExecuteTime": {
     "end_time": "2024-12-07T03:30:33.925704Z",
     "start_time": "2024-12-07T03:30:30.178296Z"
    }
   },
   "source": [
    "# Import the Random Forest Classifier\n",
    "from pyspark.ml.classification import RandomForestClassifier\n",
    "from pyspark.ml.evaluation import BinaryClassificationEvaluator\n",
    "\n",
    "# Create a Random Forest Classifier\n",
    "rf = RandomForestClassifier(featuresCol=\"scaled_features\", labelCol=\"Class\")\n",
    "model = rf.fit(train_df)"
   ],
   "outputs": [
    {
     "name": "stderr",
     "output_type": "stream",
     "text": [
      "                                                                                \r"
     ]
    }
   ],
   "execution_count": 46
  },
  {
   "cell_type": "code",
   "id": "589e3e8c3991256e",
   "metadata": {
    "ExecuteTime": {
     "end_time": "2024-12-07T03:30:34.009860Z",
     "start_time": "2024-12-07T03:30:33.973625Z"
    }
   },
   "source": [
    "# Make predictions on the test set\n",
    "import time\n",
    "start_time = time.perf_counter()\n",
    "predictions = model.transform(test_df)\n",
    "end_time = time.perf_counter()\n",
    "print(f\"Time taken: {end_time - start_time:.6f} seconds\")"
   ],
   "outputs": [
    {
     "name": "stdout",
     "output_type": "stream",
     "text": [
      "Time taken: 0.034135 seconds\n"
     ]
    }
   ],
   "execution_count": 47
  },
  {
   "cell_type": "code",
   "id": "55ac43642482d48a",
   "metadata": {
    "ExecuteTime": {
     "end_time": "2024-12-07T03:30:34.843912Z",
     "start_time": "2024-12-07T03:30:34.121919Z"
    }
   },
   "source": [
    "# Evaluate the model\n",
    "evaluator = BinaryClassificationEvaluator(labelCol=\"Class\")\n",
    "accuracy = evaluator.evaluate(predictions)\n",
    "print(f\"Accuracy: {accuracy}\")"
   ],
   "outputs": [
    {
     "name": "stdout",
     "output_type": "stream",
     "text": [
      "Accuracy: 0.9810479375696766\n"
     ]
    }
   ],
   "execution_count": 48
  },
  {
   "cell_type": "code",
   "id": "90863a583c58b981",
   "metadata": {
    "ExecuteTime": {
     "end_time": "2024-12-07T03:30:35.190617Z",
     "start_time": "2024-12-07T03:30:34.970513Z"
    }
   },
   "source": [
    "predictions.show(5)"
   ],
   "outputs": [
    {
     "name": "stdout",
     "output_type": "stream",
     "text": [
      "+-------+------------------+------------------+------------------+--------------------+------------------+------------------+------------------+------------------+------------------+------------------+------------------+-------------------+-------------------+-----------------+------------------+------------------+------------------+------------------+-------------------+--------------------+-------------------+------------------+------------------+-------------------+-------------------+------------------+-------------------+-------------------+------+-----+--------------------+--------------------+--------------------+--------------------+----------+\n",
      "|   Time|                V1|                V2|                V3|                  V4|                V5|                V6|                V7|                V8|                V9|               V10|               V11|                V12|                V13|              V14|               V15|               V16|               V17|               V18|                V19|                 V20|                V21|               V22|               V23|                V24|                V25|               V26|                V27|                V28|Amount|Class|            features|     scaled_features|       rawPrediction|         probability|prediction|\n",
      "+-------+------------------+------------------+------------------+--------------------+------------------+------------------+------------------+------------------+------------------+------------------+------------------+-------------------+-------------------+-----------------+------------------+------------------+------------------+------------------+-------------------+--------------------+-------------------+------------------+------------------+-------------------+-------------------+------------------+-------------------+-------------------+------+-----+--------------------+--------------------+--------------------+--------------------+----------+\n",
      "| 1262.0|-0.775745964986608|  1.23331540668535|  1.17514020498199|  0.0217495893054307|-0.459395526500761|-0.939045723656624| 0.371005825177965| 0.377351688387155|-0.513174174676558|-0.537120211937981|-0.608871538895669|-0.0885839930283545|  -0.27374737558503|0.532976031392888|  0.85021702704004| 0.340281706909822|-0.204305959193942|-0.263701370932871|0.00754341346658807|-0.00427653900282531| -0.181231763725979| -0.63671019735033|0.0721710362540743|  0.353535901656968|  -0.17652227405947|0.0743821593016748|  0.132539011684536| 0.0583103966263006| 17.99|    0|[1262.0,-0.775745...|[0.02657505309235...|[19.1256059604748...|[0.95628029802374...|       0.0|\n",
      "| 3870.0|-0.457952437675857| 0.872416688023329|  1.21655875220556|  -0.191671890557764|-0.228808294687354|-0.654084705331068| 0.337360846589232|-0.377114928568694|-0.647167171032324| 0.615939964550963|  1.43614499847955|  -2.80300693220691|   2.76407167087916| 1.30199004221035|  0.56670546088968|-0.515981830558397|   2.1026888593819| -1.65574545382123|    1.7407585038997|    0.41806236621791|  0.169236797056003| 0.835116999187986|-0.248642261862619|  0.423839749981191|  0.130708034960105|  0.10581937828942| 0.0668999311015676|  0.169464521420035|  15.0|    0|[3870.0,-0.457952...|[0.08149402176498...|[10.6365659344076...|[0.53182829672038...|       0.0|\n",
      "| 4697.0| -1.84313598672782|  2.30402367117052|  2.42055064719365|    2.72857637088459|-0.869914839249923| 0.890386049944332|-0.739692689605069| 0.791487788452528| 0.854972680871306|  1.29167515778398| 0.646895525002074|  -2.34314804769785|   2.81792480672141| 1.08270594505954|  1.33949281324542| 0.223423227422209| 0.824734414823276| 0.526294620282917| -0.290597665945749|   0.696469173776583| 0.0522594263625812| 0.756316368408623|-0.137511110055468| 0.0469355109356547|  0.177735988910421| 0.422386200411485|  0.674660338554333|  0.334472896817838|  4.87|    0|[4697.0,-1.843135...|[0.09890889411630...|[14.3673523623303...|[0.71836761811651...|       0.0|\n",
      "|23776.0|  1.19874549983601|-0.136702748486184| 0.702861980488297|-0.00618017597923728|-0.629539228063805|-0.230444485601355|-0.598430117751859| 0.136775648618997|  1.68042871153697|-0.407416656015288|  2.34350511048897|  -2.43440876505892|-0.0739487988785673| 2.13563490903732|  0.25588663299718| 0.362335849871668| 0.495309731023187| 0.114124554579608| -0.231553644455778|  -0.240952579155229| -0.225100510175175|-0.474209141777424| 0.146015705624865|-0.0407806059709658|-0.0674533934571721| 0.884566276495251|-0.0961081419900434|-0.0144091031651766|  2.31|    0|[23776.0,1.198745...|[0.50067231562898...|[18.5270465434478...|[0.92635232717239...|       0.0|\n",
      "|30094.0|   1.3234879228066|-0.390540305445468|0.0631114493217064|  -0.362267726821692|-0.888375311520809| -1.06527970404966|-0.398620997769489|-0.220412568697128|-0.666501455758075| 0.101356904585715|-0.102436737368949| -0.473190602700982|  0.286904143826046|-1.39854659364737|0.0383676937523262|  1.10232300179455|  1.29601880462524| -1.27589805558534|  0.654465228687493|   0.172945429124044|-0.0574377792256823|-0.206003862270301|-0.043587269087225|   0.33238994742348|  0.472669633254966|-0.305956999276218| 0.0172378083221688| 0.0445506077385351| 45.87|    0|[30094.0,1.323487...|[0.63371604418483...|[17.2623430946995...|[0.86311715473497...|       0.0|\n",
      "+-------+------------------+------------------+------------------+--------------------+------------------+------------------+------------------+------------------+------------------+------------------+------------------+-------------------+-------------------+-----------------+------------------+------------------+------------------+------------------+-------------------+--------------------+-------------------+------------------+------------------+-------------------+-------------------+------------------+-------------------+-------------------+------+-----+--------------------+--------------------+--------------------+--------------------+----------+\n",
      "only showing top 5 rows\n",
      "\n"
     ]
    }
   ],
   "execution_count": 49
  },
  {
   "cell_type": "code",
   "id": "3395c97e6b459511",
   "metadata": {
    "ExecuteTime": {
     "end_time": "2024-12-07T03:30:36.288588Z",
     "start_time": "2024-12-07T03:30:35.216126Z"
    }
   },
   "source": [
    "# Plot ROC curve\n",
    "import matplotlib.pyplot as plt\n",
    "from sklearn.metrics import roc_curve, auc\n",
    "\n",
    "# Convert the predictions to a Pandas DataFrame\n",
    "predictions_df = predictions.select('Class', 'probability').toPandas()\n",
    "\n",
    "# Get the false positive rate and true positive rate\n",
    "fpr, tpr, _ = roc_curve(predictions_df['Class'], predictions_df['probability'].apply(lambda x: x[1]))\n",
    "\n",
    "# Calculate the AUC\n",
    "roc_auc = auc(fpr, tpr)\n",
    "\n",
    "# Plot the ROC curve\n",
    "plt.figure()\n",
    "plt.plot(fpr, tpr, color='darkorange', lw=1, label=f'ROC curve (area = {roc_auc:.2f})')\n",
    "plt.xlim([0.0, 1.0])\n",
    "plt.ylim([0.0, 1.05])\n",
    "plt.xlabel('False Positive Rate')\n",
    "plt.ylabel('True Positive Rate')\n",
    "plt.title('Receiver Operating Characteristic')\n",
    "plt.legend(loc=\"lower right\")\n",
    "plt.show()"
   ],
   "outputs": [
    {
     "name": "stderr",
     "output_type": "stream",
     "text": [
      "                                                                                \r"
     ]
    },
    {
     "data": {
      "text/plain": [
       "<Figure size 640x480 with 1 Axes>"
      ],
      "image/png": "[encoded data removed]"
     },
     "metadata": {},
     "output_type": "display_data"
    }
   ],
   "execution_count": 50
  },
  {
   "cell_type": "markdown",
   "id": "8f86894b4d1a6123",
   "metadata": {},
   "source": [
    "# Save the model\n",
    "Now that we have trained the model, we can save it for future use. This will come in handy when we want to make predictions on new data or introduce streaming data."
   ]
  },
  {
   "cell_type": "code",
   "id": "56be5f10e935de6d",
   "metadata": {
    "ExecuteTime": {
     "end_time": "2024-12-07T03:30:36.917807Z",
     "start_time": "2024-12-07T03:30:36.317959Z"
    }
   },
   "source": "model.write().overwrite().save('models/credit_card_fraud_detection_model')",
   "outputs": [],
   "execution_count": 51
  },
  {
   "cell_type": "code",
   "id": "8edbe307c209295a",
   "metadata": {
    "ExecuteTime": {
     "end_time": "2024-12-07T03:30:37.289295Z",
     "start_time": "2024-12-07T03:30:36.930830Z"
    }
   },
   "source": [
    "# Stop the Spark session\n",
    "spark.stop()"
   ],
   "outputs": [],
   "execution_count": 52
  }
 ],
 "metadata": {
  "kernelspec": {
   "display_name": "base",
   "language": "python",
   "name": "python3"
  },
  "language_info": {
   "codemirror_mode": {
    "name": "ipython",
    "version": 3
   },
   "file_extension": ".py",
   "mimetype": "text/x-python",
   "name": "python",
   "nbconvert_exporter": "python",
   "pygments_lexer": "ipython3",
   "version": "3.11.0"
  }
 },
 "nbformat": 4,
 "nbformat_minor": 5
}
